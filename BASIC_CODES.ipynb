{
 "cells": [
  {
   "cell_type": "markdown",
   "id": "908ace3e",
   "metadata": {},
   "source": [
    "# This is the First Session"
   ]
  },
  {
   "cell_type": "code",
   "execution_count": 3,
   "id": "772f28a7",
   "metadata": {},
   "outputs": [
    {
     "ename": "SyntaxError",
     "evalue": "invalid syntax (2886984628.py, line 1)",
     "output_type": "error",
     "traceback": [
      "\u001b[1;36m  Input \u001b[1;32mIn [3]\u001b[1;36m\u001b[0m\n\u001b[1;33m    Let Begin with some data in python\u001b[0m\n\u001b[1;37m        ^\u001b[0m\n\u001b[1;31mSyntaxError\u001b[0m\u001b[1;31m:\u001b[0m invalid syntax\n"
     ]
    }
   ],
   "source": [
    "Let Begin with some data in python"
   ]
  },
  {
   "cell_type": "code",
   "execution_count": 5,
   "id": "2830e015",
   "metadata": {},
   "outputs": [
    {
     "name": "stdout",
     "output_type": "stream",
     "text": [
      "Hello world\n"
     ]
    }
   ],
   "source": [
    "print ('Hello world')"
   ]
  },
  {
   "cell_type": "code",
   "execution_count": 6,
   "id": "6b83d727",
   "metadata": {},
   "outputs": [
    {
     "name": "stdout",
     "output_type": "stream",
     "text": [
      "My Name: Nashat\n"
     ]
    },
    {
     "data": {
      "text/plain": [
       "'Nashat'"
      ]
     },
     "execution_count": 6,
     "metadata": {},
     "output_type": "execute_result"
    }
   ],
   "source": [
    "input(\"My Name: \")"
   ]
  },
  {
   "cell_type": "code",
   "execution_count": 7,
   "id": "8604208b",
   "metadata": {},
   "outputs": [],
   "source": [
    "import os"
   ]
  },
  {
   "cell_type": "code",
   "execution_count": 8,
   "id": "e0b93c7a",
   "metadata": {},
   "outputs": [
    {
     "data": {
      "text/plain": [
       "'D:\\\\Newfolder'"
      ]
     },
     "execution_count": 8,
     "metadata": {},
     "output_type": "execute_result"
    }
   ],
   "source": [
    "os.getcwd()"
   ]
  },
  {
   "cell_type": "code",
   "execution_count": 9,
   "id": "8f4fc7c4",
   "metadata": {},
   "outputs": [],
   "source": [
    "l1=[45,65,34,1]"
   ]
  },
  {
   "cell_type": "code",
   "execution_count": 10,
   "id": "ab38ee3b",
   "metadata": {},
   "outputs": [
    {
     "data": {
      "text/plain": [
       "1"
      ]
     },
     "execution_count": 10,
     "metadata": {},
     "output_type": "execute_result"
    }
   ],
   "source": [
    "l1[3]"
   ]
  },
  {
   "cell_type": "code",
   "execution_count": 11,
   "id": "d469aa26",
   "metadata": {},
   "outputs": [],
   "source": [
    "l2=[45,2,1,6]"
   ]
  },
  {
   "cell_type": "code",
   "execution_count": 12,
   "id": "2c4b3696",
   "metadata": {},
   "outputs": [
    {
     "data": {
      "text/plain": [
       "[45, 65, 34, 1, 45, 2, 1, 6]"
      ]
     },
     "execution_count": 12,
     "metadata": {},
     "output_type": "execute_result"
    }
   ],
   "source": [
    "l1+l2\n"
   ]
  },
  {
   "cell_type": "code",
   "execution_count": 15,
   "id": "97f96fad",
   "metadata": {},
   "outputs": [
    {
     "data": {
      "text/plain": [
       "[45, 65, 34, 1, 45, 65, 34, 1, 45, 65, 34, 1, 45, 65, 34, 1]"
      ]
     },
     "execution_count": 15,
     "metadata": {},
     "output_type": "execute_result"
    }
   ],
   "source": [
    "l1*4"
   ]
  },
  {
   "cell_type": "markdown",
   "id": "afe82693",
   "metadata": {},
   "source": [
    "l1[3]=25\n",
    "l1"
   ]
  },
  {
   "cell_type": "code",
   "execution_count": 16,
   "id": "0e0aee03",
   "metadata": {},
   "outputs": [
    {
     "data": {
      "text/plain": [
       "[45, 65, 34, 25]"
      ]
     },
     "execution_count": 16,
     "metadata": {},
     "output_type": "execute_result"
    }
   ],
   "source": [
    "l1[3]=25\n",
    "l1"
   ]
  },
  {
   "cell_type": "code",
   "execution_count": 17,
   "id": "baee6bb9",
   "metadata": {},
   "outputs": [
    {
     "data": {
      "text/plain": [
       "True"
      ]
     },
     "execution_count": 17,
     "metadata": {},
     "output_type": "execute_result"
    }
   ],
   "source": [
    "45 in l1"
   ]
  },
  {
   "cell_type": "code",
   "execution_count": 18,
   "id": "6d32e009",
   "metadata": {},
   "outputs": [
    {
     "data": {
      "text/plain": [
       "False"
      ]
     },
     "execution_count": 18,
     "metadata": {},
     "output_type": "execute_result"
    }
   ],
   "source": [
    "6665 in l1"
   ]
  },
  {
   "cell_type": "code",
   "execution_count": 19,
   "id": "7e5e6093",
   "metadata": {},
   "outputs": [],
   "source": [
    "t1=(56,78,31)"
   ]
  },
  {
   "cell_type": "code",
   "execution_count": 21,
   "id": "501860b9",
   "metadata": {},
   "outputs": [
    {
     "data": {
      "text/plain": [
       "56"
      ]
     },
     "execution_count": 21,
     "metadata": {},
     "output_type": "execute_result"
    }
   ],
   "source": [
    "t1[0]"
   ]
  },
  {
   "cell_type": "code",
   "execution_count": 22,
   "id": "c7d8bb62",
   "metadata": {},
   "outputs": [
    {
     "ename": "TypeError",
     "evalue": "'tuple' object does not support item assignment",
     "output_type": "error",
     "traceback": [
      "\u001b[1;31m---------------------------------------------------------------------------\u001b[0m",
      "\u001b[1;31mTypeError\u001b[0m                                 Traceback (most recent call last)",
      "Input \u001b[1;32mIn [22]\u001b[0m, in \u001b[0;36m<cell line: 1>\u001b[1;34m()\u001b[0m\n\u001b[1;32m----> 1\u001b[0m t1[\u001b[38;5;241m0\u001b[39m]\u001b[38;5;241m=\u001b[39m\u001b[38;5;241m89\u001b[39m\n",
      "\u001b[1;31mTypeError\u001b[0m: 'tuple' object does not support item assignment"
     ]
    }
   ],
   "source": [
    "t1[0]=89"
   ]
  },
  {
   "cell_type": "code",
   "execution_count": 23,
   "id": "badea698",
   "metadata": {},
   "outputs": [],
   "source": [
    "a='hello all hola toda'"
   ]
  },
  {
   "cell_type": "code",
   "execution_count": 24,
   "id": "b747a2be",
   "metadata": {},
   "outputs": [
    {
     "data": {
      "text/plain": [
       "'HELLO ALL HOLA TODA'"
      ]
     },
     "execution_count": 24,
     "metadata": {},
     "output_type": "execute_result"
    }
   ],
   "source": [
    "a.upper()"
   ]
  },
  {
   "cell_type": "code",
   "execution_count": 25,
   "id": "e2155549",
   "metadata": {},
   "outputs": [
    {
     "data": {
      "text/plain": [
       "'hello all hola toda'"
      ]
     },
     "execution_count": 25,
     "metadata": {},
     "output_type": "execute_result"
    }
   ],
   "source": [
    "a.lower()"
   ]
  },
  {
   "cell_type": "code",
   "execution_count": 26,
   "id": "8cf239cf",
   "metadata": {},
   "outputs": [
    {
     "data": {
      "text/plain": [
       "['hello', 'all', 'hola', 'toda']"
      ]
     },
     "execution_count": 26,
     "metadata": {},
     "output_type": "execute_result"
    }
   ],
   "source": [
    "a.split()"
   ]
  },
  {
   "cell_type": "code",
   "execution_count": 32,
   "id": "b209f777",
   "metadata": {},
   "outputs": [
    {
     "data": {
      "text/plain": [
       "str"
      ]
     },
     "execution_count": 32,
     "metadata": {},
     "output_type": "execute_result"
    }
   ],
   "source": [
    "a='Nashat Ali'\n",
    "b=\"NASHAT\"\n",
    "c=\"\"\"Md Nashat Ali\"\"\"\n",
    "type(c)"
   ]
  },
  {
   "cell_type": "code",
   "execution_count": 33,
   "id": "d935174c",
   "metadata": {},
   "outputs": [],
   "source": [
    "a=8.6\n",
    "b=6"
   ]
  },
  {
   "cell_type": "code",
   "execution_count": 34,
   "id": "adfd9231",
   "metadata": {},
   "outputs": [
    {
     "data": {
      "text/plain": [
       "float"
      ]
     },
     "execution_count": 34,
     "metadata": {},
     "output_type": "execute_result"
    }
   ],
   "source": [
    "type(a)"
   ]
  },
  {
   "cell_type": "code",
   "execution_count": 35,
   "id": "c8f66a3c",
   "metadata": {},
   "outputs": [
    {
     "data": {
      "text/plain": [
       "int"
      ]
     },
     "execution_count": 35,
     "metadata": {},
     "output_type": "execute_result"
    }
   ],
   "source": [
    "type(b)"
   ]
  },
  {
   "cell_type": "code",
   "execution_count": 36,
   "id": "a629dcd6",
   "metadata": {},
   "outputs": [
    {
     "name": "stdout",
     "output_type": "stream",
     "text": [
      "Hello World:)"
     ]
    }
   ],
   "source": [
    "print(\"Hello\",\"World\",end=\":)\")"
   ]
  },
  {
   "cell_type": "code",
   "execution_count": 38,
   "id": "b890530f",
   "metadata": {},
   "outputs": [
    {
     "name": "stdout",
     "output_type": "stream",
     "text": [
      "Hello_World\n"
     ]
    }
   ],
   "source": [
    "print(\"Hello\",\"World\",sep=\"_\")"
   ]
  },
  {
   "cell_type": "code",
   "execution_count": 39,
   "id": "74f496af",
   "metadata": {},
   "outputs": [
    {
     "name": "stdout",
     "output_type": "stream",
     "text": [
      "Hello\n",
      "World\n"
     ]
    }
   ],
   "source": [
    "print(\"\"\"Hello\n",
    "World\"\"\")"
   ]
  },
  {
   "cell_type": "code",
   "execution_count": 40,
   "id": "dfd7d90d",
   "metadata": {},
   "outputs": [
    {
     "name": "stdout",
     "output_type": "stream",
     "text": [
      "My name is Bond\n"
     ]
    }
   ],
   "source": [
    "name=\"Bond\"\n",
    "print(\"My name is %s\"%name)"
   ]
  },
  {
   "cell_type": "code",
   "execution_count": 41,
   "id": "9770d962",
   "metadata": {},
   "outputs": [
    {
     "name": "stdout",
     "output_type": "stream",
     "text": [
      "My name is Bond and age is 30 years\n"
     ]
    }
   ],
   "source": [
    "name=\"Bond\"\n",
    "age=30\n",
    "print(\"My name is %s and age is %d years\" %(name,age))"
   ]
  },
  {
   "cell_type": "code",
   "execution_count": 43,
   "id": "13b1ce1e",
   "metadata": {},
   "outputs": [
    {
     "name": "stdout",
     "output_type": "stream",
     "text": [
      "What is your name?Nashat\n"
     ]
    },
    {
     "data": {
      "text/plain": [
       "'Nashat'"
      ]
     },
     "execution_count": 43,
     "metadata": {},
     "output_type": "execute_result"
    }
   ],
   "source": [
    "input(\"What is your name?\")"
   ]
  },
  {
   "cell_type": "code",
   "execution_count": 46,
   "id": "8bee553f",
   "metadata": {},
   "outputs": [
    {
     "name": "stdout",
     "output_type": "stream",
     "text": [
      "What is your score?65\n"
     ]
    }
   ],
   "source": [
    "score=int(input(\"What is your score?\"))"
   ]
  },
  {
   "cell_type": "code",
   "execution_count": 47,
   "id": "0a9c7e2b",
   "metadata": {},
   "outputs": [
    {
     "data": {
      "text/plain": [
       "65"
      ]
     },
     "execution_count": 47,
     "metadata": {},
     "output_type": "execute_result"
    }
   ],
   "source": [
    "score"
   ]
  },
  {
   "cell_type": "code",
   "execution_count": 50,
   "id": "63db0b06",
   "metadata": {},
   "outputs": [
    {
     "name": "stdout",
     "output_type": "stream",
     "text": [
      "Give me Your Score5\n"
     ]
    },
    {
     "data": {
      "text/plain": [
       "25"
      ]
     },
     "execution_count": 50,
     "metadata": {},
     "output_type": "execute_result"
    }
   ],
   "source": [
    "x=eval(input('Give me Your Score'))\n",
    "eval(\"x**2\")"
   ]
  },
  {
   "cell_type": "code",
   "execution_count": 51,
   "id": "2d2aaebe",
   "metadata": {},
   "outputs": [
    {
     "name": "stdout",
     "output_type": "stream",
     "text": [
      "Enter expression to calculate10+50\n",
      "60\n",
      "<class 'int'>\n"
     ]
    }
   ],
   "source": [
    "eval1=eval(input(\"Enter expression to calculate\"))\n",
    "print(eval1)\n",
    "print(type(eval1))"
   ]
  },
  {
   "cell_type": "code",
   "execution_count": 52,
   "id": "3789cd94",
   "metadata": {},
   "outputs": [
    {
     "data": {
      "text/plain": [
       "26"
      ]
     },
     "execution_count": 52,
     "metadata": {},
     "output_type": "execute_result"
    }
   ],
   "source": [
    "a=23\n",
    "a+=3\n",
    "a"
   ]
  },
  {
   "cell_type": "code",
   "execution_count": 53,
   "id": "53229ce7",
   "metadata": {},
   "outputs": [
    {
     "data": {
      "text/plain": [
       "22"
      ]
     },
     "execution_count": 53,
     "metadata": {},
     "output_type": "execute_result"
    }
   ],
   "source": [
    "a-=4\n",
    "a"
   ]
  },
  {
   "cell_type": "code",
   "execution_count": 54,
   "id": "a9c5be25",
   "metadata": {},
   "outputs": [],
   "source": [
    "a=89\n",
    "b=90\n",
    "if a>b:\n",
    "    print(\"a is greater than b\")"
   ]
  },
  {
   "cell_type": "code",
   "execution_count": 55,
   "id": "9af21875",
   "metadata": {},
   "outputs": [
    {
     "name": "stdout",
     "output_type": "stream",
     "text": [
      "a is not greater than b\n"
     ]
    }
   ],
   "source": [
    "a=89\n",
    "b=90\n",
    "if a>b:\n",
    "    print(\"a is greater than b\")\n",
    "else:\n",
    "    print(\"a is not greater than b\")"
   ]
  },
  {
   "cell_type": "code",
   "execution_count": 58,
   "id": "26caa193",
   "metadata": {},
   "outputs": [
    {
     "name": "stdout",
     "output_type": "stream",
     "text": [
      "a is smaller than b\n"
     ]
    }
   ],
   "source": [
    "a=89\n",
    "b=90\n",
    "if a>b:\n",
    "    print(\"a is greater than b\")\n",
    "elif a==b:\n",
    "    print(\"a is eequal to b\")\n",
    "else:\n",
    "    print(\"a is smaller than b\")"
   ]
  },
  {
   "cell_type": "code",
   "execution_count": 62,
   "id": "24558513",
   "metadata": {},
   "outputs": [
    {
     "name": "stdout",
     "output_type": "stream",
     "text": [
      "What is your age?:75\n",
      "Senior Citizen\n"
     ]
    }
   ],
   "source": [
    "a=int(input(\"What is your age?:\"))\n",
    "if a<=18:\n",
    "    print(\"Teen\")\n",
    "elif a<=30:\n",
    "    print(\"Youth\")\n",
    "elif a<=60:\n",
    "    print(\"Adult\")\n",
    "else:\n",
    "    print(\"Senior Citizen\")"
   ]
  },
  {
   "cell_type": "code",
   "execution_count": 65,
   "id": "a8995edc",
   "metadata": {},
   "outputs": [
    {
     "name": "stdout",
     "output_type": "stream",
     "text": [
      "Contact Shyam Prasad\n"
     ]
    }
   ],
   "source": [
    "score= 39\n",
    "if score >=40:\n",
    "    if(score<50):\n",
    "        print('grade c')\n",
    "    elif(score<60):\n",
    "        print('grade b')\n",
    "    elif(score<75):\n",
    "        print('grade b+')\n",
    "    elif(score<90):\n",
    "        print('grade A')\n",
    "    else:\n",
    "        print('A+')\n",
    "else:\n",
    "    print('Contact Shyam Prasad')"
   ]
  },
  {
   "cell_type": "code",
   "execution_count": 66,
   "id": "abd9caa2",
   "metadata": {},
   "outputs": [
    {
     "name": "stdout",
     "output_type": "stream",
     "text": [
      "0\n",
      "1\n",
      "2\n",
      "3\n"
     ]
    }
   ],
   "source": [
    "n=4\n",
    "for i in range(0,n):\n",
    "    print(i)"
   ]
  },
  {
   "cell_type": "code",
   "execution_count": 67,
   "id": "b76398e0",
   "metadata": {},
   "outputs": [
    {
     "name": "stdout",
     "output_type": "stream",
     "text": [
      "the sum is 48\n"
     ]
    }
   ],
   "source": [
    "numbers=[6,5,3,8,4,2,5,4,11]\n",
    "sum=0\n",
    "for val in numbers:\n",
    "    sum=sum+val\n",
    "print(\"the sum is\", sum)"
   ]
  },
  {
   "cell_type": "code",
   "execution_count": 68,
   "id": "ba2d54d9",
   "metadata": {},
   "outputs": [
    {
     "name": "stdout",
     "output_type": "stream",
     "text": [
      "Enter a number: 5\n",
      "The factorial of 5 is 120\n"
     ]
    }
   ],
   "source": [
    "def factorial(n):\n",
    "    result = 1\n",
    "    for i in range(1, n + 1):\n",
    "        result *= i\n",
    "    return result\n",
    "\n",
    "number = int(input(\"Enter a number: \"))\n",
    "fact = factorial(number)\n",
    "print(\"The factorial of\", number, \"is\", fact)\n"
   ]
  },
  {
   "cell_type": "code",
   "execution_count": 73,
   "id": "840cc94e",
   "metadata": {},
   "outputs": [
    {
     "name": "stdout",
     "output_type": "stream",
     "text": [
      "6\n"
     ]
    }
   ],
   "source": [
    "n=(1,2,3)\n",
    "prod = 1\n",
    "\n",
    "for i in n:\n",
    "    prod = prod*i\n",
    "print(prod)"
   ]
  },
  {
   "cell_type": "code",
   "execution_count": 69,
   "id": "d3f118ef",
   "metadata": {},
   "outputs": [
    {
     "name": "stdout",
     "output_type": "stream",
     "text": [
      "1\n",
      "2\n",
      "3\n",
      "4\n",
      "5\n"
     ]
    }
   ],
   "source": [
    "i=1\n",
    "while i<=5:\n",
    "    print(i)\n",
    "    i+=1"
   ]
  },
  {
   "cell_type": "code",
   "execution_count": 74,
   "id": "577f8383",
   "metadata": {},
   "outputs": [
    {
     "name": "stdout",
     "output_type": "stream",
     "text": [
      "1\n",
      "2\n",
      "3\n",
      "4\n",
      "5\n",
      "6\n",
      "i is no longer less than 6\n"
     ]
    }
   ],
   "source": [
    "i=1\n",
    "while i <= 6:\n",
    "    print(i)\n",
    "    i+=1\n",
    "else:\n",
    "    print(\"i is no longer less than 6\")"
   ]
  },
  {
   "cell_type": "code",
   "execution_count": 75,
   "id": "dc761e17",
   "metadata": {},
   "outputs": [
    {
     "name": "stdout",
     "output_type": "stream",
     "text": [
      "1\n",
      "2\n",
      "3\n"
     ]
    }
   ],
   "source": [
    "i=1\n",
    "while i<=6:\n",
    "    print(i)\n",
    "    if i==3:\n",
    "        break\n",
    "    i+=1"
   ]
  },
  {
   "cell_type": "code",
   "execution_count": 78,
   "id": "63c07153",
   "metadata": {},
   "outputs": [
    {
     "name": "stdout",
     "output_type": "stream",
     "text": [
      "2\n",
      "4\n",
      "5\n",
      "6\n"
     ]
    }
   ],
   "source": [
    "i=1\n",
    "while i<6:\n",
    "    i+= 1\n",
    "    if i==3:\n",
    "        continue\n",
    "    print(i)"
   ]
  },
  {
   "cell_type": "code",
   "execution_count": 79,
   "id": "25311592",
   "metadata": {},
   "outputs": [
    {
     "data": {
      "text/plain": [
       "(10, 0, 9)"
      ]
     },
     "execution_count": 79,
     "metadata": {},
     "output_type": "execute_result"
    }
   ],
   "source": [
    "a1=range(10)\n",
    "len(a1), min(a1), max(a1)"
   ]
  },
  {
   "cell_type": "code",
   "execution_count": 84,
   "id": "64fca4ac",
   "metadata": {},
   "outputs": [
    {
     "name": "stdout",
     "output_type": "stream",
     "text": [
      "1\n",
      "2\n",
      "3\n",
      "4\n",
      "5\n",
      "6\n",
      "7\n",
      "8\n",
      "9\n",
      "10\n"
     ]
    }
   ],
   "source": [
    "a2=range(1,11)\n",
    "for i in a2:\n",
    "    print(i)"
   ]
  },
  {
   "cell_type": "code",
   "execution_count": 89,
   "id": "dcb53a11",
   "metadata": {},
   "outputs": [],
   "source": [
    "def my_funct(a,b):\n",
    "    if a > b:\n",
    "        print(\"a greater than b\")\n",
    "    elif a==b:\n",
    "        print(\"a is equal to b\")\n",
    "    else:\n",
    "        print(\"a not greater than b\")"
   ]
  },
  {
   "cell_type": "code",
   "execution_count": 90,
   "id": "07260030",
   "metadata": {},
   "outputs": [
    {
     "name": "stdout",
     "output_type": "stream",
     "text": [
      "a is equal to b\n"
     ]
    }
   ],
   "source": [
    "my_funct(12,12)"
   ]
  },
  {
   "cell_type": "code",
   "execution_count": 87,
   "id": "6dfa9541",
   "metadata": {},
   "outputs": [],
   "source": [
    "def add(a,b):\n",
    "    return a+b"
   ]
  },
  {
   "cell_type": "code",
   "execution_count": 88,
   "id": "65c88830",
   "metadata": {},
   "outputs": [
    {
     "data": {
      "text/plain": [
       "876"
      ]
     },
     "execution_count": 88,
     "metadata": {},
     "output_type": "execute_result"
    }
   ],
   "source": [
    "add(856,20)"
   ]
  },
  {
   "cell_type": "code",
   "execution_count": 91,
   "id": "1ca7016e",
   "metadata": {},
   "outputs": [],
   "source": [
    "def loan_emi(amount,rate,months=12,down_payment=0):\n",
    "    \"\"\"Calculate the monthly installment for a loan\"\"\"\n",
    "    principal = amount-down_payment\n",
    "    try:\n",
    "        factor=rate/(1-1/(1+rate)**months)\n",
    "    except ZeroDivisionError:\n",
    "        factor=1/months\n",
    "    return principal*factor"
   ]
  },
  {
   "cell_type": "code",
   "execution_count": 92,
   "id": "66b203d5",
   "metadata": {},
   "outputs": [
    {
     "data": {
      "text/plain": [
       "600000.0000000257"
      ]
     },
     "execution_count": 92,
     "metadata": {},
     "output_type": "execute_result"
    }
   ],
   "source": [
    "loan_emi(50000,12)"
   ]
  },
  {
   "cell_type": "markdown",
   "id": "e9e9f0c3",
   "metadata": {},
   "source": [
    "# Lambda Function"
   ]
  },
  {
   "cell_type": "code",
   "execution_count": 93,
   "id": "a602b15c",
   "metadata": {},
   "outputs": [],
   "source": [
    "sq=lambda x: x*x"
   ]
  },
  {
   "cell_type": "code",
   "execution_count": 94,
   "id": "81a31133",
   "metadata": {},
   "outputs": [
    {
     "data": {
      "text/plain": [
       "25"
      ]
     },
     "execution_count": 94,
     "metadata": {},
     "output_type": "execute_result"
    }
   ],
   "source": [
    "sq(5)"
   ]
  },
  {
   "cell_type": "code",
   "execution_count": 95,
   "id": "a28e64b9",
   "metadata": {},
   "outputs": [],
   "source": [
    "def myfunc(n):\n",
    "    return lambda a: a*n\n",
    "mytripler = myfunc(3)"
   ]
  },
  {
   "cell_type": "code",
   "execution_count": 96,
   "id": "50dfb483",
   "metadata": {},
   "outputs": [
    {
     "data": {
      "text/plain": [
       "33"
      ]
     },
     "execution_count": 96,
     "metadata": {},
     "output_type": "execute_result"
    }
   ],
   "source": [
    "mytripler(11)"
   ]
  },
  {
   "cell_type": "code",
   "execution_count": 97,
   "id": "1f8e786e",
   "metadata": {},
   "outputs": [],
   "source": [
    "sum2 = lambda x,y,z: x+y+z"
   ]
  },
  {
   "cell_type": "code",
   "execution_count": 98,
   "id": "0e7270d0",
   "metadata": {},
   "outputs": [
    {
     "data": {
      "text/plain": [
       "150"
      ]
     },
     "execution_count": 98,
     "metadata": {},
     "output_type": "execute_result"
    }
   ],
   "source": [
    "sum2(50,50,50)"
   ]
  },
  {
   "cell_type": "markdown",
   "id": "77e7d7c7",
   "metadata": {},
   "source": [
    "# Data Structures"
   ]
  },
  {
   "cell_type": "code",
   "execution_count": 99,
   "id": "289c332c",
   "metadata": {},
   "outputs": [],
   "source": [
    "#list comprehension\n",
    "#newlist=[expression for item in iterableif condition==true]\n",
    "fruits = [\"apple\",\"guava\",\"grapes\",\"orange\",\"mango\"]\n",
    "newlist =[x for x in fruits if \"a\" in x]"
   ]
  },
  {
   "cell_type": "code",
   "execution_count": 100,
   "id": "85ad01c1",
   "metadata": {},
   "outputs": [
    {
     "name": "stdout",
     "output_type": "stream",
     "text": [
      "['apple', 'guava', 'grapes', 'orange', 'mango']\n"
     ]
    }
   ],
   "source": [
    "print(newlist)"
   ]
  },
  {
   "cell_type": "code",
   "execution_count": 108,
   "id": "b1294353",
   "metadata": {},
   "outputs": [
    {
     "name": "stdout",
     "output_type": "stream",
     "text": [
      "[5, 6, 11, 9]\n"
     ]
    }
   ],
   "source": [
    "l1 = [3,4,9,7]\n",
    "l2=[]\n",
    "for x in l1:\n",
    "    l2.append(x+2)\n",
    "print(l2)"
   ]
  },
  {
   "cell_type": "code",
   "execution_count": 110,
   "id": "491b458a",
   "metadata": {},
   "outputs": [
    {
     "name": "stdout",
     "output_type": "stream",
     "text": [
      "[1, 4, 9, 16, 25, 36, 49, 64, 81]\n"
     ]
    }
   ],
   "source": [
    "a=range(1,10)\n",
    "b=[x**2 for x in a]\n",
    "print(b)"
   ]
  },
  {
   "cell_type": "code",
   "execution_count": 111,
   "id": "ac9f5f4d",
   "metadata": {},
   "outputs": [],
   "source": [
    "###tuple cant be edited"
   ]
  },
  {
   "cell_type": "code",
   "execution_count": 113,
   "id": "21dbf3f3",
   "metadata": {},
   "outputs": [
    {
     "data": {
      "text/plain": [
       "{1.4, 3, 4, 7}"
      ]
     },
     "execution_count": 113,
     "metadata": {},
     "output_type": "execute_result"
    }
   ],
   "source": [
    "s1={1.4,3,3,4,7}\n",
    "s1"
   ]
  },
  {
   "cell_type": "code",
   "execution_count": 2,
   "id": "c72f425e",
   "metadata": {},
   "outputs": [
    {
     "data": {
      "text/plain": [
       "{4}"
      ]
     },
     "execution_count": 2,
     "metadata": {},
     "output_type": "execute_result"
    }
   ],
   "source": [
    "s1 ={1,2,3,4,5}\n",
    "s2 ={4,7,8,9,10}\n",
    "\n",
    "s1&s2 #intersection"
   ]
  },
  {
   "cell_type": "code",
   "execution_count": 3,
   "id": "08acf545",
   "metadata": {},
   "outputs": [
    {
     "data": {
      "text/plain": [
       "{1, 2, 3, 4, 5, 7, 8, 9, 10}"
      ]
     },
     "execution_count": 3,
     "metadata": {},
     "output_type": "execute_result"
    }
   ],
   "source": [
    "s1|s2 #union"
   ]
  },
  {
   "cell_type": "code",
   "execution_count": 4,
   "id": "3a1b2dfa",
   "metadata": {},
   "outputs": [],
   "source": [
    "countries = {\n",
    "    'United States': 'Washington, D.C.',\n",
    "    'France': 'Paris',\n",
    "    'Australia': 'Canberra'\n",
    "}\n"
   ]
  },
  {
   "cell_type": "code",
   "execution_count": 6,
   "id": "3e3f55c0",
   "metadata": {},
   "outputs": [
    {
     "data": {
      "text/plain": [
       "'Washington, D.C.'"
      ]
     },
     "execution_count": 6,
     "metadata": {},
     "output_type": "execute_result"
    }
   ],
   "source": [
    "countries['United States']"
   ]
  },
  {
   "cell_type": "code",
   "execution_count": 8,
   "id": "2858e3db",
   "metadata": {},
   "outputs": [
    {
     "data": {
      "text/plain": [
       "dict_keys(['United States', 'France', 'Australia'])"
      ]
     },
     "execution_count": 8,
     "metadata": {},
     "output_type": "execute_result"
    }
   ],
   "source": [
    "countries.keys()"
   ]
  },
  {
   "cell_type": "code",
   "execution_count": 9,
   "id": "c143e31d",
   "metadata": {},
   "outputs": [
    {
     "data": {
      "text/plain": [
       "dict_values(['Washington, D.C.', 'Paris', 'Canberra'])"
      ]
     },
     "execution_count": 9,
     "metadata": {},
     "output_type": "execute_result"
    }
   ],
   "source": [
    "countries.values()"
   ]
  },
  {
   "cell_type": "code",
   "execution_count": 10,
   "id": "5c3faf29",
   "metadata": {},
   "outputs": [
    {
     "data": {
      "text/plain": [
       "dict_items([('United States', 'Washington, D.C.'), ('France', 'Paris'), ('Australia', 'Canberra')])"
      ]
     },
     "execution_count": 10,
     "metadata": {},
     "output_type": "execute_result"
    }
   ],
   "source": [
    "countries.items()"
   ]
  },
  {
   "cell_type": "code",
   "execution_count": 11,
   "id": "1d1fff1d",
   "metadata": {},
   "outputs": [
    {
     "data": {
      "text/plain": [
       "'Paris'"
      ]
     },
     "execution_count": 11,
     "metadata": {},
     "output_type": "execute_result"
    }
   ],
   "source": [
    "countries.get('France')"
   ]
  },
  {
   "cell_type": "code",
   "execution_count": 14,
   "id": "9fc592d1",
   "metadata": {},
   "outputs": [
    {
     "data": {
      "text/plain": [
       "3"
      ]
     },
     "execution_count": 14,
     "metadata": {},
     "output_type": "execute_result"
    }
   ],
   "source": [
    "len(countries)"
   ]
  },
  {
   "cell_type": "markdown",
   "id": "967d4a1c",
   "metadata": {},
   "source": [
    "# "
   ]
  },
  {
   "cell_type": "code",
   "execution_count": 16,
   "id": "de8fc9f6",
   "metadata": {},
   "outputs": [
    {
     "ename": "TypeError",
     "evalue": "'bool' object is not iterable",
     "output_type": "error",
     "traceback": [
      "\u001b[1;31m---------------------------------------------------------------------------\u001b[0m",
      "\u001b[1;31mTypeError\u001b[0m                                 Traceback (most recent call last)",
      "Input \u001b[1;32mIn [16]\u001b[0m, in \u001b[0;36m<cell line: 1>\u001b[1;34m()\u001b[0m\n\u001b[1;32m----> 1\u001b[0m \u001b[43mcountries\u001b[49m\u001b[38;5;241;43m.\u001b[39;49m\u001b[43mupdate\u001b[49m\u001b[43m(\u001b[49m\u001b[38;5;124;43m'\u001b[39;49m\u001b[38;5;124;43mWashington, D.C.\u001b[39;49m\u001b[38;5;124;43m'\u001b[39;49m\u001b[38;5;241;43m==\u001b[39;49m\u001b[43m \u001b[49m\u001b[38;5;124;43m'\u001b[39;49m\u001b[38;5;124;43mWashington\u001b[39;49m\u001b[38;5;124;43m'\u001b[39;49m\u001b[43m)\u001b[49m\n",
      "\u001b[1;31mTypeError\u001b[0m: 'bool' object is not iterable"
     ]
    }
   ],
   "source": [
    "countries.update('Washington, D.C.'== 'Washington')"
   ]
  },
  {
   "cell_type": "markdown",
   "id": "f2d3045c",
   "metadata": {},
   "source": [
    "\n",
    "# NumPy"
   ]
  },
  {
   "cell_type": "code",
   "execution_count": 17,
   "id": "226c2d7f",
   "metadata": {},
   "outputs": [],
   "source": [
    "import numpy as np"
   ]
  },
  {
   "cell_type": "code",
   "execution_count": 24,
   "id": "b44f18ea",
   "metadata": {},
   "outputs": [],
   "source": [
    "a1=np.array([[[45,67,10],[56,25,45]],[[5,6,9],[4,5,6]]])"
   ]
  },
  {
   "cell_type": "code",
   "execution_count": 26,
   "id": "f6c9c4a7",
   "metadata": {},
   "outputs": [
    {
     "data": {
      "text/plain": [
       "3"
      ]
     },
     "execution_count": 26,
     "metadata": {},
     "output_type": "execute_result"
    }
   ],
   "source": [
    "a1.ndim #gives dimension of array"
   ]
  },
  {
   "cell_type": "code",
   "execution_count": 29,
   "id": "12cc6584",
   "metadata": {},
   "outputs": [],
   "source": [
    "b=np.array([[1,2,3],[5,5,9]])"
   ]
  },
  {
   "cell_type": "code",
   "execution_count": 30,
   "id": "7f79447a",
   "metadata": {},
   "outputs": [
    {
     "data": {
      "text/plain": [
       "6"
      ]
     },
     "execution_count": 30,
     "metadata": {},
     "output_type": "execute_result"
    }
   ],
   "source": [
    "a1[1][0][1]"
   ]
  },
  {
   "cell_type": "code",
   "execution_count": 32,
   "id": "6947cf56",
   "metadata": {},
   "outputs": [
    {
     "data": {
      "text/plain": [
       "array([0., 0., 0., 0., 0.])"
      ]
     },
     "execution_count": 32,
     "metadata": {},
     "output_type": "execute_result"
    }
   ],
   "source": [
    "np.zeros(5)"
   ]
  },
  {
   "cell_type": "code",
   "execution_count": 33,
   "id": "dafd6777",
   "metadata": {},
   "outputs": [
    {
     "data": {
      "text/plain": [
       "array([[1, 1, 1, 1],\n",
       "       [1, 1, 1, 1]])"
      ]
     },
     "execution_count": 33,
     "metadata": {},
     "output_type": "execute_result"
    }
   ],
   "source": [
    "np.ones((2,4),dtype=int)"
   ]
  },
  {
   "cell_type": "code",
   "execution_count": 34,
   "id": "0fee6190",
   "metadata": {},
   "outputs": [
    {
     "data": {
      "text/plain": [
       "array([[13, 13, 13, 13, 13],\n",
       "       [13, 13, 13, 13, 13],\n",
       "       [13, 13, 13, 13, 13]])"
      ]
     },
     "execution_count": 34,
     "metadata": {},
     "output_type": "execute_result"
    }
   ],
   "source": [
    "np.full((3,5),13)"
   ]
  },
  {
   "cell_type": "code",
   "execution_count": 36,
   "id": "59db8856",
   "metadata": {},
   "outputs": [
    {
     "data": {
      "text/plain": [
       "array([0, 1, 2, 3, 4])"
      ]
     },
     "execution_count": 36,
     "metadata": {},
     "output_type": "execute_result"
    }
   ],
   "source": [
    "np.arange(5)"
   ]
  },
  {
   "cell_type": "code",
   "execution_count": 37,
   "id": "7cbe1dcf",
   "metadata": {},
   "outputs": [
    {
     "data": {
      "text/plain": [
       "array([5, 6, 7, 8, 9])"
      ]
     },
     "execution_count": 37,
     "metadata": {},
     "output_type": "execute_result"
    }
   ],
   "source": [
    "np.arange(5,10)"
   ]
  },
  {
   "cell_type": "code",
   "execution_count": 40,
   "id": "cd84b4fd",
   "metadata": {},
   "outputs": [
    {
     "data": {
      "text/plain": [
       "array([10,  8,  6,  4,  2])"
      ]
     },
     "execution_count": 40,
     "metadata": {},
     "output_type": "execute_result"
    }
   ],
   "source": [
    "np.arange(10,1,-2)"
   ]
  },
  {
   "cell_type": "code",
   "execution_count": 43,
   "id": "61b34175",
   "metadata": {},
   "outputs": [
    {
     "data": {
      "text/plain": [
       "array([0.        , 0.11111111, 0.22222222, 0.33333333, 0.44444444,\n",
       "       0.55555556, 0.66666667, 0.77777778, 0.88888889, 1.        ])"
      ]
     },
     "execution_count": 43,
     "metadata": {},
     "output_type": "execute_result"
    }
   ],
   "source": [
    "np.linspace(0,1,num=10)"
   ]
  },
  {
   "cell_type": "code",
   "execution_count": 42,
   "id": "6f1d011f",
   "metadata": {},
   "outputs": [
    {
     "data": {
      "text/plain": [
       "array([[ 1,  2,  3,  4,  5],\n",
       "       [ 6,  7,  8,  9, 10],\n",
       "       [11, 12, 13, 14, 15],\n",
       "       [16, 17, 18, 19, 20]])"
      ]
     },
     "execution_count": 42,
     "metadata": {},
     "output_type": "execute_result"
    }
   ],
   "source": [
    "np.arange(1,21).reshape(4,5)"
   ]
  },
  {
   "cell_type": "code",
   "execution_count": 48,
   "id": "4e873cf5",
   "metadata": {},
   "outputs": [],
   "source": [
    "np.random.shuffle(a1)"
   ]
  },
  {
   "cell_type": "code",
   "execution_count": 46,
   "id": "061ecd3a",
   "metadata": {},
   "outputs": [
    {
     "name": "stdout",
     "output_type": "stream",
     "text": [
      "[[[45 67 10]\n",
      "  [56 25 45]]\n",
      "\n",
      " [[ 5  6  9]\n",
      "  [ 4  5  6]]]\n"
     ]
    }
   ],
   "source": [
    "print(a1)"
   ]
  },
  {
   "cell_type": "code",
   "execution_count": 52,
   "id": "fb320288",
   "metadata": {},
   "outputs": [
    {
     "name": "stdout",
     "output_type": "stream",
     "text": [
      "[3, 4, 5, 6]\n"
     ]
    }
   ],
   "source": [
    "m =[1,2,3,4]\n",
    "n = [x+2 for x in m]\n",
    "print(n)\n",
    "      "
   ]
  },
  {
   "cell_type": "code",
   "execution_count": 54,
   "id": "63b32d5f",
   "metadata": {},
   "outputs": [],
   "source": [
    "k= np.array([1,2,3,4])"
   ]
  },
  {
   "cell_type": "code",
   "execution_count": 61,
   "id": "60a8eee7",
   "metadata": {},
   "outputs": [
    {
     "data": {
      "text/plain": [
       "array([ 1,  4,  9, 16], dtype=int32)"
      ]
     },
     "execution_count": 61,
     "metadata": {},
     "output_type": "execute_result"
    }
   ],
   "source": [
    "k**2"
   ]
  },
  {
   "cell_type": "code",
   "execution_count": 56,
   "id": "360b7d29",
   "metadata": {},
   "outputs": [],
   "source": [
    "grades = np.array([[87,96,70],[100,87,90]])"
   ]
  },
  {
   "cell_type": "code",
   "execution_count": 57,
   "id": "3d44dacb",
   "metadata": {},
   "outputs": [
    {
     "data": {
      "text/plain": [
       "array([[ 87,  96,  70],\n",
       "       [100,  87,  90]])"
      ]
     },
     "execution_count": 57,
     "metadata": {},
     "output_type": "execute_result"
    }
   ],
   "source": [
    "grades"
   ]
  },
  {
   "cell_type": "code",
   "execution_count": 59,
   "id": "dc8ef07f",
   "metadata": {},
   "outputs": [
    {
     "name": "stdout",
     "output_type": "stream",
     "text": [
      "530\n",
      "9.463379711052259\n"
     ]
    }
   ],
   "source": [
    "print(grades.sum())\n",
    "print(grades.std())"
   ]
  },
  {
   "cell_type": "markdown",
   "id": "193e541a",
   "metadata": {},
   "source": [
    "# Pandas"
   ]
  },
  {
   "cell_type": "code",
   "execution_count": 62,
   "id": "d1b49327",
   "metadata": {},
   "outputs": [],
   "source": [
    "### series and dataFrame in pandas "
   ]
  },
  {
   "cell_type": "code",
   "execution_count": 64,
   "id": "0d659d29",
   "metadata": {},
   "outputs": [],
   "source": [
    "import numpy as np\n",
    "import pandas as pd\n",
    "?pd.read_csv"
   ]
  },
  {
   "cell_type": "code",
   "execution_count": 73,
   "id": "ecc87f85",
   "metadata": {},
   "outputs": [],
   "source": [
    "df = pd.read_excel('C:\\\\Users\\\\N. ali\\\\Downloads\\\\IPL - Winners.xlsx')"
   ]
  },
  {
   "cell_type": "code",
   "execution_count": 74,
   "id": "e7345c4f",
   "metadata": {},
   "outputs": [
    {
     "data": {
      "text/html": [
       "<div>\n",
       "<style scoped>\n",
       "    .dataframe tbody tr th:only-of-type {\n",
       "        vertical-align: middle;\n",
       "    }\n",
       "\n",
       "    .dataframe tbody tr th {\n",
       "        vertical-align: top;\n",
       "    }\n",
       "\n",
       "    .dataframe thead th {\n",
       "        text-align: right;\n",
       "    }\n",
       "</style>\n",
       "<table border=\"1\" class=\"dataframe\">\n",
       "  <thead>\n",
       "    <tr style=\"text-align: right;\">\n",
       "      <th></th>\n",
       "      <th>Year</th>\n",
       "      <th>Winning team</th>\n",
       "      <th>runners up</th>\n",
       "      <th>playoff qualifying team 1</th>\n",
       "      <th>Playoff qualifying team 2</th>\n",
       "      <th>Orange Cap</th>\n",
       "      <th>Orange cap runs</th>\n",
       "      <th>OC winner team</th>\n",
       "      <th>Purple Cap</th>\n",
       "      <th>Purple cap wickets</th>\n",
       "      <th>PC winner team</th>\n",
       "      <th>Final Venue</th>\n",
       "      <th>Final Date</th>\n",
       "    </tr>\n",
       "  </thead>\n",
       "  <tbody>\n",
       "    <tr>\n",
       "      <th>0</th>\n",
       "      <td>2008</td>\n",
       "      <td>Rajasthan Royals</td>\n",
       "      <td>Chennai Super Kings</td>\n",
       "      <td>Kings XI Punjab</td>\n",
       "      <td>Delhi Daredevils</td>\n",
       "      <td>Shaun Marsh</td>\n",
       "      <td>616</td>\n",
       "      <td>Kings XI Punjab</td>\n",
       "      <td>Sohail Tanvir</td>\n",
       "      <td>22</td>\n",
       "      <td>Rajasthan Royals</td>\n",
       "      <td>Mumbai</td>\n",
       "      <td>2008-06-01</td>\n",
       "    </tr>\n",
       "    <tr>\n",
       "      <th>1</th>\n",
       "      <td>2009</td>\n",
       "      <td>Deccan Chargers</td>\n",
       "      <td>Royal Challengers Bangalore</td>\n",
       "      <td>Chennai Super Kings</td>\n",
       "      <td>Delhi Daredevi;s</td>\n",
       "      <td>Matthew Hayden</td>\n",
       "      <td>572</td>\n",
       "      <td>Chennai Super Kings</td>\n",
       "      <td>R P Singh</td>\n",
       "      <td>23</td>\n",
       "      <td>Deccan Chargers</td>\n",
       "      <td>Johannesburg</td>\n",
       "      <td>2009-05-24</td>\n",
       "    </tr>\n",
       "    <tr>\n",
       "      <th>2</th>\n",
       "      <td>2010</td>\n",
       "      <td>Chennai Super Kings</td>\n",
       "      <td>Mumbai Indians</td>\n",
       "      <td>Royal Challengers Bangalore</td>\n",
       "      <td>Deccan Chargers</td>\n",
       "      <td>Sachin Tendulkar</td>\n",
       "      <td>618</td>\n",
       "      <td>Mumbai Indians</td>\n",
       "      <td>Pragyan Ojha</td>\n",
       "      <td>21</td>\n",
       "      <td>Deccan Chargers</td>\n",
       "      <td>Mumbai</td>\n",
       "      <td>2010-04-25</td>\n",
       "    </tr>\n",
       "  </tbody>\n",
       "</table>\n",
       "</div>"
      ],
      "text/plain": [
       "   Year         Winning team                   runners up  \\\n",
       "0  2008     Rajasthan Royals          Chennai Super Kings   \n",
       "1  2009      Deccan Chargers  Royal Challengers Bangalore   \n",
       "2  2010  Chennai Super Kings               Mumbai Indians   \n",
       "\n",
       "     playoff qualifying team 1 Playoff qualifying team 2         Orange Cap  \\\n",
       "0              Kings XI Punjab          Delhi Daredevils        Shaun Marsh   \n",
       "1          Chennai Super Kings          Delhi Daredevi;s     Matthew Hayden   \n",
       "2  Royal Challengers Bangalore           Deccan Chargers  Sachin Tendulkar    \n",
       "\n",
       "   Orange cap runs       OC winner team     Purple Cap  Purple cap wickets  \\\n",
       "0              616      Kings XI Punjab  Sohail Tanvir                  22   \n",
       "1              572  Chennai Super Kings      R P Singh                  23   \n",
       "2              618       Mumbai Indians   Pragyan Ojha                  21   \n",
       "\n",
       "     PC winner team   Final Venue Final Date  \n",
       "0  Rajasthan Royals        Mumbai 2008-06-01  \n",
       "1   Deccan Chargers  Johannesburg 2009-05-24  \n",
       "2   Deccan Chargers        Mumbai 2010-04-25  "
      ]
     },
     "execution_count": 74,
     "metadata": {},
     "output_type": "execute_result"
    }
   ],
   "source": [
    "df.head(3)"
   ]
  },
  {
   "cell_type": "code",
   "execution_count": 75,
   "id": "5ef8b463",
   "metadata": {},
   "outputs": [
    {
     "data": {
      "text/html": [
       "<div>\n",
       "<style scoped>\n",
       "    .dataframe tbody tr th:only-of-type {\n",
       "        vertical-align: middle;\n",
       "    }\n",
       "\n",
       "    .dataframe tbody tr th {\n",
       "        vertical-align: top;\n",
       "    }\n",
       "\n",
       "    .dataframe thead th {\n",
       "        text-align: right;\n",
       "    }\n",
       "</style>\n",
       "<table border=\"1\" class=\"dataframe\">\n",
       "  <thead>\n",
       "    <tr style=\"text-align: right;\">\n",
       "      <th></th>\n",
       "      <th>Year</th>\n",
       "      <th>Orange cap runs</th>\n",
       "      <th>Purple cap wickets</th>\n",
       "    </tr>\n",
       "  </thead>\n",
       "  <tbody>\n",
       "    <tr>\n",
       "      <th>count</th>\n",
       "      <td>16.000000</td>\n",
       "      <td>16.0000</td>\n",
       "      <td>16.000000</td>\n",
       "    </tr>\n",
       "    <tr>\n",
       "      <th>mean</th>\n",
       "      <td>2015.500000</td>\n",
       "      <td>700.0625</td>\n",
       "      <td>26.000000</td>\n",
       "    </tr>\n",
       "    <tr>\n",
       "      <th>std</th>\n",
       "      <td>4.760952</td>\n",
       "      <td>117.9104</td>\n",
       "      <td>3.366502</td>\n",
       "    </tr>\n",
       "    <tr>\n",
       "      <th>min</th>\n",
       "      <td>2008.000000</td>\n",
       "      <td>562.0000</td>\n",
       "      <td>21.000000</td>\n",
       "    </tr>\n",
       "    <tr>\n",
       "      <th>25%</th>\n",
       "      <td>2011.750000</td>\n",
       "      <td>617.5000</td>\n",
       "      <td>23.000000</td>\n",
       "    </tr>\n",
       "    <tr>\n",
       "      <th>50%</th>\n",
       "      <td>2015.500000</td>\n",
       "      <td>665.0000</td>\n",
       "      <td>26.000000</td>\n",
       "    </tr>\n",
       "    <tr>\n",
       "      <th>75%</th>\n",
       "      <td>2019.250000</td>\n",
       "      <td>733.5000</td>\n",
       "      <td>28.000000</td>\n",
       "    </tr>\n",
       "    <tr>\n",
       "      <th>max</th>\n",
       "      <td>2023.000000</td>\n",
       "      <td>973.0000</td>\n",
       "      <td>32.000000</td>\n",
       "    </tr>\n",
       "  </tbody>\n",
       "</table>\n",
       "</div>"
      ],
      "text/plain": [
       "              Year  Orange cap runs  Purple cap wickets\n",
       "count    16.000000          16.0000           16.000000\n",
       "mean   2015.500000         700.0625           26.000000\n",
       "std       4.760952         117.9104            3.366502\n",
       "min    2008.000000         562.0000           21.000000\n",
       "25%    2011.750000         617.5000           23.000000\n",
       "50%    2015.500000         665.0000           26.000000\n",
       "75%    2019.250000         733.5000           28.000000\n",
       "max    2023.000000         973.0000           32.000000"
      ]
     },
     "execution_count": 75,
     "metadata": {},
     "output_type": "execute_result"
    }
   ],
   "source": [
    "df.describe()"
   ]
  },
  {
   "cell_type": "code",
   "execution_count": 77,
   "id": "b110e72d",
   "metadata": {},
   "outputs": [
    {
     "name": "stdout",
     "output_type": "stream",
     "text": [
      "<class 'pandas.core.frame.DataFrame'>\n",
      "RangeIndex: 16 entries, 0 to 15\n",
      "Data columns (total 13 columns):\n",
      " #   Column                     Non-Null Count  Dtype         \n",
      "---  ------                     --------------  -----         \n",
      " 0   Year                       16 non-null     int64         \n",
      " 1   Winning team               16 non-null     object        \n",
      " 2   runners up                 16 non-null     object        \n",
      " 3   playoff qualifying team 1  16 non-null     object        \n",
      " 4   Playoff qualifying team 2  16 non-null     object        \n",
      " 5   Orange Cap                 16 non-null     object        \n",
      " 6   Orange cap runs            16 non-null     int64         \n",
      " 7   OC winner team             16 non-null     object        \n",
      " 8   Purple Cap                 16 non-null     object        \n",
      " 9   Purple cap wickets         16 non-null     int64         \n",
      " 10  PC winner team             16 non-null     object        \n",
      " 11  Final Venue                16 non-null     object        \n",
      " 12  Final Date                 16 non-null     datetime64[ns]\n",
      "dtypes: datetime64[ns](1), int64(3), object(9)\n",
      "memory usage: 1.8+ KB\n"
     ]
    }
   ],
   "source": [
    "df.info()"
   ]
  },
  {
   "cell_type": "code",
   "execution_count": 78,
   "id": "f9db1103",
   "metadata": {},
   "outputs": [
    {
     "data": {
      "text/plain": [
       "(16, 13)"
      ]
     },
     "execution_count": 78,
     "metadata": {},
     "output_type": "execute_result"
    }
   ],
   "source": [
    "df.shape"
   ]
  },
  {
   "cell_type": "code",
   "execution_count": 2,
   "id": "e7bf0c16",
   "metadata": {},
   "outputs": [],
   "source": [
    "import pandas as pd"
   ]
  },
  {
   "cell_type": "code",
   "execution_count": 6,
   "id": "a288c9b1",
   "metadata": {
    "scrolled": true
   },
   "outputs": [],
   "source": [
    "df= pd.read_html('https://en.wikipedia.org/wiki/Indian_Premier_League')"
   ]
  },
  {
   "cell_type": "code",
   "execution_count": 9,
   "id": "9bd0c3fd",
   "metadata": {},
   "outputs": [
    {
     "data": {
      "text/plain": [
       "list"
      ]
     },
     "execution_count": 9,
     "metadata": {},
     "output_type": "execute_result"
    }
   ],
   "source": [
    "type(df)"
   ]
  },
  {
   "cell_type": "code",
   "execution_count": 10,
   "id": "31f4ae06",
   "metadata": {},
   "outputs": [
    {
     "data": {
      "text/plain": [
       "32"
      ]
     },
     "execution_count": 10,
     "metadata": {},
     "output_type": "execute_result"
    }
   ],
   "source": [
    "len(df)"
   ]
  },
  {
   "cell_type": "code",
   "execution_count": 12,
   "id": "6ba35c0f",
   "metadata": {},
   "outputs": [
    {
     "data": {
      "text/html": [
       "<div>\n",
       "<style scoped>\n",
       "    .dataframe tbody tr th:only-of-type {\n",
       "        vertical-align: middle;\n",
       "    }\n",
       "\n",
       "    .dataframe tbody tr th {\n",
       "        vertical-align: top;\n",
       "    }\n",
       "\n",
       "    .dataframe thead th {\n",
       "        text-align: right;\n",
       "    }\n",
       "</style>\n",
       "<table border=\"1\" class=\"dataframe\">\n",
       "  <thead>\n",
       "    <tr style=\"text-align: right;\">\n",
       "      <th></th>\n",
       "      <th>Season</th>\n",
       "      <th>Winner</th>\n",
       "      <th>Winning margin</th>\n",
       "      <th>Runner-up</th>\n",
       "      <th>Final venue</th>\n",
       "      <th>City</th>\n",
       "      <th>Crowd</th>\n",
       "      <th>Teams</th>\n",
       "      <th>Player of the series</th>\n",
       "    </tr>\n",
       "  </thead>\n",
       "  <tbody>\n",
       "    <tr>\n",
       "      <th>0</th>\n",
       "      <td>2008Details</td>\n",
       "      <td>Rajasthan Royals164/7 (20 overs)</td>\n",
       "      <td>Royals won by 3 wicketsScorecard</td>\n",
       "      <td>Chennai Super Kings163/5 (20 overs)</td>\n",
       "      <td>DY Patil Stadium</td>\n",
       "      <td>Navi Mumbai</td>\n",
       "      <td>55345</td>\n",
       "      <td>8[74]</td>\n",
       "      <td>Shane Watson (RR)</td>\n",
       "    </tr>\n",
       "    <tr>\n",
       "      <th>1</th>\n",
       "      <td>2009Details</td>\n",
       "      <td>Deccan Chargers143/6 (20 overs)</td>\n",
       "      <td>Chargers won by 6 runs Scorecard</td>\n",
       "      <td>Royal Challengers Bangalore137/9 (20 overs)</td>\n",
       "      <td>Wanderers Stadium</td>\n",
       "      <td>Johannesburg</td>\n",
       "      <td>30123</td>\n",
       "      <td>8[75]</td>\n",
       "      <td>Adam Gilchrist (DC)</td>\n",
       "    </tr>\n",
       "    <tr>\n",
       "      <th>2</th>\n",
       "      <td>2010Details</td>\n",
       "      <td>Chennai Super Kings168/5 (20 overs)</td>\n",
       "      <td>Super Kings won by 22 runsScorecard</td>\n",
       "      <td>Mumbai Indians146/9 (20 overs)</td>\n",
       "      <td>DY Patil Stadium</td>\n",
       "      <td>Navi Mumbai</td>\n",
       "      <td>55836</td>\n",
       "      <td>8[76]</td>\n",
       "      <td>Sachin Tendulkar (MI)</td>\n",
       "    </tr>\n",
       "    <tr>\n",
       "      <th>3</th>\n",
       "      <td>2011Details</td>\n",
       "      <td>Chennai Super Kings205/5 (20 overs)</td>\n",
       "      <td>Super Kings won by 58 runsScorecard</td>\n",
       "      <td>Royal Challengers Bangalore147/8 (20 overs)</td>\n",
       "      <td>M. A. Chidambaram Stadium</td>\n",
       "      <td>Chennai</td>\n",
       "      <td>49637</td>\n",
       "      <td>10[77]</td>\n",
       "      <td>Chris Gayle (RCB)</td>\n",
       "    </tr>\n",
       "    <tr>\n",
       "      <th>4</th>\n",
       "      <td>2012Details</td>\n",
       "      <td>Kolkata Knight Riders192/5 (19.4 overs)</td>\n",
       "      <td>Knight Riders won by 5 wicketsScorecard</td>\n",
       "      <td>Chennai Super Kings190/3 (20 overs)</td>\n",
       "      <td>M. A. Chidambaram Stadium</td>\n",
       "      <td>Chennai</td>\n",
       "      <td>48955</td>\n",
       "      <td>9[78]</td>\n",
       "      <td>Sunil Narine (KKR)</td>\n",
       "    </tr>\n",
       "    <tr>\n",
       "      <th>5</th>\n",
       "      <td>2013Details</td>\n",
       "      <td>Mumbai Indians148/9 (20 overs)</td>\n",
       "      <td>Indians won by 23 runsScorecard</td>\n",
       "      <td>Chennai Super Kings125/9 (20 overs)</td>\n",
       "      <td>Eden Gardens</td>\n",
       "      <td>Kolkata</td>\n",
       "      <td>61619</td>\n",
       "      <td>9[79]</td>\n",
       "      <td>Shane Watson (RR)</td>\n",
       "    </tr>\n",
       "    <tr>\n",
       "      <th>6</th>\n",
       "      <td>2014Details</td>\n",
       "      <td>Kolkata Knight Riders200/7 (19.3 overs)</td>\n",
       "      <td>Knight Riders won by 3 wicketsScorecard</td>\n",
       "      <td>Kings XI Punjab199/4 (20 overs)</td>\n",
       "      <td>M. Chinnaswamy Stadium</td>\n",
       "      <td>Bengaluru</td>\n",
       "      <td>37854</td>\n",
       "      <td>8[80]</td>\n",
       "      <td>Glenn Maxwell (KXIP)</td>\n",
       "    </tr>\n",
       "    <tr>\n",
       "      <th>7</th>\n",
       "      <td>2015Details</td>\n",
       "      <td>Mumbai Indians202/5 (20 overs)</td>\n",
       "      <td>Indians won by 41 runsScorecard</td>\n",
       "      <td>Chennai Super Kings161/8 (20 overs)</td>\n",
       "      <td>Eden Gardens</td>\n",
       "      <td>Kolkata</td>\n",
       "      <td>67000</td>\n",
       "      <td>8[81]</td>\n",
       "      <td>Andre Russell (KKR)</td>\n",
       "    </tr>\n",
       "    <tr>\n",
       "      <th>8</th>\n",
       "      <td>2016Details</td>\n",
       "      <td>Sunrisers Hyderabad208/7 (20 overs)</td>\n",
       "      <td>Sunrisers won by 8 runsScorecard</td>\n",
       "      <td>Royal Challengers Bangalore200/7 (20 overs)</td>\n",
       "      <td>M. Chinnaswamy Stadium</td>\n",
       "      <td>Bengaluru</td>\n",
       "      <td>38468</td>\n",
       "      <td>8[82]</td>\n",
       "      <td>Virat Kohli (RCB)</td>\n",
       "    </tr>\n",
       "    <tr>\n",
       "      <th>9</th>\n",
       "      <td>2017Details</td>\n",
       "      <td>Mumbai Indians129/8 (20 overs)</td>\n",
       "      <td>Indians won by 1 runScorecard</td>\n",
       "      <td>Rising Pune Supergiant128/6 (20 overs)</td>\n",
       "      <td>Rajiv Gandhi International Cricket Stadium</td>\n",
       "      <td>Hyderabad</td>\n",
       "      <td>54158</td>\n",
       "      <td>8[83]</td>\n",
       "      <td>Ben Stokes (RPSG)</td>\n",
       "    </tr>\n",
       "    <tr>\n",
       "      <th>10</th>\n",
       "      <td>2018Details</td>\n",
       "      <td>Chennai Super Kings181/2 (18.3 overs)</td>\n",
       "      <td>Super Kings won by 8 wicketsScorecard</td>\n",
       "      <td>Sunrisers Hyderabad178/6 (20 overs)</td>\n",
       "      <td>Wankhede Stadium</td>\n",
       "      <td>Mumbai</td>\n",
       "      <td>33415</td>\n",
       "      <td>8[84]</td>\n",
       "      <td>Sunil Narine (KKR)</td>\n",
       "    </tr>\n",
       "    <tr>\n",
       "      <th>11</th>\n",
       "      <td>2019Details</td>\n",
       "      <td>Mumbai Indians149/8 (20 overs)</td>\n",
       "      <td>Indians won by 1 runScorecard</td>\n",
       "      <td>Chennai Super Kings148/7 (20 overs)</td>\n",
       "      <td>Rajiv Gandhi International Cricket Stadium</td>\n",
       "      <td>Hyderabad</td>\n",
       "      <td>53560</td>\n",
       "      <td>8[85]</td>\n",
       "      <td>Andre Russell (KKR)</td>\n",
       "    </tr>\n",
       "    <tr>\n",
       "      <th>12</th>\n",
       "      <td>2020Details</td>\n",
       "      <td>Mumbai Indians157/5 (18.4 overs)</td>\n",
       "      <td>Indians won by 5 wicketsScorecard</td>\n",
       "      <td>Delhi Capitals156/7 (20 overs)</td>\n",
       "      <td>Dubai International Cricket Stadium</td>\n",
       "      <td>Dubai</td>\n",
       "      <td>0</td>\n",
       "      <td>8[86]</td>\n",
       "      <td>Jofra Archer (RR)</td>\n",
       "    </tr>\n",
       "    <tr>\n",
       "      <th>13</th>\n",
       "      <td>2021Details</td>\n",
       "      <td>Chennai Super Kings192/3 (20 overs)</td>\n",
       "      <td>Super Kings won by 27 runsScorecard</td>\n",
       "      <td>Kolkata Knight Riders165/9 (20 overs)</td>\n",
       "      <td>Dubai International Cricket Stadium</td>\n",
       "      <td>Dubai</td>\n",
       "      <td>18453</td>\n",
       "      <td>8[87]</td>\n",
       "      <td>Harshal Patel (RCB)</td>\n",
       "    </tr>\n",
       "    <tr>\n",
       "      <th>14</th>\n",
       "      <td>2022Details</td>\n",
       "      <td>Gujarat Titans133/3 (18.1 overs)</td>\n",
       "      <td>Titans Won by 7 wicketsScorecard</td>\n",
       "      <td>Rajasthan Royals130/9 (20 overs)</td>\n",
       "      <td>Narendra Modi Stadium,</td>\n",
       "      <td>Ahmedabad</td>\n",
       "      <td>101566</td>\n",
       "      <td>10[88]</td>\n",
       "      <td>Jos Buttler (RR)</td>\n",
       "    </tr>\n",
       "    <tr>\n",
       "      <th>15</th>\n",
       "      <td>2023Details</td>\n",
       "      <td>Chennai Super Kings171/5 (15 overs)</td>\n",
       "      <td>Super Kings won by 5 wickets (DLS method)</td>\n",
       "      <td>Gujarat Titans214/4 (20 overs)</td>\n",
       "      <td>Narendra Modi Stadium,</td>\n",
       "      <td>Ahmedabad</td>\n",
       "      <td>104859</td>\n",
       "      <td>10</td>\n",
       "      <td>Shubman Gill (GT)</td>\n",
       "    </tr>\n",
       "  </tbody>\n",
       "</table>\n",
       "</div>"
      ],
      "text/plain": [
       "         Season                                   Winner  \\\n",
       "0   2008Details         Rajasthan Royals164/7 (20 overs)   \n",
       "1   2009Details          Deccan Chargers143/6 (20 overs)   \n",
       "2   2010Details      Chennai Super Kings168/5 (20 overs)   \n",
       "3   2011Details      Chennai Super Kings205/5 (20 overs)   \n",
       "4   2012Details  Kolkata Knight Riders192/5 (19.4 overs)   \n",
       "5   2013Details           Mumbai Indians148/9 (20 overs)   \n",
       "6   2014Details  Kolkata Knight Riders200/7 (19.3 overs)   \n",
       "7   2015Details           Mumbai Indians202/5 (20 overs)   \n",
       "8   2016Details      Sunrisers Hyderabad208/7 (20 overs)   \n",
       "9   2017Details           Mumbai Indians129/8 (20 overs)   \n",
       "10  2018Details    Chennai Super Kings181/2 (18.3 overs)   \n",
       "11  2019Details           Mumbai Indians149/8 (20 overs)   \n",
       "12  2020Details         Mumbai Indians157/5 (18.4 overs)   \n",
       "13  2021Details      Chennai Super Kings192/3 (20 overs)   \n",
       "14  2022Details         Gujarat Titans133/3 (18.1 overs)   \n",
       "15  2023Details      Chennai Super Kings171/5 (15 overs)   \n",
       "\n",
       "                               Winning margin  \\\n",
       "0            Royals won by 3 wicketsScorecard   \n",
       "1            Chargers won by 6 runs Scorecard   \n",
       "2         Super Kings won by 22 runsScorecard   \n",
       "3         Super Kings won by 58 runsScorecard   \n",
       "4     Knight Riders won by 5 wicketsScorecard   \n",
       "5             Indians won by 23 runsScorecard   \n",
       "6     Knight Riders won by 3 wicketsScorecard   \n",
       "7             Indians won by 41 runsScorecard   \n",
       "8            Sunrisers won by 8 runsScorecard   \n",
       "9               Indians won by 1 runScorecard   \n",
       "10      Super Kings won by 8 wicketsScorecard   \n",
       "11              Indians won by 1 runScorecard   \n",
       "12          Indians won by 5 wicketsScorecard   \n",
       "13        Super Kings won by 27 runsScorecard   \n",
       "14           Titans Won by 7 wicketsScorecard   \n",
       "15  Super Kings won by 5 wickets (DLS method)   \n",
       "\n",
       "                                      Runner-up  \\\n",
       "0           Chennai Super Kings163/5 (20 overs)   \n",
       "1   Royal Challengers Bangalore137/9 (20 overs)   \n",
       "2                Mumbai Indians146/9 (20 overs)   \n",
       "3   Royal Challengers Bangalore147/8 (20 overs)   \n",
       "4           Chennai Super Kings190/3 (20 overs)   \n",
       "5           Chennai Super Kings125/9 (20 overs)   \n",
       "6               Kings XI Punjab199/4 (20 overs)   \n",
       "7           Chennai Super Kings161/8 (20 overs)   \n",
       "8   Royal Challengers Bangalore200/7 (20 overs)   \n",
       "9        Rising Pune Supergiant128/6 (20 overs)   \n",
       "10          Sunrisers Hyderabad178/6 (20 overs)   \n",
       "11          Chennai Super Kings148/7 (20 overs)   \n",
       "12               Delhi Capitals156/7 (20 overs)   \n",
       "13        Kolkata Knight Riders165/9 (20 overs)   \n",
       "14             Rajasthan Royals130/9 (20 overs)   \n",
       "15               Gujarat Titans214/4 (20 overs)   \n",
       "\n",
       "                                   Final venue          City   Crowd   Teams  \\\n",
       "0                             DY Patil Stadium   Navi Mumbai   55345   8[74]   \n",
       "1                            Wanderers Stadium  Johannesburg   30123   8[75]   \n",
       "2                             DY Patil Stadium   Navi Mumbai   55836   8[76]   \n",
       "3                    M. A. Chidambaram Stadium       Chennai   49637  10[77]   \n",
       "4                    M. A. Chidambaram Stadium       Chennai   48955   9[78]   \n",
       "5                                 Eden Gardens       Kolkata   61619   9[79]   \n",
       "6                       M. Chinnaswamy Stadium     Bengaluru   37854   8[80]   \n",
       "7                                 Eden Gardens       Kolkata   67000   8[81]   \n",
       "8                       M. Chinnaswamy Stadium     Bengaluru   38468   8[82]   \n",
       "9   Rajiv Gandhi International Cricket Stadium     Hyderabad   54158   8[83]   \n",
       "10                            Wankhede Stadium        Mumbai   33415   8[84]   \n",
       "11  Rajiv Gandhi International Cricket Stadium     Hyderabad   53560   8[85]   \n",
       "12         Dubai International Cricket Stadium         Dubai       0   8[86]   \n",
       "13         Dubai International Cricket Stadium         Dubai   18453   8[87]   \n",
       "14                      Narendra Modi Stadium,     Ahmedabad  101566  10[88]   \n",
       "15                      Narendra Modi Stadium,     Ahmedabad  104859      10   \n",
       "\n",
       "     Player of the series  \n",
       "0       Shane Watson (RR)  \n",
       "1     Adam Gilchrist (DC)  \n",
       "2   Sachin Tendulkar (MI)  \n",
       "3       Chris Gayle (RCB)  \n",
       "4      Sunil Narine (KKR)  \n",
       "5       Shane Watson (RR)  \n",
       "6    Glenn Maxwell (KXIP)  \n",
       "7     Andre Russell (KKR)  \n",
       "8       Virat Kohli (RCB)  \n",
       "9       Ben Stokes (RPSG)  \n",
       "10     Sunil Narine (KKR)  \n",
       "11    Andre Russell (KKR)  \n",
       "12      Jofra Archer (RR)  \n",
       "13    Harshal Patel (RCB)  \n",
       "14       Jos Buttler (RR)  \n",
       "15      Shubman Gill (GT)  "
      ]
     },
     "execution_count": 12,
     "metadata": {},
     "output_type": "execute_result"
    }
   ],
   "source": [
    "df[8]"
   ]
  },
  {
   "cell_type": "code",
   "execution_count": 20,
   "id": "2bbbcaac",
   "metadata": {},
   "outputs": [
    {
     "data": {
      "text/html": [
       "<div>\n",
       "<style scoped>\n",
       "    .dataframe tbody tr th:only-of-type {\n",
       "        vertical-align: middle;\n",
       "    }\n",
       "\n",
       "    .dataframe tbody tr th {\n",
       "        vertical-align: top;\n",
       "    }\n",
       "\n",
       "    .dataframe thead th {\n",
       "        text-align: right;\n",
       "    }\n",
       "</style>\n",
       "<table border=\"1\" class=\"dataframe\">\n",
       "  <thead>\n",
       "    <tr style=\"text-align: right;\">\n",
       "      <th></th>\n",
       "      <th>Team</th>\n",
       "      <th>City</th>\n",
       "      <th>State</th>\n",
       "      <th>Home ground</th>\n",
       "      <th>Debut</th>\n",
       "      <th>Captain</th>\n",
       "      <th>Head coach</th>\n",
       "    </tr>\n",
       "  </thead>\n",
       "  <tbody>\n",
       "    <tr>\n",
       "      <th>0</th>\n",
       "      <td>Chennai Super Kings</td>\n",
       "      <td>Chennai</td>\n",
       "      <td>Tamil Nadu</td>\n",
       "      <td>M. A. Chidambaram Stadium</td>\n",
       "      <td>2008</td>\n",
       "      <td>M. S. Dhoni</td>\n",
       "      <td>Stephen Fleming</td>\n",
       "    </tr>\n",
       "    <tr>\n",
       "      <th>1</th>\n",
       "      <td>Delhi Capitals</td>\n",
       "      <td>New Delhi</td>\n",
       "      <td>Delhi</td>\n",
       "      <td>Arun Jaitley Stadium</td>\n",
       "      <td>2008</td>\n",
       "      <td>David Warner</td>\n",
       "      <td>Ricky Ponting</td>\n",
       "    </tr>\n",
       "    <tr>\n",
       "      <th>2</th>\n",
       "      <td>Gujarat Titans</td>\n",
       "      <td>Ahmedabad</td>\n",
       "      <td>Gujarat</td>\n",
       "      <td>Narendra Modi Stadium</td>\n",
       "      <td>2022</td>\n",
       "      <td>Hardik Pandya</td>\n",
       "      <td>Ashish Nehra</td>\n",
       "    </tr>\n",
       "    <tr>\n",
       "      <th>3</th>\n",
       "      <td>Kolkata Knight Riders</td>\n",
       "      <td>Kolkata</td>\n",
       "      <td>West Bengal</td>\n",
       "      <td>Eden Gardens</td>\n",
       "      <td>2008</td>\n",
       "      <td>Nitish Rana</td>\n",
       "      <td>Chandrakant Pandit</td>\n",
       "    </tr>\n",
       "    <tr>\n",
       "      <th>4</th>\n",
       "      <td>Lucknow Super Giants</td>\n",
       "      <td>Lucknow</td>\n",
       "      <td>Uttar Pradesh</td>\n",
       "      <td>BRSABV Ekana Cricket Stadium</td>\n",
       "      <td>2022</td>\n",
       "      <td>KL Rahul</td>\n",
       "      <td>Andy Flower</td>\n",
       "    </tr>\n",
       "    <tr>\n",
       "      <th>5</th>\n",
       "      <td>Mumbai Indians</td>\n",
       "      <td>Mumbai</td>\n",
       "      <td>Maharashtra</td>\n",
       "      <td>Wankhede Stadium</td>\n",
       "      <td>2008</td>\n",
       "      <td>Rohit Sharma</td>\n",
       "      <td>Mark Boucher</td>\n",
       "    </tr>\n",
       "    <tr>\n",
       "      <th>6</th>\n",
       "      <td>Punjab Kings</td>\n",
       "      <td>Mohali</td>\n",
       "      <td>Punjab</td>\n",
       "      <td>Inderjit Singh Bindra Stadium</td>\n",
       "      <td>2008</td>\n",
       "      <td>Shikhar Dhawan</td>\n",
       "      <td>Trevor Bayliss</td>\n",
       "    </tr>\n",
       "    <tr>\n",
       "      <th>7</th>\n",
       "      <td>Rajasthan Royals</td>\n",
       "      <td>Jaipur</td>\n",
       "      <td>Rajasthan</td>\n",
       "      <td>Sawai Mansingh Stadium</td>\n",
       "      <td>2008</td>\n",
       "      <td>Sanju Samson</td>\n",
       "      <td>Kumar Sangakara</td>\n",
       "    </tr>\n",
       "    <tr>\n",
       "      <th>8</th>\n",
       "      <td>Royal Challengers Bangalore</td>\n",
       "      <td>Bangalore</td>\n",
       "      <td>Karnataka</td>\n",
       "      <td>M. Chinnaswamy Stadium</td>\n",
       "      <td>2008</td>\n",
       "      <td>Faf du Plessis</td>\n",
       "      <td>Sanjay Bangar</td>\n",
       "    </tr>\n",
       "    <tr>\n",
       "      <th>9</th>\n",
       "      <td>Sunrisers Hyderabad</td>\n",
       "      <td>Hyderabad</td>\n",
       "      <td>Telangana</td>\n",
       "      <td>Rajiv Gandhi International Cricket Stadium</td>\n",
       "      <td>2013</td>\n",
       "      <td>Aiden Markram</td>\n",
       "      <td>Brian Lara</td>\n",
       "    </tr>\n",
       "  </tbody>\n",
       "</table>\n",
       "</div>"
      ],
      "text/plain": [
       "                          Team       City          State  \\\n",
       "0          Chennai Super Kings    Chennai     Tamil Nadu   \n",
       "1               Delhi Capitals  New Delhi          Delhi   \n",
       "2               Gujarat Titans  Ahmedabad        Gujarat   \n",
       "3        Kolkata Knight Riders    Kolkata    West Bengal   \n",
       "4         Lucknow Super Giants    Lucknow  Uttar Pradesh   \n",
       "5               Mumbai Indians     Mumbai    Maharashtra   \n",
       "6                 Punjab Kings     Mohali         Punjab   \n",
       "7             Rajasthan Royals     Jaipur      Rajasthan   \n",
       "8  Royal Challengers Bangalore  Bangalore      Karnataka   \n",
       "9          Sunrisers Hyderabad  Hyderabad      Telangana   \n",
       "\n",
       "                                  Home ground  Debut         Captain  \\\n",
       "0                   M. A. Chidambaram Stadium   2008     M. S. Dhoni   \n",
       "1                        Arun Jaitley Stadium   2008    David Warner   \n",
       "2                       Narendra Modi Stadium   2022   Hardik Pandya   \n",
       "3                                Eden Gardens   2008     Nitish Rana   \n",
       "4                BRSABV Ekana Cricket Stadium   2022        KL Rahul   \n",
       "5                            Wankhede Stadium   2008    Rohit Sharma   \n",
       "6               Inderjit Singh Bindra Stadium   2008  Shikhar Dhawan   \n",
       "7                      Sawai Mansingh Stadium   2008    Sanju Samson   \n",
       "8                      M. Chinnaswamy Stadium   2008  Faf du Plessis   \n",
       "9  Rajiv Gandhi International Cricket Stadium   2013   Aiden Markram   \n",
       "\n",
       "           Head coach  \n",
       "0     Stephen Fleming  \n",
       "1       Ricky Ponting  \n",
       "2        Ashish Nehra  \n",
       "3  Chandrakant Pandit  \n",
       "4         Andy Flower  \n",
       "5        Mark Boucher  \n",
       "6      Trevor Bayliss  \n",
       "7     Kumar Sangakara  \n",
       "8       Sanjay Bangar  \n",
       "9          Brian Lara  "
      ]
     },
     "execution_count": 20,
     "metadata": {},
     "output_type": "execute_result"
    }
   ],
   "source": [
    "df[5]"
   ]
  },
  {
   "cell_type": "code",
   "execution_count": 21,
   "id": "45228c58",
   "metadata": {},
   "outputs": [],
   "source": [
    "table=df[5]"
   ]
  },
  {
   "cell_type": "code",
   "execution_count": 22,
   "id": "54c5f814",
   "metadata": {},
   "outputs": [
    {
     "data": {
      "text/html": [
       "<div>\n",
       "<style scoped>\n",
       "    .dataframe tbody tr th:only-of-type {\n",
       "        vertical-align: middle;\n",
       "    }\n",
       "\n",
       "    .dataframe tbody tr th {\n",
       "        vertical-align: top;\n",
       "    }\n",
       "\n",
       "    .dataframe thead th {\n",
       "        text-align: right;\n",
       "    }\n",
       "</style>\n",
       "<table border=\"1\" class=\"dataframe\">\n",
       "  <thead>\n",
       "    <tr style=\"text-align: right;\">\n",
       "      <th></th>\n",
       "      <th>Debut</th>\n",
       "    </tr>\n",
       "  </thead>\n",
       "  <tbody>\n",
       "    <tr>\n",
       "      <th>count</th>\n",
       "      <td>10.000000</td>\n",
       "    </tr>\n",
       "    <tr>\n",
       "      <th>mean</th>\n",
       "      <td>2011.300000</td>\n",
       "    </tr>\n",
       "    <tr>\n",
       "      <th>std</th>\n",
       "      <td>5.850926</td>\n",
       "    </tr>\n",
       "    <tr>\n",
       "      <th>min</th>\n",
       "      <td>2008.000000</td>\n",
       "    </tr>\n",
       "    <tr>\n",
       "      <th>25%</th>\n",
       "      <td>2008.000000</td>\n",
       "    </tr>\n",
       "    <tr>\n",
       "      <th>50%</th>\n",
       "      <td>2008.000000</td>\n",
       "    </tr>\n",
       "    <tr>\n",
       "      <th>75%</th>\n",
       "      <td>2011.750000</td>\n",
       "    </tr>\n",
       "    <tr>\n",
       "      <th>max</th>\n",
       "      <td>2022.000000</td>\n",
       "    </tr>\n",
       "  </tbody>\n",
       "</table>\n",
       "</div>"
      ],
      "text/plain": [
       "             Debut\n",
       "count    10.000000\n",
       "mean   2011.300000\n",
       "std       5.850926\n",
       "min    2008.000000\n",
       "25%    2008.000000\n",
       "50%    2008.000000\n",
       "75%    2011.750000\n",
       "max    2022.000000"
      ]
     },
     "execution_count": 22,
     "metadata": {},
     "output_type": "execute_result"
    }
   ],
   "source": [
    "table.describe()"
   ]
  },
  {
   "cell_type": "code",
   "execution_count": 23,
   "id": "5010dcdf",
   "metadata": {},
   "outputs": [],
   "source": [
    "df = pd.read_excel('C:\\\\Users\\\\N. ali\\\\Downloads\\\\IPL - Winners.xlsx')"
   ]
  },
  {
   "cell_type": "code",
   "execution_count": 24,
   "id": "3a70c218",
   "metadata": {},
   "outputs": [
    {
     "data": {
      "text/html": [
       "<div>\n",
       "<style scoped>\n",
       "    .dataframe tbody tr th:only-of-type {\n",
       "        vertical-align: middle;\n",
       "    }\n",
       "\n",
       "    .dataframe tbody tr th {\n",
       "        vertical-align: top;\n",
       "    }\n",
       "\n",
       "    .dataframe thead th {\n",
       "        text-align: right;\n",
       "    }\n",
       "</style>\n",
       "<table border=\"1\" class=\"dataframe\">\n",
       "  <thead>\n",
       "    <tr style=\"text-align: right;\">\n",
       "      <th></th>\n",
       "      <th>Year</th>\n",
       "      <th>Orange cap runs</th>\n",
       "      <th>Purple cap wickets</th>\n",
       "    </tr>\n",
       "  </thead>\n",
       "  <tbody>\n",
       "    <tr>\n",
       "      <th>count</th>\n",
       "      <td>16.000000</td>\n",
       "      <td>16.0000</td>\n",
       "      <td>16.000000</td>\n",
       "    </tr>\n",
       "    <tr>\n",
       "      <th>mean</th>\n",
       "      <td>2015.500000</td>\n",
       "      <td>700.0625</td>\n",
       "      <td>26.000000</td>\n",
       "    </tr>\n",
       "    <tr>\n",
       "      <th>std</th>\n",
       "      <td>4.760952</td>\n",
       "      <td>117.9104</td>\n",
       "      <td>3.366502</td>\n",
       "    </tr>\n",
       "    <tr>\n",
       "      <th>min</th>\n",
       "      <td>2008.000000</td>\n",
       "      <td>562.0000</td>\n",
       "      <td>21.000000</td>\n",
       "    </tr>\n",
       "    <tr>\n",
       "      <th>25%</th>\n",
       "      <td>2011.750000</td>\n",
       "      <td>617.5000</td>\n",
       "      <td>23.000000</td>\n",
       "    </tr>\n",
       "    <tr>\n",
       "      <th>50%</th>\n",
       "      <td>2015.500000</td>\n",
       "      <td>665.0000</td>\n",
       "      <td>26.000000</td>\n",
       "    </tr>\n",
       "    <tr>\n",
       "      <th>75%</th>\n",
       "      <td>2019.250000</td>\n",
       "      <td>733.5000</td>\n",
       "      <td>28.000000</td>\n",
       "    </tr>\n",
       "    <tr>\n",
       "      <th>max</th>\n",
       "      <td>2023.000000</td>\n",
       "      <td>973.0000</td>\n",
       "      <td>32.000000</td>\n",
       "    </tr>\n",
       "  </tbody>\n",
       "</table>\n",
       "</div>"
      ],
      "text/plain": [
       "              Year  Orange cap runs  Purple cap wickets\n",
       "count    16.000000          16.0000           16.000000\n",
       "mean   2015.500000         700.0625           26.000000\n",
       "std       4.760952         117.9104            3.366502\n",
       "min    2008.000000         562.0000           21.000000\n",
       "25%    2011.750000         617.5000           23.000000\n",
       "50%    2015.500000         665.0000           26.000000\n",
       "75%    2019.250000         733.5000           28.000000\n",
       "max    2023.000000         973.0000           32.000000"
      ]
     },
     "execution_count": 24,
     "metadata": {},
     "output_type": "execute_result"
    }
   ],
   "source": [
    "df.describe()"
   ]
  },
  {
   "cell_type": "code",
   "execution_count": 25,
   "id": "f8a867c5",
   "metadata": {},
   "outputs": [
    {
     "name": "stdout",
     "output_type": "stream",
     "text": [
      "<class 'pandas.core.frame.DataFrame'>\n",
      "RangeIndex: 16 entries, 0 to 15\n",
      "Data columns (total 13 columns):\n",
      " #   Column                     Non-Null Count  Dtype         \n",
      "---  ------                     --------------  -----         \n",
      " 0   Year                       16 non-null     int64         \n",
      " 1   Winning team               16 non-null     object        \n",
      " 2   runners up                 16 non-null     object        \n",
      " 3   playoff qualifying team 1  16 non-null     object        \n",
      " 4   Playoff qualifying team 2  16 non-null     object        \n",
      " 5   Orange Cap                 16 non-null     object        \n",
      " 6   Orange cap runs            16 non-null     int64         \n",
      " 7   OC winner team             16 non-null     object        \n",
      " 8   Purple Cap                 16 non-null     object        \n",
      " 9   Purple cap wickets         16 non-null     int64         \n",
      " 10  PC winner team             16 non-null     object        \n",
      " 11  Final Venue                16 non-null     object        \n",
      " 12  Final Date                 16 non-null     datetime64[ns]\n",
      "dtypes: datetime64[ns](1), int64(3), object(9)\n",
      "memory usage: 1.8+ KB\n"
     ]
    }
   ],
   "source": [
    "df.info()"
   ]
  },
  {
   "cell_type": "code",
   "execution_count": 30,
   "id": "8ff4337b",
   "metadata": {},
   "outputs": [],
   "source": [
    "?pd.DataFrame.describe"
   ]
  },
  {
   "cell_type": "code",
   "execution_count": 34,
   "id": "4a00467a",
   "metadata": {},
   "outputs": [
    {
     "data": {
      "text/html": [
       "<div>\n",
       "<style scoped>\n",
       "    .dataframe tbody tr th:only-of-type {\n",
       "        vertical-align: middle;\n",
       "    }\n",
       "\n",
       "    .dataframe tbody tr th {\n",
       "        vertical-align: top;\n",
       "    }\n",
       "\n",
       "    .dataframe thead th {\n",
       "        text-align: right;\n",
       "    }\n",
       "</style>\n",
       "<table border=\"1\" class=\"dataframe\">\n",
       "  <thead>\n",
       "    <tr style=\"text-align: right;\">\n",
       "      <th></th>\n",
       "      <th>Year</th>\n",
       "      <th>Winning team</th>\n",
       "      <th>runners up</th>\n",
       "      <th>playoff qualifying team 1</th>\n",
       "      <th>Playoff qualifying team 2</th>\n",
       "      <th>Orange Cap</th>\n",
       "      <th>Orange cap runs</th>\n",
       "      <th>OC winner team</th>\n",
       "      <th>Purple Cap</th>\n",
       "      <th>Purple cap wickets</th>\n",
       "      <th>PC winner team</th>\n",
       "      <th>Final Venue</th>\n",
       "      <th>Final Date</th>\n",
       "    </tr>\n",
       "  </thead>\n",
       "  <tbody>\n",
       "    <tr>\n",
       "      <th>count</th>\n",
       "      <td>16.000000</td>\n",
       "      <td>16</td>\n",
       "      <td>16</td>\n",
       "      <td>16</td>\n",
       "      <td>16</td>\n",
       "      <td>16</td>\n",
       "      <td>16.0000</td>\n",
       "      <td>16</td>\n",
       "      <td>16</td>\n",
       "      <td>16.000000</td>\n",
       "      <td>16</td>\n",
       "      <td>16</td>\n",
       "      <td>16</td>\n",
       "    </tr>\n",
       "    <tr>\n",
       "      <th>unique</th>\n",
       "      <td>NaN</td>\n",
       "      <td>7</td>\n",
       "      <td>10</td>\n",
       "      <td>10</td>\n",
       "      <td>9</td>\n",
       "      <td>13</td>\n",
       "      <td>NaN</td>\n",
       "      <td>8</td>\n",
       "      <td>14</td>\n",
       "      <td>NaN</td>\n",
       "      <td>10</td>\n",
       "      <td>8</td>\n",
       "      <td>NaN</td>\n",
       "    </tr>\n",
       "    <tr>\n",
       "      <th>top</th>\n",
       "      <td>NaN</td>\n",
       "      <td>Chennai Super Kings</td>\n",
       "      <td>Chennai Super Kings</td>\n",
       "      <td>Royal Challengers Bangalore</td>\n",
       "      <td>Sunrisers Hyderabad</td>\n",
       "      <td>David Warner</td>\n",
       "      <td>NaN</td>\n",
       "      <td>Sunrisers Hyderabad</td>\n",
       "      <td>Dwayne Bravo</td>\n",
       "      <td>NaN</td>\n",
       "      <td>Chennai Super kings</td>\n",
       "      <td>Mumbai</td>\n",
       "      <td>NaN</td>\n",
       "    </tr>\n",
       "    <tr>\n",
       "      <th>freq</th>\n",
       "      <td>NaN</td>\n",
       "      <td>5</td>\n",
       "      <td>5</td>\n",
       "      <td>3</td>\n",
       "      <td>3</td>\n",
       "      <td>3</td>\n",
       "      <td>NaN</td>\n",
       "      <td>4</td>\n",
       "      <td>2</td>\n",
       "      <td>NaN</td>\n",
       "      <td>4</td>\n",
       "      <td>3</td>\n",
       "      <td>NaN</td>\n",
       "    </tr>\n",
       "    <tr>\n",
       "      <th>mean</th>\n",
       "      <td>2015.500000</td>\n",
       "      <td>NaN</td>\n",
       "      <td>NaN</td>\n",
       "      <td>NaN</td>\n",
       "      <td>NaN</td>\n",
       "      <td>NaN</td>\n",
       "      <td>700.0625</td>\n",
       "      <td>NaN</td>\n",
       "      <td>NaN</td>\n",
       "      <td>26.000000</td>\n",
       "      <td>NaN</td>\n",
       "      <td>NaN</td>\n",
       "      <td>2015-12-12 13:30:00</td>\n",
       "    </tr>\n",
       "    <tr>\n",
       "      <th>min</th>\n",
       "      <td>2008.000000</td>\n",
       "      <td>NaN</td>\n",
       "      <td>NaN</td>\n",
       "      <td>NaN</td>\n",
       "      <td>NaN</td>\n",
       "      <td>NaN</td>\n",
       "      <td>562.0000</td>\n",
       "      <td>NaN</td>\n",
       "      <td>NaN</td>\n",
       "      <td>21.000000</td>\n",
       "      <td>NaN</td>\n",
       "      <td>NaN</td>\n",
       "      <td>2008-06-01 00:00:00</td>\n",
       "    </tr>\n",
       "    <tr>\n",
       "      <th>25%</th>\n",
       "      <td>2011.750000</td>\n",
       "      <td>NaN</td>\n",
       "      <td>NaN</td>\n",
       "      <td>NaN</td>\n",
       "      <td>NaN</td>\n",
       "      <td>NaN</td>\n",
       "      <td>617.5000</td>\n",
       "      <td>NaN</td>\n",
       "      <td>NaN</td>\n",
       "      <td>23.000000</td>\n",
       "      <td>NaN</td>\n",
       "      <td>NaN</td>\n",
       "      <td>2012-02-25 18:00:00</td>\n",
       "    </tr>\n",
       "    <tr>\n",
       "      <th>50%</th>\n",
       "      <td>2015.500000</td>\n",
       "      <td>NaN</td>\n",
       "      <td>NaN</td>\n",
       "      <td>NaN</td>\n",
       "      <td>NaN</td>\n",
       "      <td>NaN</td>\n",
       "      <td>665.0000</td>\n",
       "      <td>NaN</td>\n",
       "      <td>NaN</td>\n",
       "      <td>26.000000</td>\n",
       "      <td>NaN</td>\n",
       "      <td>NaN</td>\n",
       "      <td>2015-11-25 12:00:00</td>\n",
       "    </tr>\n",
       "    <tr>\n",
       "      <th>75%</th>\n",
       "      <td>2019.250000</td>\n",
       "      <td>NaN</td>\n",
       "      <td>NaN</td>\n",
       "      <td>NaN</td>\n",
       "      <td>NaN</td>\n",
       "      <td>NaN</td>\n",
       "      <td>733.5000</td>\n",
       "      <td>NaN</td>\n",
       "      <td>NaN</td>\n",
       "      <td>28.000000</td>\n",
       "      <td>NaN</td>\n",
       "      <td>NaN</td>\n",
       "      <td>2019-09-26 00:00:00</td>\n",
       "    </tr>\n",
       "    <tr>\n",
       "      <th>max</th>\n",
       "      <td>2023.000000</td>\n",
       "      <td>NaN</td>\n",
       "      <td>NaN</td>\n",
       "      <td>NaN</td>\n",
       "      <td>NaN</td>\n",
       "      <td>NaN</td>\n",
       "      <td>973.0000</td>\n",
       "      <td>NaN</td>\n",
       "      <td>NaN</td>\n",
       "      <td>32.000000</td>\n",
       "      <td>NaN</td>\n",
       "      <td>NaN</td>\n",
       "      <td>2023-05-29 00:00:00</td>\n",
       "    </tr>\n",
       "    <tr>\n",
       "      <th>std</th>\n",
       "      <td>4.760952</td>\n",
       "      <td>NaN</td>\n",
       "      <td>NaN</td>\n",
       "      <td>NaN</td>\n",
       "      <td>NaN</td>\n",
       "      <td>NaN</td>\n",
       "      <td>117.9104</td>\n",
       "      <td>NaN</td>\n",
       "      <td>NaN</td>\n",
       "      <td>3.366502</td>\n",
       "      <td>NaN</td>\n",
       "      <td>NaN</td>\n",
       "      <td>NaN</td>\n",
       "    </tr>\n",
       "  </tbody>\n",
       "</table>\n",
       "</div>"
      ],
      "text/plain": [
       "               Year         Winning team           runners up  \\\n",
       "count     16.000000                   16                   16   \n",
       "unique          NaN                    7                   10   \n",
       "top             NaN  Chennai Super Kings  Chennai Super Kings   \n",
       "freq            NaN                    5                    5   \n",
       "mean    2015.500000                  NaN                  NaN   \n",
       "min     2008.000000                  NaN                  NaN   \n",
       "25%     2011.750000                  NaN                  NaN   \n",
       "50%     2015.500000                  NaN                  NaN   \n",
       "75%     2019.250000                  NaN                  NaN   \n",
       "max     2023.000000                  NaN                  NaN   \n",
       "std        4.760952                  NaN                  NaN   \n",
       "\n",
       "          playoff qualifying team 1 Playoff qualifying team 2    Orange Cap  \\\n",
       "count                            16                        16            16   \n",
       "unique                           10                         9            13   \n",
       "top     Royal Challengers Bangalore       Sunrisers Hyderabad  David Warner   \n",
       "freq                              3                         3             3   \n",
       "mean                            NaN                       NaN           NaN   \n",
       "min                             NaN                       NaN           NaN   \n",
       "25%                             NaN                       NaN           NaN   \n",
       "50%                             NaN                       NaN           NaN   \n",
       "75%                             NaN                       NaN           NaN   \n",
       "max                             NaN                       NaN           NaN   \n",
       "std                             NaN                       NaN           NaN   \n",
       "\n",
       "        Orange cap runs       OC winner team    Purple Cap  \\\n",
       "count           16.0000                   16            16   \n",
       "unique              NaN                    8            14   \n",
       "top                 NaN  Sunrisers Hyderabad  Dwayne Bravo   \n",
       "freq                NaN                    4             2   \n",
       "mean           700.0625                  NaN           NaN   \n",
       "min            562.0000                  NaN           NaN   \n",
       "25%            617.5000                  NaN           NaN   \n",
       "50%            665.0000                  NaN           NaN   \n",
       "75%            733.5000                  NaN           NaN   \n",
       "max            973.0000                  NaN           NaN   \n",
       "std            117.9104                  NaN           NaN   \n",
       "\n",
       "        Purple cap wickets       PC winner team Final Venue  \\\n",
       "count            16.000000                   16          16   \n",
       "unique                 NaN                   10           8   \n",
       "top                    NaN  Chennai Super kings      Mumbai   \n",
       "freq                   NaN                    4           3   \n",
       "mean             26.000000                  NaN         NaN   \n",
       "min              21.000000                  NaN         NaN   \n",
       "25%              23.000000                  NaN         NaN   \n",
       "50%              26.000000                  NaN         NaN   \n",
       "75%              28.000000                  NaN         NaN   \n",
       "max              32.000000                  NaN         NaN   \n",
       "std               3.366502                  NaN         NaN   \n",
       "\n",
       "                 Final Date  \n",
       "count                    16  \n",
       "unique                  NaN  \n",
       "top                     NaN  \n",
       "freq                    NaN  \n",
       "mean    2015-12-12 13:30:00  \n",
       "min     2008-06-01 00:00:00  \n",
       "25%     2012-02-25 18:00:00  \n",
       "50%     2015-11-25 12:00:00  \n",
       "75%     2019-09-26 00:00:00  \n",
       "max     2023-05-29 00:00:00  \n",
       "std                     NaN  "
      ]
     },
     "execution_count": 34,
     "metadata": {},
     "output_type": "execute_result"
    }
   ],
   "source": [
    "df.describe(include='all',datetime_is_numeric=True)"
   ]
  },
  {
   "cell_type": "code",
   "execution_count": 37,
   "id": "fdc21176",
   "metadata": {},
   "outputs": [
    {
     "data": {
      "text/html": [
       "<div>\n",
       "<style scoped>\n",
       "    .dataframe tbody tr th:only-of-type {\n",
       "        vertical-align: middle;\n",
       "    }\n",
       "\n",
       "    .dataframe tbody tr th {\n",
       "        vertical-align: top;\n",
       "    }\n",
       "\n",
       "    .dataframe thead th {\n",
       "        text-align: right;\n",
       "    }\n",
       "</style>\n",
       "<table border=\"1\" class=\"dataframe\">\n",
       "  <thead>\n",
       "    <tr style=\"text-align: right;\">\n",
       "      <th></th>\n",
       "      <th>count</th>\n",
       "      <th>unique</th>\n",
       "      <th>top</th>\n",
       "      <th>freq</th>\n",
       "    </tr>\n",
       "  </thead>\n",
       "  <tbody>\n",
       "    <tr>\n",
       "      <th>Winning team</th>\n",
       "      <td>16</td>\n",
       "      <td>7</td>\n",
       "      <td>Chennai Super Kings</td>\n",
       "      <td>5</td>\n",
       "    </tr>\n",
       "    <tr>\n",
       "      <th>runners up</th>\n",
       "      <td>16</td>\n",
       "      <td>10</td>\n",
       "      <td>Chennai Super Kings</td>\n",
       "      <td>5</td>\n",
       "    </tr>\n",
       "    <tr>\n",
       "      <th>playoff qualifying team 1</th>\n",
       "      <td>16</td>\n",
       "      <td>10</td>\n",
       "      <td>Royal Challengers Bangalore</td>\n",
       "      <td>3</td>\n",
       "    </tr>\n",
       "    <tr>\n",
       "      <th>Playoff qualifying team 2</th>\n",
       "      <td>16</td>\n",
       "      <td>9</td>\n",
       "      <td>Sunrisers Hyderabad</td>\n",
       "      <td>3</td>\n",
       "    </tr>\n",
       "    <tr>\n",
       "      <th>Orange Cap</th>\n",
       "      <td>16</td>\n",
       "      <td>13</td>\n",
       "      <td>David Warner</td>\n",
       "      <td>3</td>\n",
       "    </tr>\n",
       "    <tr>\n",
       "      <th>OC winner team</th>\n",
       "      <td>16</td>\n",
       "      <td>8</td>\n",
       "      <td>Sunrisers Hyderabad</td>\n",
       "      <td>4</td>\n",
       "    </tr>\n",
       "    <tr>\n",
       "      <th>Purple Cap</th>\n",
       "      <td>16</td>\n",
       "      <td>14</td>\n",
       "      <td>Dwayne Bravo</td>\n",
       "      <td>2</td>\n",
       "    </tr>\n",
       "    <tr>\n",
       "      <th>PC winner team</th>\n",
       "      <td>16</td>\n",
       "      <td>10</td>\n",
       "      <td>Chennai Super kings</td>\n",
       "      <td>4</td>\n",
       "    </tr>\n",
       "    <tr>\n",
       "      <th>Final Venue</th>\n",
       "      <td>16</td>\n",
       "      <td>8</td>\n",
       "      <td>Mumbai</td>\n",
       "      <td>3</td>\n",
       "    </tr>\n",
       "  </tbody>\n",
       "</table>\n",
       "</div>"
      ],
      "text/plain": [
       "                          count unique                          top freq\n",
       "Winning team                 16      7          Chennai Super Kings    5\n",
       "runners up                   16     10          Chennai Super Kings    5\n",
       "playoff qualifying team 1    16     10  Royal Challengers Bangalore    3\n",
       "Playoff qualifying team 2    16      9          Sunrisers Hyderabad    3\n",
       "Orange Cap                   16     13                 David Warner    3\n",
       "OC winner team               16      8          Sunrisers Hyderabad    4\n",
       "Purple Cap                   16     14                 Dwayne Bravo    2\n",
       "PC winner team               16     10          Chennai Super kings    4\n",
       "Final Venue                  16      8                       Mumbai    3"
      ]
     },
     "execution_count": 37,
     "metadata": {},
     "output_type": "execute_result"
    }
   ],
   "source": [
    "df.describe(include='O').transpose() #describing object"
   ]
  },
  {
   "cell_type": "code",
   "execution_count": 39,
   "id": "523ec0de",
   "metadata": {},
   "outputs": [
    {
     "data": {
      "text/plain": [
       "Chennai Super Kings      5\n",
       "Mumbai Indians           5\n",
       "Kolkata Knight Riders    2\n",
       "Rajasthan Royals         1\n",
       "Deccan Chargers          1\n",
       "Sunrisers Hyderabad      1\n",
       "Gujarat Titans           1\n",
       "Name: Winning team, dtype: int64"
      ]
     },
     "execution_count": 39,
     "metadata": {},
     "output_type": "execute_result"
    }
   ],
   "source": [
    "df['Winning team'].value_counts()"
   ]
  },
  {
   "cell_type": "code",
   "execution_count": 40,
   "id": "2cd4686b",
   "metadata": {},
   "outputs": [],
   "source": [
    "#1,5,95,99% using describe"
   ]
  },
  {
   "cell_type": "code",
   "execution_count": 41,
   "id": "b3b1efa8",
   "metadata": {},
   "outputs": [
    {
     "data": {
      "text/html": [
       "<div>\n",
       "<style scoped>\n",
       "    .dataframe tbody tr th:only-of-type {\n",
       "        vertical-align: middle;\n",
       "    }\n",
       "\n",
       "    .dataframe tbody tr th {\n",
       "        vertical-align: top;\n",
       "    }\n",
       "\n",
       "    .dataframe thead th {\n",
       "        text-align: right;\n",
       "    }\n",
       "</style>\n",
       "<table border=\"1\" class=\"dataframe\">\n",
       "  <thead>\n",
       "    <tr style=\"text-align: right;\">\n",
       "      <th></th>\n",
       "      <th>Year</th>\n",
       "      <th>Orange cap runs</th>\n",
       "      <th>Purple cap wickets</th>\n",
       "    </tr>\n",
       "  </thead>\n",
       "  <tbody>\n",
       "    <tr>\n",
       "      <th>count</th>\n",
       "      <td>16.000000</td>\n",
       "      <td>16.0000</td>\n",
       "      <td>16.000000</td>\n",
       "    </tr>\n",
       "    <tr>\n",
       "      <th>mean</th>\n",
       "      <td>2015.500000</td>\n",
       "      <td>700.0625</td>\n",
       "      <td>26.000000</td>\n",
       "    </tr>\n",
       "    <tr>\n",
       "      <th>std</th>\n",
       "      <td>4.760952</td>\n",
       "      <td>117.9104</td>\n",
       "      <td>3.366502</td>\n",
       "    </tr>\n",
       "    <tr>\n",
       "      <th>min</th>\n",
       "      <td>2008.000000</td>\n",
       "      <td>562.0000</td>\n",
       "      <td>21.000000</td>\n",
       "    </tr>\n",
       "    <tr>\n",
       "      <th>1%</th>\n",
       "      <td>2008.150000</td>\n",
       "      <td>563.5000</td>\n",
       "      <td>21.150000</td>\n",
       "    </tr>\n",
       "    <tr>\n",
       "      <th>5%</th>\n",
       "      <td>2008.750000</td>\n",
       "      <td>569.5000</td>\n",
       "      <td>21.750000</td>\n",
       "    </tr>\n",
       "    <tr>\n",
       "      <th>50%</th>\n",
       "      <td>2015.500000</td>\n",
       "      <td>665.0000</td>\n",
       "      <td>26.000000</td>\n",
       "    </tr>\n",
       "    <tr>\n",
       "      <th>95%</th>\n",
       "      <td>2022.250000</td>\n",
       "      <td>910.7500</td>\n",
       "      <td>32.000000</td>\n",
       "    </tr>\n",
       "    <tr>\n",
       "      <th>99%</th>\n",
       "      <td>2022.850000</td>\n",
       "      <td>960.5500</td>\n",
       "      <td>32.000000</td>\n",
       "    </tr>\n",
       "    <tr>\n",
       "      <th>max</th>\n",
       "      <td>2023.000000</td>\n",
       "      <td>973.0000</td>\n",
       "      <td>32.000000</td>\n",
       "    </tr>\n",
       "  </tbody>\n",
       "</table>\n",
       "</div>"
      ],
      "text/plain": [
       "              Year  Orange cap runs  Purple cap wickets\n",
       "count    16.000000          16.0000           16.000000\n",
       "mean   2015.500000         700.0625           26.000000\n",
       "std       4.760952         117.9104            3.366502\n",
       "min    2008.000000         562.0000           21.000000\n",
       "1%     2008.150000         563.5000           21.150000\n",
       "5%     2008.750000         569.5000           21.750000\n",
       "50%    2015.500000         665.0000           26.000000\n",
       "95%    2022.250000         910.7500           32.000000\n",
       "99%    2022.850000         960.5500           32.000000\n",
       "max    2023.000000         973.0000           32.000000"
      ]
     },
     "execution_count": 41,
     "metadata": {},
     "output_type": "execute_result"
    }
   ],
   "source": [
    "df.describe(percentiles=[0.01, 0.05, 0.95, 0.99])"
   ]
  },
  {
   "cell_type": "code",
   "execution_count": 42,
   "id": "f3fa2fec",
   "metadata": {},
   "outputs": [],
   "source": [
    "df = pd.read_excel('C:\\\\Users\\\\N. ali\\\\Downloads\\\\Starbucks Store Locations.xlsx')"
   ]
  },
  {
   "cell_type": "code",
   "execution_count": 43,
   "id": "53425529",
   "metadata": {},
   "outputs": [
    {
     "name": "stdout",
     "output_type": "stream",
     "text": [
      "<class 'pandas.core.frame.DataFrame'>\n",
      "RangeIndex: 25601 entries, 0 to 25600\n",
      "Data columns (total 13 columns):\n",
      " #   Column          Non-Null Count  Dtype  \n",
      "---  ------          --------------  -----  \n",
      " 0   Brand           25601 non-null  object \n",
      " 1   Store Number    25600 non-null  object \n",
      " 2   Store Name      25600 non-null  object \n",
      " 3   Ownership Type  25600 non-null  object \n",
      " 4   Street Address  25598 non-null  object \n",
      " 5   City            25584 non-null  object \n",
      " 6   State/Province  25599 non-null  object \n",
      " 7   Country         25599 non-null  object \n",
      " 8   Postcode        24077 non-null  object \n",
      " 9   Phone Number    18739 non-null  object \n",
      " 10  Timezone        25599 non-null  object \n",
      " 11  Longitude       25598 non-null  float64\n",
      " 12  Latitude        25598 non-null  float64\n",
      "dtypes: float64(2), object(11)\n",
      "memory usage: 2.5+ MB\n"
     ]
    }
   ],
   "source": [
    "df.info()"
   ]
  },
  {
   "cell_type": "code",
   "execution_count": 44,
   "id": "0526debd",
   "metadata": {},
   "outputs": [
    {
     "data": {
      "text/plain": [
       "pandas.core.frame.DataFrame"
      ]
     },
     "execution_count": 44,
     "metadata": {},
     "output_type": "execute_result"
    }
   ],
   "source": [
    "type(df)"
   ]
  },
  {
   "cell_type": "code",
   "execution_count": 46,
   "id": "a6b5b754",
   "metadata": {},
   "outputs": [
    {
     "data": {
      "text/plain": [
       "(25601, 13)"
      ]
     },
     "execution_count": 46,
     "metadata": {},
     "output_type": "execute_result"
    }
   ],
   "source": [
    "df.shape"
   ]
  },
  {
   "cell_type": "code",
   "execution_count": 47,
   "id": "c6ee77a6",
   "metadata": {},
   "outputs": [
    {
     "data": {
      "text/html": [
       "<div>\n",
       "<style scoped>\n",
       "    .dataframe tbody tr th:only-of-type {\n",
       "        vertical-align: middle;\n",
       "    }\n",
       "\n",
       "    .dataframe tbody tr th {\n",
       "        vertical-align: top;\n",
       "    }\n",
       "\n",
       "    .dataframe thead th {\n",
       "        text-align: right;\n",
       "    }\n",
       "</style>\n",
       "<table border=\"1\" class=\"dataframe\">\n",
       "  <thead>\n",
       "    <tr style=\"text-align: right;\">\n",
       "      <th></th>\n",
       "      <th>Brand</th>\n",
       "      <th>Store Number</th>\n",
       "      <th>Store Name</th>\n",
       "      <th>Ownership Type</th>\n",
       "      <th>Street Address</th>\n",
       "      <th>City</th>\n",
       "      <th>State/Province</th>\n",
       "      <th>Country</th>\n",
       "      <th>Postcode</th>\n",
       "      <th>Phone Number</th>\n",
       "      <th>Timezone</th>\n",
       "      <th>Longitude</th>\n",
       "      <th>Latitude</th>\n",
       "    </tr>\n",
       "  </thead>\n",
       "  <tbody>\n",
       "    <tr>\n",
       "      <th>0</th>\n",
       "      <td>Starbucks</td>\n",
       "      <td>47370-257954</td>\n",
       "      <td>Meritxell, 96</td>\n",
       "      <td>Licensed</td>\n",
       "      <td>Av. Meritxell, 96</td>\n",
       "      <td>Andorra la Vella</td>\n",
       "      <td>7</td>\n",
       "      <td>AD</td>\n",
       "      <td>AD500</td>\n",
       "      <td>376818720</td>\n",
       "      <td>GMT+1:00 Europe/Andorra</td>\n",
       "      <td>1.53</td>\n",
       "      <td>42.51</td>\n",
       "    </tr>\n",
       "    <tr>\n",
       "      <th>1</th>\n",
       "      <td>Starbucks</td>\n",
       "      <td>22331-212325</td>\n",
       "      <td>Ajman Drive Thru</td>\n",
       "      <td>Licensed</td>\n",
       "      <td>1 Street 69, Al Jarf</td>\n",
       "      <td>Ajman</td>\n",
       "      <td>AJ</td>\n",
       "      <td>AE</td>\n",
       "      <td>NaN</td>\n",
       "      <td>NaN</td>\n",
       "      <td>GMT+04:00 Asia/Dubai</td>\n",
       "      <td>55.47</td>\n",
       "      <td>25.42</td>\n",
       "    </tr>\n",
       "  </tbody>\n",
       "</table>\n",
       "</div>"
      ],
      "text/plain": [
       "       Brand  Store Number        Store Name Ownership Type  \\\n",
       "0  Starbucks  47370-257954     Meritxell, 96       Licensed   \n",
       "1  Starbucks  22331-212325  Ajman Drive Thru       Licensed   \n",
       "\n",
       "         Street Address              City State/Province Country Postcode  \\\n",
       "0     Av. Meritxell, 96  Andorra la Vella              7      AD    AD500   \n",
       "1  1 Street 69, Al Jarf             Ajman             AJ      AE      NaN   \n",
       "\n",
       "  Phone Number                 Timezone  Longitude  Latitude  \n",
       "0    376818720  GMT+1:00 Europe/Andorra       1.53     42.51  \n",
       "1          NaN     GMT+04:00 Asia/Dubai      55.47     25.42  "
      ]
     },
     "execution_count": 47,
     "metadata": {},
     "output_type": "execute_result"
    }
   ],
   "source": [
    "df.head(2)"
   ]
  },
  {
   "cell_type": "code",
   "execution_count": 49,
   "id": "06775b9b",
   "metadata": {},
   "outputs": [
    {
     "data": {
      "text/html": [
       "<div>\n",
       "<style scoped>\n",
       "    .dataframe tbody tr th:only-of-type {\n",
       "        vertical-align: middle;\n",
       "    }\n",
       "\n",
       "    .dataframe tbody tr th {\n",
       "        vertical-align: top;\n",
       "    }\n",
       "\n",
       "    .dataframe thead th {\n",
       "        text-align: right;\n",
       "    }\n",
       "</style>\n",
       "<table border=\"1\" class=\"dataframe\">\n",
       "  <thead>\n",
       "    <tr style=\"text-align: right;\">\n",
       "      <th></th>\n",
       "      <th>Brand</th>\n",
       "      <th>Store Number</th>\n",
       "      <th>Store Name</th>\n",
       "      <th>Ownership Type</th>\n",
       "      <th>Street Address</th>\n",
       "      <th>City</th>\n",
       "      <th>State/Province</th>\n",
       "      <th>Country</th>\n",
       "      <th>Postcode</th>\n",
       "      <th>Phone Number</th>\n",
       "      <th>Timezone</th>\n",
       "      <th>Longitude</th>\n",
       "      <th>Latitude</th>\n",
       "    </tr>\n",
       "  </thead>\n",
       "  <tbody>\n",
       "    <tr>\n",
       "      <th>25599</th>\n",
       "      <td>Starbucks</td>\n",
       "      <td>47640-253809</td>\n",
       "      <td>Menlyn Maine</td>\n",
       "      <td>Licensed</td>\n",
       "      <td>Shop 61B, Central Square, Cnr Aramist &amp; Coroba...</td>\n",
       "      <td>Menlyn</td>\n",
       "      <td>GT</td>\n",
       "      <td>ZA</td>\n",
       "      <td>181</td>\n",
       "      <td>NaN</td>\n",
       "      <td>GMT+000000 Africa/Johannesburg</td>\n",
       "      <td>28.28</td>\n",
       "      <td>-25.79</td>\n",
       "    </tr>\n",
       "    <tr>\n",
       "      <th>25600</th>\n",
       "      <td>Starbucks</td>\n",
       "      <td>47609-253286</td>\n",
       "      <td>Mall of Africa</td>\n",
       "      <td>Licensed</td>\n",
       "      <td>Shop 2077, Upper Level, Waterfall City</td>\n",
       "      <td>Midrand</td>\n",
       "      <td>GT</td>\n",
       "      <td>ZA</td>\n",
       "      <td>1682</td>\n",
       "      <td>27873500215</td>\n",
       "      <td>GMT+000000 Africa/Johannesburg</td>\n",
       "      <td>28.11</td>\n",
       "      <td>-26.02</td>\n",
       "    </tr>\n",
       "  </tbody>\n",
       "</table>\n",
       "</div>"
      ],
      "text/plain": [
       "           Brand  Store Number      Store Name Ownership Type  \\\n",
       "25599  Starbucks  47640-253809    Menlyn Maine       Licensed   \n",
       "25600  Starbucks  47609-253286  Mall of Africa       Licensed   \n",
       "\n",
       "                                          Street Address     City  \\\n",
       "25599  Shop 61B, Central Square, Cnr Aramist & Coroba...   Menlyn   \n",
       "25600             Shop 2077, Upper Level, Waterfall City  Midrand   \n",
       "\n",
       "      State/Province Country Postcode Phone Number  \\\n",
       "25599             GT      ZA      181          NaN   \n",
       "25600             GT      ZA     1682  27873500215   \n",
       "\n",
       "                             Timezone  Longitude  Latitude  \n",
       "25599  GMT+000000 Africa/Johannesburg      28.28    -25.79  \n",
       "25600  GMT+000000 Africa/Johannesburg      28.11    -26.02  "
      ]
     },
     "execution_count": 49,
     "metadata": {},
     "output_type": "execute_result"
    }
   ],
   "source": [
    "df.tail(2)"
   ]
  },
  {
   "cell_type": "code",
   "execution_count": 51,
   "id": "e5354c85",
   "metadata": {},
   "outputs": [
    {
     "data": {
      "text/html": [
       "<div>\n",
       "<style scoped>\n",
       "    .dataframe tbody tr th:only-of-type {\n",
       "        vertical-align: middle;\n",
       "    }\n",
       "\n",
       "    .dataframe tbody tr th {\n",
       "        vertical-align: top;\n",
       "    }\n",
       "\n",
       "    .dataframe thead th {\n",
       "        text-align: right;\n",
       "    }\n",
       "</style>\n",
       "<table border=\"1\" class=\"dataframe\">\n",
       "  <thead>\n",
       "    <tr style=\"text-align: right;\">\n",
       "      <th></th>\n",
       "      <th>Longitude</th>\n",
       "      <th>Latitude</th>\n",
       "    </tr>\n",
       "  </thead>\n",
       "  <tbody>\n",
       "    <tr>\n",
       "      <th>count</th>\n",
       "      <td>25598.000000</td>\n",
       "      <td>25598.000000</td>\n",
       "    </tr>\n",
       "    <tr>\n",
       "      <th>mean</th>\n",
       "      <td>-27.873312</td>\n",
       "      <td>34.792361</td>\n",
       "    </tr>\n",
       "    <tr>\n",
       "      <th>std</th>\n",
       "      <td>96.845784</td>\n",
       "      <td>13.342181</td>\n",
       "    </tr>\n",
       "    <tr>\n",
       "      <th>min</th>\n",
       "      <td>-159.460000</td>\n",
       "      <td>-46.410000</td>\n",
       "    </tr>\n",
       "    <tr>\n",
       "      <th>25%</th>\n",
       "      <td>-104.667500</td>\n",
       "      <td>31.240000</td>\n",
       "    </tr>\n",
       "    <tr>\n",
       "      <th>50%</th>\n",
       "      <td>-79.355000</td>\n",
       "      <td>36.750000</td>\n",
       "    </tr>\n",
       "    <tr>\n",
       "      <th>75%</th>\n",
       "      <td>100.630000</td>\n",
       "      <td>41.570000</td>\n",
       "    </tr>\n",
       "    <tr>\n",
       "      <th>max</th>\n",
       "      <td>176.920000</td>\n",
       "      <td>64.850000</td>\n",
       "    </tr>\n",
       "  </tbody>\n",
       "</table>\n",
       "</div>"
      ],
      "text/plain": [
       "          Longitude      Latitude\n",
       "count  25598.000000  25598.000000\n",
       "mean     -27.873312     34.792361\n",
       "std       96.845784     13.342181\n",
       "min     -159.460000    -46.410000\n",
       "25%     -104.667500     31.240000\n",
       "50%      -79.355000     36.750000\n",
       "75%      100.630000     41.570000\n",
       "max      176.920000     64.850000"
      ]
     },
     "execution_count": 51,
     "metadata": {},
     "output_type": "execute_result"
    }
   ],
   "source": [
    "df.describe()"
   ]
  },
  {
   "cell_type": "code",
   "execution_count": 52,
   "id": "48fb6067",
   "metadata": {},
   "outputs": [],
   "source": [
    "df = pd.read_excel('C:\\\\Users\\\\N. ali\\\\Downloads\\\\IPL - Winners.xlsx')"
   ]
  },
  {
   "cell_type": "code",
   "execution_count": 53,
   "id": "0b68cac3",
   "metadata": {},
   "outputs": [
    {
     "data": {
      "text/plain": [
       "Index(['Year', 'Winning team', 'runners up', 'playoff qualifying team 1',\n",
       "       'Playoff qualifying team 2', 'Orange Cap', 'Orange cap runs',\n",
       "       'OC winner team', 'Purple Cap', 'Purple cap wickets', 'PC winner team',\n",
       "       'Final Venue', 'Final Date'],\n",
       "      dtype='object')"
      ]
     },
     "execution_count": 53,
     "metadata": {},
     "output_type": "execute_result"
    }
   ],
   "source": [
    "df.columns"
   ]
  },
  {
   "cell_type": "code",
   "execution_count": 55,
   "id": "f9e62311",
   "metadata": {},
   "outputs": [
    {
     "data": {
      "text/plain": [
       "RangeIndex(start=0, stop=16, step=1)"
      ]
     },
     "execution_count": 55,
     "metadata": {},
     "output_type": "execute_result"
    }
   ],
   "source": [
    "df.index"
   ]
  },
  {
   "cell_type": "code",
   "execution_count": 57,
   "id": "2ed70650",
   "metadata": {},
   "outputs": [],
   "source": [
    "?pd.DataFrame.describe"
   ]
  },
  {
   "cell_type": "code",
   "execution_count": 61,
   "id": "cea535ef",
   "metadata": {},
   "outputs": [
    {
     "data": {
      "text/html": [
       "<div>\n",
       "<style scoped>\n",
       "    .dataframe tbody tr th:only-of-type {\n",
       "        vertical-align: middle;\n",
       "    }\n",
       "\n",
       "    .dataframe tbody tr th {\n",
       "        vertical-align: top;\n",
       "    }\n",
       "\n",
       "    .dataframe thead th {\n",
       "        text-align: right;\n",
       "    }\n",
       "</style>\n",
       "<table border=\"1\" class=\"dataframe\">\n",
       "  <thead>\n",
       "    <tr style=\"text-align: right;\">\n",
       "      <th></th>\n",
       "      <th>Orange Cap</th>\n",
       "      <th>Year</th>\n",
       "    </tr>\n",
       "  </thead>\n",
       "  <tbody>\n",
       "    <tr>\n",
       "      <th>0</th>\n",
       "      <td>Shaun Marsh</td>\n",
       "      <td>2008</td>\n",
       "    </tr>\n",
       "    <tr>\n",
       "      <th>1</th>\n",
       "      <td>Matthew Hayden</td>\n",
       "      <td>2009</td>\n",
       "    </tr>\n",
       "    <tr>\n",
       "      <th>2</th>\n",
       "      <td>Sachin Tendulkar</td>\n",
       "      <td>2010</td>\n",
       "    </tr>\n",
       "    <tr>\n",
       "      <th>3</th>\n",
       "      <td>Chris Gayle</td>\n",
       "      <td>2011</td>\n",
       "    </tr>\n",
       "    <tr>\n",
       "      <th>4</th>\n",
       "      <td>Chris Gayle</td>\n",
       "      <td>2012</td>\n",
       "    </tr>\n",
       "    <tr>\n",
       "      <th>5</th>\n",
       "      <td>Michael Hussey</td>\n",
       "      <td>2013</td>\n",
       "    </tr>\n",
       "    <tr>\n",
       "      <th>6</th>\n",
       "      <td>Robin Uthappa</td>\n",
       "      <td>2014</td>\n",
       "    </tr>\n",
       "    <tr>\n",
       "      <th>7</th>\n",
       "      <td>David Warner</td>\n",
       "      <td>2015</td>\n",
       "    </tr>\n",
       "    <tr>\n",
       "      <th>8</th>\n",
       "      <td>Virat Kohli</td>\n",
       "      <td>2016</td>\n",
       "    </tr>\n",
       "    <tr>\n",
       "      <th>9</th>\n",
       "      <td>David Warner</td>\n",
       "      <td>2017</td>\n",
       "    </tr>\n",
       "    <tr>\n",
       "      <th>10</th>\n",
       "      <td>Kane Williamson</td>\n",
       "      <td>2018</td>\n",
       "    </tr>\n",
       "    <tr>\n",
       "      <th>11</th>\n",
       "      <td>David Warner</td>\n",
       "      <td>2019</td>\n",
       "    </tr>\n",
       "    <tr>\n",
       "      <th>12</th>\n",
       "      <td>KL Rahul</td>\n",
       "      <td>2020</td>\n",
       "    </tr>\n",
       "    <tr>\n",
       "      <th>13</th>\n",
       "      <td>Ruturaj Gaikwad</td>\n",
       "      <td>2021</td>\n",
       "    </tr>\n",
       "    <tr>\n",
       "      <th>14</th>\n",
       "      <td>Jos Buttler</td>\n",
       "      <td>2022</td>\n",
       "    </tr>\n",
       "    <tr>\n",
       "      <th>15</th>\n",
       "      <td>Shubman Gill</td>\n",
       "      <td>2023</td>\n",
       "    </tr>\n",
       "  </tbody>\n",
       "</table>\n",
       "</div>"
      ],
      "text/plain": [
       "           Orange Cap  Year\n",
       "0         Shaun Marsh  2008\n",
       "1      Matthew Hayden  2009\n",
       "2   Sachin Tendulkar   2010\n",
       "3         Chris Gayle  2011\n",
       "4         Chris Gayle  2012\n",
       "5      Michael Hussey  2013\n",
       "6       Robin Uthappa  2014\n",
       "7        David Warner  2015\n",
       "8        Virat Kohli   2016\n",
       "9        David Warner  2017\n",
       "10    Kane Williamson  2018\n",
       "11       David Warner  2019\n",
       "12           KL Rahul  2020\n",
       "13    Ruturaj Gaikwad  2021\n",
       "14        Jos Buttler  2022\n",
       "15       Shubman Gill  2023"
      ]
     },
     "execution_count": 61,
     "metadata": {},
     "output_type": "execute_result"
    }
   ],
   "source": [
    "df[['Orange Cap','Year']]"
   ]
  },
  {
   "cell_type": "code",
   "execution_count": 62,
   "id": "f3d081dd",
   "metadata": {},
   "outputs": [
    {
     "data": {
      "text/plain": [
       "pandas.core.frame.DataFrame"
      ]
     },
     "execution_count": 62,
     "metadata": {},
     "output_type": "execute_result"
    }
   ],
   "source": [
    "type(df[['Orange Cap','Year']])"
   ]
  },
  {
   "cell_type": "code",
   "execution_count": 70,
   "id": "8d0e89da",
   "metadata": {},
   "outputs": [
    {
     "data": {
      "text/plain": [
       "Year                                        2013\n",
       "Winning team                      Mumbai Indians\n",
       "runners up                   Chennai Super Kings\n",
       "playoff qualifying team 1       Rajasthan Royals\n",
       "Playoff qualifying team 2    Sunrisers Hyderabad\n",
       "Orange Cap                        Michael Hussey\n",
       "Orange cap runs                              733\n",
       "OC winner team                    Mumbai Indians\n",
       "Purple Cap                          Dwayne Bravo\n",
       "Purple cap wickets                            32\n",
       "PC winner team               Chennai Super kings\n",
       "Final Venue                              Kolkata\n",
       "Final Date                   2013-05-26 00:00:00\n",
       "Name: 5, dtype: object"
      ]
     },
     "execution_count": 70,
     "metadata": {},
     "output_type": "execute_result"
    }
   ],
   "source": [
    "df.loc[5]"
   ]
  },
  {
   "cell_type": "code",
   "execution_count": 73,
   "id": "ba2b533a",
   "metadata": {},
   "outputs": [
    {
     "data": {
      "text/html": [
       "<div>\n",
       "<style scoped>\n",
       "    .dataframe tbody tr th:only-of-type {\n",
       "        vertical-align: middle;\n",
       "    }\n",
       "\n",
       "    .dataframe tbody tr th {\n",
       "        vertical-align: top;\n",
       "    }\n",
       "\n",
       "    .dataframe thead th {\n",
       "        text-align: right;\n",
       "    }\n",
       "</style>\n",
       "<table border=\"1\" class=\"dataframe\">\n",
       "  <thead>\n",
       "    <tr style=\"text-align: right;\">\n",
       "      <th></th>\n",
       "      <th>Year</th>\n",
       "      <th>Winning team</th>\n",
       "      <th>runners up</th>\n",
       "      <th>playoff qualifying team 1</th>\n",
       "      <th>Playoff qualifying team 2</th>\n",
       "      <th>Orange Cap</th>\n",
       "      <th>Orange cap runs</th>\n",
       "      <th>OC winner team</th>\n",
       "      <th>Purple Cap</th>\n",
       "      <th>Purple cap wickets</th>\n",
       "      <th>PC winner team</th>\n",
       "      <th>Final Venue</th>\n",
       "      <th>Final Date</th>\n",
       "    </tr>\n",
       "  </thead>\n",
       "  <tbody>\n",
       "    <tr>\n",
       "      <th>2</th>\n",
       "      <td>2010</td>\n",
       "      <td>Chennai Super Kings</td>\n",
       "      <td>Mumbai Indians</td>\n",
       "      <td>Royal Challengers Bangalore</td>\n",
       "      <td>Deccan Chargers</td>\n",
       "      <td>Sachin Tendulkar</td>\n",
       "      <td>618</td>\n",
       "      <td>Mumbai Indians</td>\n",
       "      <td>Pragyan Ojha</td>\n",
       "      <td>21</td>\n",
       "      <td>Deccan Chargers</td>\n",
       "      <td>Mumbai</td>\n",
       "      <td>2010-04-25</td>\n",
       "    </tr>\n",
       "    <tr>\n",
       "      <th>3</th>\n",
       "      <td>2011</td>\n",
       "      <td>Chennai Super Kings</td>\n",
       "      <td>Royal Challengers Bangalore</td>\n",
       "      <td>Mumbai Indians</td>\n",
       "      <td>Kolkata Knight Riders</td>\n",
       "      <td>Chris Gayle</td>\n",
       "      <td>608</td>\n",
       "      <td>Royal Challengers Bangalore</td>\n",
       "      <td>Lasith Malinga</td>\n",
       "      <td>28</td>\n",
       "      <td>Mumbai Indians</td>\n",
       "      <td>Chennai</td>\n",
       "      <td>2011-05-28</td>\n",
       "    </tr>\n",
       "    <tr>\n",
       "      <th>4</th>\n",
       "      <td>2012</td>\n",
       "      <td>Kolkata Knight Riders</td>\n",
       "      <td>Chennai Super Kings</td>\n",
       "      <td>Delhi Daredevils</td>\n",
       "      <td>Mumbai Indians</td>\n",
       "      <td>Chris Gayle</td>\n",
       "      <td>733</td>\n",
       "      <td>Royal Challengers Bangalore</td>\n",
       "      <td>Morne Morkel</td>\n",
       "      <td>25</td>\n",
       "      <td>Delhi Daredevils</td>\n",
       "      <td>Chennai</td>\n",
       "      <td>2012-05-27</td>\n",
       "    </tr>\n",
       "    <tr>\n",
       "      <th>5</th>\n",
       "      <td>2013</td>\n",
       "      <td>Mumbai Indians</td>\n",
       "      <td>Chennai Super Kings</td>\n",
       "      <td>Rajasthan Royals</td>\n",
       "      <td>Sunrisers Hyderabad</td>\n",
       "      <td>Michael Hussey</td>\n",
       "      <td>733</td>\n",
       "      <td>Mumbai Indians</td>\n",
       "      <td>Dwayne Bravo</td>\n",
       "      <td>32</td>\n",
       "      <td>Chennai Super kings</td>\n",
       "      <td>Kolkata</td>\n",
       "      <td>2013-05-26</td>\n",
       "    </tr>\n",
       "  </tbody>\n",
       "</table>\n",
       "</div>"
      ],
      "text/plain": [
       "   Year           Winning team                   runners up  \\\n",
       "2  2010    Chennai Super Kings               Mumbai Indians   \n",
       "3  2011    Chennai Super Kings  Royal Challengers Bangalore   \n",
       "4  2012  Kolkata Knight Riders          Chennai Super Kings   \n",
       "5  2013         Mumbai Indians          Chennai Super Kings   \n",
       "\n",
       "     playoff qualifying team 1 Playoff qualifying team 2         Orange Cap  \\\n",
       "2  Royal Challengers Bangalore           Deccan Chargers  Sachin Tendulkar    \n",
       "3               Mumbai Indians     Kolkata Knight Riders        Chris Gayle   \n",
       "4             Delhi Daredevils            Mumbai Indians        Chris Gayle   \n",
       "5             Rajasthan Royals       Sunrisers Hyderabad     Michael Hussey   \n",
       "\n",
       "   Orange cap runs               OC winner team      Purple Cap  \\\n",
       "2              618               Mumbai Indians    Pragyan Ojha   \n",
       "3              608  Royal Challengers Bangalore  Lasith Malinga   \n",
       "4              733  Royal Challengers Bangalore    Morne Morkel   \n",
       "5              733               Mumbai Indians    Dwayne Bravo   \n",
       "\n",
       "   Purple cap wickets       PC winner team Final Venue Final Date  \n",
       "2                  21      Deccan Chargers      Mumbai 2010-04-25  \n",
       "3                  28       Mumbai Indians     Chennai 2011-05-28  \n",
       "4                  25     Delhi Daredevils     Chennai 2012-05-27  \n",
       "5                  32  Chennai Super kings     Kolkata 2013-05-26  "
      ]
     },
     "execution_count": 73,
     "metadata": {},
     "output_type": "execute_result"
    }
   ],
   "source": [
    "df.loc[2:5]"
   ]
  },
  {
   "cell_type": "code",
   "execution_count": 74,
   "id": "61a14faf",
   "metadata": {},
   "outputs": [
    {
     "data": {
      "text/plain": [
       "2013"
      ]
     },
     "execution_count": 74,
     "metadata": {},
     "output_type": "execute_result"
    }
   ],
   "source": [
    "df['Year'].loc[5]"
   ]
  },
  {
   "cell_type": "code",
   "execution_count": 78,
   "id": "83ccd309",
   "metadata": {},
   "outputs": [
    {
     "data": {
      "text/html": [
       "<div>\n",
       "<style scoped>\n",
       "    .dataframe tbody tr th:only-of-type {\n",
       "        vertical-align: middle;\n",
       "    }\n",
       "\n",
       "    .dataframe tbody tr th {\n",
       "        vertical-align: top;\n",
       "    }\n",
       "\n",
       "    .dataframe thead th {\n",
       "        text-align: right;\n",
       "    }\n",
       "</style>\n",
       "<table border=\"1\" class=\"dataframe\">\n",
       "  <thead>\n",
       "    <tr style=\"text-align: right;\">\n",
       "      <th></th>\n",
       "      <th>Winning team</th>\n",
       "      <th>OC winner team</th>\n",
       "      <th>PC winner team</th>\n",
       "      <th>Year</th>\n",
       "    </tr>\n",
       "  </thead>\n",
       "  <tbody>\n",
       "    <tr>\n",
       "      <th>7</th>\n",
       "      <td>Mumbai Indians</td>\n",
       "      <td>Sunrisers Hyderabad</td>\n",
       "      <td>Chennai Super kings</td>\n",
       "      <td>2015</td>\n",
       "    </tr>\n",
       "    <tr>\n",
       "      <th>8</th>\n",
       "      <td>Sunrisers Hyderabad</td>\n",
       "      <td>Royal Challengers Bangalore</td>\n",
       "      <td>Sunrisers Hyderabad</td>\n",
       "      <td>2016</td>\n",
       "    </tr>\n",
       "    <tr>\n",
       "      <th>9</th>\n",
       "      <td>Mumbai Indians</td>\n",
       "      <td>Sunrisers Hyderabad</td>\n",
       "      <td>Sunrisers Hyderabad</td>\n",
       "      <td>2017</td>\n",
       "    </tr>\n",
       "    <tr>\n",
       "      <th>10</th>\n",
       "      <td>Chennai Super Kings</td>\n",
       "      <td>Sunrisers Hyderabad</td>\n",
       "      <td>Kings XI Punjab</td>\n",
       "      <td>2018</td>\n",
       "    </tr>\n",
       "    <tr>\n",
       "      <th>11</th>\n",
       "      <td>Mumbai Indians</td>\n",
       "      <td>Sunrisers Hyderabad</td>\n",
       "      <td>Chennai Super kings</td>\n",
       "      <td>2019</td>\n",
       "    </tr>\n",
       "    <tr>\n",
       "      <th>12</th>\n",
       "      <td>Mumbai Indians</td>\n",
       "      <td>Kings XI Punjab</td>\n",
       "      <td>Delhi Capitals</td>\n",
       "      <td>2020</td>\n",
       "    </tr>\n",
       "  </tbody>\n",
       "</table>\n",
       "</div>"
      ],
      "text/plain": [
       "           Winning team               OC winner team       PC winner team  \\\n",
       "7        Mumbai Indians          Sunrisers Hyderabad  Chennai Super kings   \n",
       "8   Sunrisers Hyderabad  Royal Challengers Bangalore  Sunrisers Hyderabad   \n",
       "9        Mumbai Indians          Sunrisers Hyderabad  Sunrisers Hyderabad   \n",
       "10  Chennai Super Kings          Sunrisers Hyderabad      Kings XI Punjab   \n",
       "11       Mumbai Indians          Sunrisers Hyderabad  Chennai Super kings   \n",
       "12       Mumbai Indians              Kings XI Punjab       Delhi Capitals   \n",
       "\n",
       "    Year  \n",
       "7   2015  \n",
       "8   2016  \n",
       "9   2017  \n",
       "10  2018  \n",
       "11  2019  \n",
       "12  2020  "
      ]
     },
     "execution_count": 78,
     "metadata": {},
     "output_type": "execute_result"
    }
   ],
   "source": [
    "df[['Winning team','OC winner team','PC winner team','Year']].loc[7:12]"
   ]
  },
  {
   "cell_type": "code",
   "execution_count": 77,
   "id": "c005b21c",
   "metadata": {},
   "outputs": [
    {
     "data": {
      "text/html": [
       "<div>\n",
       "<style scoped>\n",
       "    .dataframe tbody tr th:only-of-type {\n",
       "        vertical-align: middle;\n",
       "    }\n",
       "\n",
       "    .dataframe tbody tr th {\n",
       "        vertical-align: top;\n",
       "    }\n",
       "\n",
       "    .dataframe thead th {\n",
       "        text-align: right;\n",
       "    }\n",
       "</style>\n",
       "<table border=\"1\" class=\"dataframe\">\n",
       "  <thead>\n",
       "    <tr style=\"text-align: right;\">\n",
       "      <th></th>\n",
       "      <th>Year</th>\n",
       "      <th>Winning team</th>\n",
       "      <th>runners up</th>\n",
       "      <th>playoff qualifying team 1</th>\n",
       "      <th>Playoff qualifying team 2</th>\n",
       "      <th>Orange Cap</th>\n",
       "      <th>Orange cap runs</th>\n",
       "      <th>OC winner team</th>\n",
       "      <th>Purple Cap</th>\n",
       "      <th>Purple cap wickets</th>\n",
       "      <th>PC winner team</th>\n",
       "      <th>Final Venue</th>\n",
       "      <th>Final Date</th>\n",
       "    </tr>\n",
       "  </thead>\n",
       "  <tbody>\n",
       "    <tr>\n",
       "      <th>10</th>\n",
       "      <td>2018</td>\n",
       "      <td>Chennai Super Kings</td>\n",
       "      <td>Sunrisers Hyderabad</td>\n",
       "      <td>Kolkata Knight Riders</td>\n",
       "      <td>Rajasthan Royals</td>\n",
       "      <td>Kane Williamson</td>\n",
       "      <td>735</td>\n",
       "      <td>Sunrisers Hyderabad</td>\n",
       "      <td>Andrew Tye</td>\n",
       "      <td>24</td>\n",
       "      <td>Kings XI Punjab</td>\n",
       "      <td>Mumbai</td>\n",
       "      <td>2018-05-27</td>\n",
       "    </tr>\n",
       "  </tbody>\n",
       "</table>\n",
       "</div>"
      ],
      "text/plain": [
       "    Year         Winning team           runners up playoff qualifying team 1  \\\n",
       "10  2018  Chennai Super Kings  Sunrisers Hyderabad     Kolkata Knight Riders   \n",
       "\n",
       "   Playoff qualifying team 2       Orange Cap  Orange cap runs  \\\n",
       "10          Rajasthan Royals  Kane Williamson              735   \n",
       "\n",
       "         OC winner team  Purple Cap  Purple cap wickets   PC winner team  \\\n",
       "10  Sunrisers Hyderabad  Andrew Tye                  24  Kings XI Punjab   \n",
       "\n",
       "   Final Venue Final Date  \n",
       "10      Mumbai 2018-05-27  "
      ]
     },
     "execution_count": 77,
     "metadata": {},
     "output_type": "execute_result"
    }
   ],
   "source": [
    "df[df['Year']== 2018]"
   ]
  },
  {
   "cell_type": "code",
   "execution_count": 81,
   "id": "a199f951",
   "metadata": {},
   "outputs": [
    {
     "data": {
      "text/plain": [
       "5     2013\n",
       "7     2015\n",
       "9     2017\n",
       "11    2019\n",
       "12    2020\n",
       "Name: Year, dtype: int64"
      ]
     },
     "execution_count": 81,
     "metadata": {},
     "output_type": "execute_result"
    }
   ],
   "source": [
    "df[df['Winning team']== 'Mumbai Indians'] ['Year']"
   ]
  },
  {
   "cell_type": "code",
   "execution_count": 83,
   "id": "2ab71e25",
   "metadata": {},
   "outputs": [
    {
     "data": {
      "text/html": [
       "<div>\n",
       "<style scoped>\n",
       "    .dataframe tbody tr th:only-of-type {\n",
       "        vertical-align: middle;\n",
       "    }\n",
       "\n",
       "    .dataframe tbody tr th {\n",
       "        vertical-align: top;\n",
       "    }\n",
       "\n",
       "    .dataframe thead th {\n",
       "        text-align: right;\n",
       "    }\n",
       "</style>\n",
       "<table border=\"1\" class=\"dataframe\">\n",
       "  <thead>\n",
       "    <tr style=\"text-align: right;\">\n",
       "      <th></th>\n",
       "      <th>Year</th>\n",
       "      <th>Winning team</th>\n",
       "      <th>runners up</th>\n",
       "      <th>playoff qualifying team 1</th>\n",
       "      <th>Playoff qualifying team 2</th>\n",
       "      <th>Orange Cap</th>\n",
       "      <th>Orange cap runs</th>\n",
       "      <th>OC winner team</th>\n",
       "      <th>Purple Cap</th>\n",
       "      <th>Purple cap wickets</th>\n",
       "      <th>PC winner team</th>\n",
       "      <th>Final Venue</th>\n",
       "      <th>Final Date</th>\n",
       "    </tr>\n",
       "  </thead>\n",
       "  <tbody>\n",
       "    <tr>\n",
       "      <th>6</th>\n",
       "      <td>2014</td>\n",
       "      <td>Kolkata Knight Riders</td>\n",
       "      <td>Kings XI Punjab</td>\n",
       "      <td>Chennai Super Kings</td>\n",
       "      <td>Mumbai Indians</td>\n",
       "      <td>Robin Uthappa</td>\n",
       "      <td>660</td>\n",
       "      <td>Kolkata Knight Riders</td>\n",
       "      <td>Mohit Sharma</td>\n",
       "      <td>23</td>\n",
       "      <td>Chennai Super kings</td>\n",
       "      <td>Bengaluru</td>\n",
       "      <td>2014-06-01</td>\n",
       "    </tr>\n",
       "    <tr>\n",
       "      <th>11</th>\n",
       "      <td>2019</td>\n",
       "      <td>Mumbai Indians</td>\n",
       "      <td>Chennai Super Kings</td>\n",
       "      <td>Delhi Capitals</td>\n",
       "      <td>Sunrisers Hyderabad</td>\n",
       "      <td>David Warner</td>\n",
       "      <td>692</td>\n",
       "      <td>Sunrisers Hyderabad</td>\n",
       "      <td>Imran Tahir</td>\n",
       "      <td>26</td>\n",
       "      <td>Chennai Super kings</td>\n",
       "      <td>Hyderabad</td>\n",
       "      <td>2019-05-12</td>\n",
       "    </tr>\n",
       "  </tbody>\n",
       "</table>\n",
       "</div>"
      ],
      "text/plain": [
       "    Year           Winning team           runners up  \\\n",
       "6   2014  Kolkata Knight Riders      Kings XI Punjab   \n",
       "11  2019         Mumbai Indians  Chennai Super Kings   \n",
       "\n",
       "   playoff qualifying team 1 Playoff qualifying team 2     Orange Cap  \\\n",
       "6        Chennai Super Kings            Mumbai Indians  Robin Uthappa   \n",
       "11            Delhi Capitals       Sunrisers Hyderabad   David Warner   \n",
       "\n",
       "    Orange cap runs         OC winner team    Purple Cap  Purple cap wickets  \\\n",
       "6               660  Kolkata Knight Riders  Mohit Sharma                  23   \n",
       "11              692    Sunrisers Hyderabad   Imran Tahir                  26   \n",
       "\n",
       "         PC winner team Final Venue Final Date  \n",
       "6   Chennai Super kings   Bengaluru 2014-06-01  \n",
       "11  Chennai Super kings   Hyderabad 2019-05-12  "
      ]
     },
     "execution_count": 83,
     "metadata": {},
     "output_type": "execute_result"
    }
   ],
   "source": [
    "df[(df['Year']==2014)|(df['Year']==2019)]"
   ]
  },
  {
   "cell_type": "code",
   "execution_count": 85,
   "id": "77537262",
   "metadata": {},
   "outputs": [],
   "source": [
    "df.rename(columns={'OC winner team':'OC'},inplace=True)"
   ]
  },
  {
   "cell_type": "code",
   "execution_count": 86,
   "id": "5e549cb0",
   "metadata": {},
   "outputs": [
    {
     "data": {
      "text/plain": [
       "Index(['Year', 'Winning team', 'runners up', 'playoff qualifying team 1',\n",
       "       'Playoff qualifying team 2', 'Orange Cap', 'Orange cap runs', 'OC',\n",
       "       'Purple Cap', 'Purple cap wickets', 'PC winner team', 'Final Venue',\n",
       "       'Final Date'],\n",
       "      dtype='object')"
      ]
     },
     "execution_count": 86,
     "metadata": {},
     "output_type": "execute_result"
    }
   ],
   "source": [
    "df.columns"
   ]
  },
  {
   "cell_type": "code",
   "execution_count": 87,
   "id": "f3399a76",
   "metadata": {},
   "outputs": [],
   "source": [
    "df.index= df['Year']"
   ]
  },
  {
   "cell_type": "code",
   "execution_count": 88,
   "id": "4f30ae6c",
   "metadata": {},
   "outputs": [
    {
     "data": {
      "text/html": [
       "<div>\n",
       "<style scoped>\n",
       "    .dataframe tbody tr th:only-of-type {\n",
       "        vertical-align: middle;\n",
       "    }\n",
       "\n",
       "    .dataframe tbody tr th {\n",
       "        vertical-align: top;\n",
       "    }\n",
       "\n",
       "    .dataframe thead th {\n",
       "        text-align: right;\n",
       "    }\n",
       "</style>\n",
       "<table border=\"1\" class=\"dataframe\">\n",
       "  <thead>\n",
       "    <tr style=\"text-align: right;\">\n",
       "      <th></th>\n",
       "      <th>Year</th>\n",
       "      <th>Winning team</th>\n",
       "      <th>runners up</th>\n",
       "      <th>playoff qualifying team 1</th>\n",
       "      <th>Playoff qualifying team 2</th>\n",
       "      <th>Orange Cap</th>\n",
       "      <th>Orange cap runs</th>\n",
       "      <th>OC</th>\n",
       "      <th>Purple Cap</th>\n",
       "      <th>Purple cap wickets</th>\n",
       "      <th>PC winner team</th>\n",
       "      <th>Final Venue</th>\n",
       "      <th>Final Date</th>\n",
       "    </tr>\n",
       "    <tr>\n",
       "      <th>Year</th>\n",
       "      <th></th>\n",
       "      <th></th>\n",
       "      <th></th>\n",
       "      <th></th>\n",
       "      <th></th>\n",
       "      <th></th>\n",
       "      <th></th>\n",
       "      <th></th>\n",
       "      <th></th>\n",
       "      <th></th>\n",
       "      <th></th>\n",
       "      <th></th>\n",
       "      <th></th>\n",
       "    </tr>\n",
       "  </thead>\n",
       "  <tbody>\n",
       "    <tr>\n",
       "      <th>2008</th>\n",
       "      <td>2008</td>\n",
       "      <td>Rajasthan Royals</td>\n",
       "      <td>Chennai Super Kings</td>\n",
       "      <td>Kings XI Punjab</td>\n",
       "      <td>Delhi Daredevils</td>\n",
       "      <td>Shaun Marsh</td>\n",
       "      <td>616</td>\n",
       "      <td>Kings XI Punjab</td>\n",
       "      <td>Sohail Tanvir</td>\n",
       "      <td>22</td>\n",
       "      <td>Rajasthan Royals</td>\n",
       "      <td>Mumbai</td>\n",
       "      <td>2008-06-01</td>\n",
       "    </tr>\n",
       "    <tr>\n",
       "      <th>2009</th>\n",
       "      <td>2009</td>\n",
       "      <td>Deccan Chargers</td>\n",
       "      <td>Royal Challengers Bangalore</td>\n",
       "      <td>Chennai Super Kings</td>\n",
       "      <td>Delhi Daredevi;s</td>\n",
       "      <td>Matthew Hayden</td>\n",
       "      <td>572</td>\n",
       "      <td>Chennai Super Kings</td>\n",
       "      <td>R P Singh</td>\n",
       "      <td>23</td>\n",
       "      <td>Deccan Chargers</td>\n",
       "      <td>Johannesburg</td>\n",
       "      <td>2009-05-24</td>\n",
       "    </tr>\n",
       "    <tr>\n",
       "      <th>2010</th>\n",
       "      <td>2010</td>\n",
       "      <td>Chennai Super Kings</td>\n",
       "      <td>Mumbai Indians</td>\n",
       "      <td>Royal Challengers Bangalore</td>\n",
       "      <td>Deccan Chargers</td>\n",
       "      <td>Sachin Tendulkar</td>\n",
       "      <td>618</td>\n",
       "      <td>Mumbai Indians</td>\n",
       "      <td>Pragyan Ojha</td>\n",
       "      <td>21</td>\n",
       "      <td>Deccan Chargers</td>\n",
       "      <td>Mumbai</td>\n",
       "      <td>2010-04-25</td>\n",
       "    </tr>\n",
       "    <tr>\n",
       "      <th>2011</th>\n",
       "      <td>2011</td>\n",
       "      <td>Chennai Super Kings</td>\n",
       "      <td>Royal Challengers Bangalore</td>\n",
       "      <td>Mumbai Indians</td>\n",
       "      <td>Kolkata Knight Riders</td>\n",
       "      <td>Chris Gayle</td>\n",
       "      <td>608</td>\n",
       "      <td>Royal Challengers Bangalore</td>\n",
       "      <td>Lasith Malinga</td>\n",
       "      <td>28</td>\n",
       "      <td>Mumbai Indians</td>\n",
       "      <td>Chennai</td>\n",
       "      <td>2011-05-28</td>\n",
       "    </tr>\n",
       "    <tr>\n",
       "      <th>2012</th>\n",
       "      <td>2012</td>\n",
       "      <td>Kolkata Knight Riders</td>\n",
       "      <td>Chennai Super Kings</td>\n",
       "      <td>Delhi Daredevils</td>\n",
       "      <td>Mumbai Indians</td>\n",
       "      <td>Chris Gayle</td>\n",
       "      <td>733</td>\n",
       "      <td>Royal Challengers Bangalore</td>\n",
       "      <td>Morne Morkel</td>\n",
       "      <td>25</td>\n",
       "      <td>Delhi Daredevils</td>\n",
       "      <td>Chennai</td>\n",
       "      <td>2012-05-27</td>\n",
       "    </tr>\n",
       "  </tbody>\n",
       "</table>\n",
       "</div>"
      ],
      "text/plain": [
       "      Year           Winning team                   runners up  \\\n",
       "Year                                                             \n",
       "2008  2008       Rajasthan Royals          Chennai Super Kings   \n",
       "2009  2009        Deccan Chargers  Royal Challengers Bangalore   \n",
       "2010  2010    Chennai Super Kings               Mumbai Indians   \n",
       "2011  2011    Chennai Super Kings  Royal Challengers Bangalore   \n",
       "2012  2012  Kolkata Knight Riders          Chennai Super Kings   \n",
       "\n",
       "        playoff qualifying team 1 Playoff qualifying team 2  \\\n",
       "Year                                                          \n",
       "2008              Kings XI Punjab          Delhi Daredevils   \n",
       "2009          Chennai Super Kings          Delhi Daredevi;s   \n",
       "2010  Royal Challengers Bangalore           Deccan Chargers   \n",
       "2011               Mumbai Indians     Kolkata Knight Riders   \n",
       "2012             Delhi Daredevils            Mumbai Indians   \n",
       "\n",
       "             Orange Cap  Orange cap runs                           OC  \\\n",
       "Year                                                                    \n",
       "2008        Shaun Marsh              616              Kings XI Punjab   \n",
       "2009     Matthew Hayden              572          Chennai Super Kings   \n",
       "2010  Sachin Tendulkar               618               Mumbai Indians   \n",
       "2011        Chris Gayle              608  Royal Challengers Bangalore   \n",
       "2012        Chris Gayle              733  Royal Challengers Bangalore   \n",
       "\n",
       "          Purple Cap  Purple cap wickets    PC winner team   Final Venue  \\\n",
       "Year                                                                       \n",
       "2008   Sohail Tanvir                  22  Rajasthan Royals        Mumbai   \n",
       "2009       R P Singh                  23   Deccan Chargers  Johannesburg   \n",
       "2010    Pragyan Ojha                  21   Deccan Chargers        Mumbai   \n",
       "2011  Lasith Malinga                  28    Mumbai Indians       Chennai   \n",
       "2012    Morne Morkel                  25  Delhi Daredevils       Chennai   \n",
       "\n",
       "     Final Date  \n",
       "Year             \n",
       "2008 2008-06-01  \n",
       "2009 2009-05-24  \n",
       "2010 2010-04-25  \n",
       "2011 2011-05-28  \n",
       "2012 2012-05-27  "
      ]
     },
     "execution_count": 88,
     "metadata": {},
     "output_type": "execute_result"
    }
   ],
   "source": [
    "df.head()"
   ]
  },
  {
   "cell_type": "code",
   "execution_count": 89,
   "id": "d54c528a",
   "metadata": {},
   "outputs": [
    {
     "data": {
      "text/plain": [
       "Year                                                2010\n",
       "Winning team                         Chennai Super Kings\n",
       "runners up                                Mumbai Indians\n",
       "playoff qualifying team 1    Royal Challengers Bangalore\n",
       "Playoff qualifying team 2                Deccan Chargers\n",
       "Orange Cap                             Sachin Tendulkar \n",
       "Orange cap runs                                      618\n",
       "OC                                        Mumbai Indians\n",
       "Purple Cap                                  Pragyan Ojha\n",
       "Purple cap wickets                                    21\n",
       "PC winner team                           Deccan Chargers\n",
       "Final Venue                                       Mumbai\n",
       "Final Date                           2010-04-25 00:00:00\n",
       "Name: 2010, dtype: object"
      ]
     },
     "execution_count": 89,
     "metadata": {},
     "output_type": "execute_result"
    }
   ],
   "source": [
    "df.loc[2010]"
   ]
  },
  {
   "cell_type": "code",
   "execution_count": 90,
   "id": "cd1ba60a",
   "metadata": {},
   "outputs": [
    {
     "data": {
      "text/plain": [
       "Year                                        2013\n",
       "Winning team                      Mumbai Indians\n",
       "runners up                   Chennai Super Kings\n",
       "playoff qualifying team 1       Rajasthan Royals\n",
       "Playoff qualifying team 2    Sunrisers Hyderabad\n",
       "Orange Cap                        Michael Hussey\n",
       "Orange cap runs                              733\n",
       "OC                                Mumbai Indians\n",
       "Purple Cap                          Dwayne Bravo\n",
       "Purple cap wickets                            32\n",
       "PC winner team               Chennai Super kings\n",
       "Final Venue                              Kolkata\n",
       "Final Date                   2013-05-26 00:00:00\n",
       "Name: 2013, dtype: object"
      ]
     },
     "execution_count": 90,
     "metadata": {},
     "output_type": "execute_result"
    }
   ],
   "source": [
    "df.iloc[5]"
   ]
  },
  {
   "cell_type": "code",
   "execution_count": 91,
   "id": "0035e12e",
   "metadata": {},
   "outputs": [],
   "source": [
    "df.drop('Year',axis=1,inplace=True)"
   ]
  },
  {
   "cell_type": "code",
   "execution_count": 96,
   "id": "3b3405d7",
   "metadata": {},
   "outputs": [
    {
     "data": {
      "text/html": [
       "<div>\n",
       "<style scoped>\n",
       "    .dataframe tbody tr th:only-of-type {\n",
       "        vertical-align: middle;\n",
       "    }\n",
       "\n",
       "    .dataframe tbody tr th {\n",
       "        vertical-align: top;\n",
       "    }\n",
       "\n",
       "    .dataframe thead th {\n",
       "        text-align: right;\n",
       "    }\n",
       "</style>\n",
       "<table border=\"1\" class=\"dataframe\">\n",
       "  <thead>\n",
       "    <tr style=\"text-align: right;\">\n",
       "      <th></th>\n",
       "      <th>Winning team</th>\n",
       "      <th>runners up</th>\n",
       "      <th>playoff qualifying team 1</th>\n",
       "      <th>Playoff qualifying team 2</th>\n",
       "      <th>Orange Cap</th>\n",
       "      <th>Orange cap runs</th>\n",
       "      <th>OC</th>\n",
       "      <th>Purple Cap</th>\n",
       "      <th>Purple cap wickets</th>\n",
       "      <th>PC winner team</th>\n",
       "      <th>Final Venue</th>\n",
       "      <th>Final Date</th>\n",
       "    </tr>\n",
       "    <tr>\n",
       "      <th>Year</th>\n",
       "      <th></th>\n",
       "      <th></th>\n",
       "      <th></th>\n",
       "      <th></th>\n",
       "      <th></th>\n",
       "      <th></th>\n",
       "      <th></th>\n",
       "      <th></th>\n",
       "      <th></th>\n",
       "      <th></th>\n",
       "      <th></th>\n",
       "      <th></th>\n",
       "    </tr>\n",
       "  </thead>\n",
       "  <tbody>\n",
       "    <tr>\n",
       "      <th>2016</th>\n",
       "      <td>Sunrisers Hyderabad</td>\n",
       "      <td>Royal Challengers Bangalore</td>\n",
       "      <td>Gujarat Lions</td>\n",
       "      <td>Kolkata Knight Riders</td>\n",
       "      <td>Virat Kohli</td>\n",
       "      <td>973</td>\n",
       "      <td>Royal Challengers Bangalore</td>\n",
       "      <td>Bhuvaneshwar Kumar</td>\n",
       "      <td>23</td>\n",
       "      <td>Sunrisers Hyderabad</td>\n",
       "      <td>Bengaluru</td>\n",
       "      <td>2016-05-29</td>\n",
       "    </tr>\n",
       "    <tr>\n",
       "      <th>2023</th>\n",
       "      <td>Chennai Super Kings</td>\n",
       "      <td>Gujarat Titans</td>\n",
       "      <td>Mumbai Indians</td>\n",
       "      <td>Lucknow Super Giants</td>\n",
       "      <td>Shubman Gill</td>\n",
       "      <td>890</td>\n",
       "      <td>Gujarat Titans</td>\n",
       "      <td>Mohammad Shami</td>\n",
       "      <td>28</td>\n",
       "      <td>Gujarat Titans</td>\n",
       "      <td>Ahmedabad</td>\n",
       "      <td>2023-05-29</td>\n",
       "    </tr>\n",
       "    <tr>\n",
       "      <th>2022</th>\n",
       "      <td>Gujarat Titans</td>\n",
       "      <td>Rajasthan Royals</td>\n",
       "      <td>Royal Challengers Bangalore</td>\n",
       "      <td>Lucknow Super Giants</td>\n",
       "      <td>Jos Buttler</td>\n",
       "      <td>863</td>\n",
       "      <td>Rajasthan Royals</td>\n",
       "      <td>Yuzvendra Chahal</td>\n",
       "      <td>27</td>\n",
       "      <td>Rajasthan Royals</td>\n",
       "      <td>Ahmedabad</td>\n",
       "      <td>2022-05-29</td>\n",
       "    </tr>\n",
       "    <tr>\n",
       "      <th>2018</th>\n",
       "      <td>Chennai Super Kings</td>\n",
       "      <td>Sunrisers Hyderabad</td>\n",
       "      <td>Kolkata Knight Riders</td>\n",
       "      <td>Rajasthan Royals</td>\n",
       "      <td>Kane Williamson</td>\n",
       "      <td>735</td>\n",
       "      <td>Sunrisers Hyderabad</td>\n",
       "      <td>Andrew Tye</td>\n",
       "      <td>24</td>\n",
       "      <td>Kings XI Punjab</td>\n",
       "      <td>Mumbai</td>\n",
       "      <td>2018-05-27</td>\n",
       "    </tr>\n",
       "    <tr>\n",
       "      <th>2012</th>\n",
       "      <td>Kolkata Knight Riders</td>\n",
       "      <td>Chennai Super Kings</td>\n",
       "      <td>Delhi Daredevils</td>\n",
       "      <td>Mumbai Indians</td>\n",
       "      <td>Chris Gayle</td>\n",
       "      <td>733</td>\n",
       "      <td>Royal Challengers Bangalore</td>\n",
       "      <td>Morne Morkel</td>\n",
       "      <td>25</td>\n",
       "      <td>Delhi Daredevils</td>\n",
       "      <td>Chennai</td>\n",
       "      <td>2012-05-27</td>\n",
       "    </tr>\n",
       "    <tr>\n",
       "      <th>2013</th>\n",
       "      <td>Mumbai Indians</td>\n",
       "      <td>Chennai Super Kings</td>\n",
       "      <td>Rajasthan Royals</td>\n",
       "      <td>Sunrisers Hyderabad</td>\n",
       "      <td>Michael Hussey</td>\n",
       "      <td>733</td>\n",
       "      <td>Mumbai Indians</td>\n",
       "      <td>Dwayne Bravo</td>\n",
       "      <td>32</td>\n",
       "      <td>Chennai Super kings</td>\n",
       "      <td>Kolkata</td>\n",
       "      <td>2013-05-26</td>\n",
       "    </tr>\n",
       "    <tr>\n",
       "      <th>2019</th>\n",
       "      <td>Mumbai Indians</td>\n",
       "      <td>Chennai Super Kings</td>\n",
       "      <td>Delhi Capitals</td>\n",
       "      <td>Sunrisers Hyderabad</td>\n",
       "      <td>David Warner</td>\n",
       "      <td>692</td>\n",
       "      <td>Sunrisers Hyderabad</td>\n",
       "      <td>Imran Tahir</td>\n",
       "      <td>26</td>\n",
       "      <td>Chennai Super kings</td>\n",
       "      <td>Hyderabad</td>\n",
       "      <td>2019-05-12</td>\n",
       "    </tr>\n",
       "    <tr>\n",
       "      <th>2020</th>\n",
       "      <td>Mumbai Indians</td>\n",
       "      <td>Delhi Capitals</td>\n",
       "      <td>Sunrisers Hyderabad</td>\n",
       "      <td>Royal Challengers Bangalore</td>\n",
       "      <td>KL Rahul</td>\n",
       "      <td>670</td>\n",
       "      <td>Kings XI Punjab</td>\n",
       "      <td>Kagiso Rabada</td>\n",
       "      <td>30</td>\n",
       "      <td>Delhi Capitals</td>\n",
       "      <td>Dubai</td>\n",
       "      <td>2020-11-10</td>\n",
       "    </tr>\n",
       "    <tr>\n",
       "      <th>2014</th>\n",
       "      <td>Kolkata Knight Riders</td>\n",
       "      <td>Kings XI Punjab</td>\n",
       "      <td>Chennai Super Kings</td>\n",
       "      <td>Mumbai Indians</td>\n",
       "      <td>Robin Uthappa</td>\n",
       "      <td>660</td>\n",
       "      <td>Kolkata Knight Riders</td>\n",
       "      <td>Mohit Sharma</td>\n",
       "      <td>23</td>\n",
       "      <td>Chennai Super kings</td>\n",
       "      <td>Bengaluru</td>\n",
       "      <td>2014-06-01</td>\n",
       "    </tr>\n",
       "    <tr>\n",
       "      <th>2017</th>\n",
       "      <td>Mumbai Indians</td>\n",
       "      <td>Rising Pune Supergiants</td>\n",
       "      <td>Kolkata Knight Riders</td>\n",
       "      <td>Sunrisers Hyderabad</td>\n",
       "      <td>David Warner</td>\n",
       "      <td>641</td>\n",
       "      <td>Sunrisers Hyderabad</td>\n",
       "      <td>Bhuvaneshwar Kumar</td>\n",
       "      <td>26</td>\n",
       "      <td>Sunrisers Hyderabad</td>\n",
       "      <td>Hyderabad</td>\n",
       "      <td>2017-05-21</td>\n",
       "    </tr>\n",
       "    <tr>\n",
       "      <th>2021</th>\n",
       "      <td>Chennai Super Kings</td>\n",
       "      <td>Kolkata Knight Riders</td>\n",
       "      <td>Delhi Capitals</td>\n",
       "      <td>Royal Challengers Bangalore</td>\n",
       "      <td>Ruturaj Gaikwad</td>\n",
       "      <td>635</td>\n",
       "      <td>Chennai Super Kings</td>\n",
       "      <td>Harshal Patel</td>\n",
       "      <td>32</td>\n",
       "      <td>Royal Challengers Bangalore</td>\n",
       "      <td>Dubai</td>\n",
       "      <td>2021-10-15</td>\n",
       "    </tr>\n",
       "    <tr>\n",
       "      <th>2010</th>\n",
       "      <td>Chennai Super Kings</td>\n",
       "      <td>Mumbai Indians</td>\n",
       "      <td>Royal Challengers Bangalore</td>\n",
       "      <td>Deccan Chargers</td>\n",
       "      <td>Sachin Tendulkar</td>\n",
       "      <td>618</td>\n",
       "      <td>Mumbai Indians</td>\n",
       "      <td>Pragyan Ojha</td>\n",
       "      <td>21</td>\n",
       "      <td>Deccan Chargers</td>\n",
       "      <td>Mumbai</td>\n",
       "      <td>2010-04-25</td>\n",
       "    </tr>\n",
       "    <tr>\n",
       "      <th>2008</th>\n",
       "      <td>Rajasthan Royals</td>\n",
       "      <td>Chennai Super Kings</td>\n",
       "      <td>Kings XI Punjab</td>\n",
       "      <td>Delhi Daredevils</td>\n",
       "      <td>Shaun Marsh</td>\n",
       "      <td>616</td>\n",
       "      <td>Kings XI Punjab</td>\n",
       "      <td>Sohail Tanvir</td>\n",
       "      <td>22</td>\n",
       "      <td>Rajasthan Royals</td>\n",
       "      <td>Mumbai</td>\n",
       "      <td>2008-06-01</td>\n",
       "    </tr>\n",
       "    <tr>\n",
       "      <th>2011</th>\n",
       "      <td>Chennai Super Kings</td>\n",
       "      <td>Royal Challengers Bangalore</td>\n",
       "      <td>Mumbai Indians</td>\n",
       "      <td>Kolkata Knight Riders</td>\n",
       "      <td>Chris Gayle</td>\n",
       "      <td>608</td>\n",
       "      <td>Royal Challengers Bangalore</td>\n",
       "      <td>Lasith Malinga</td>\n",
       "      <td>28</td>\n",
       "      <td>Mumbai Indians</td>\n",
       "      <td>Chennai</td>\n",
       "      <td>2011-05-28</td>\n",
       "    </tr>\n",
       "    <tr>\n",
       "      <th>2009</th>\n",
       "      <td>Deccan Chargers</td>\n",
       "      <td>Royal Challengers Bangalore</td>\n",
       "      <td>Chennai Super Kings</td>\n",
       "      <td>Delhi Daredevi;s</td>\n",
       "      <td>Matthew Hayden</td>\n",
       "      <td>572</td>\n",
       "      <td>Chennai Super Kings</td>\n",
       "      <td>R P Singh</td>\n",
       "      <td>23</td>\n",
       "      <td>Deccan Chargers</td>\n",
       "      <td>Johannesburg</td>\n",
       "      <td>2009-05-24</td>\n",
       "    </tr>\n",
       "    <tr>\n",
       "      <th>2015</th>\n",
       "      <td>Mumbai Indians</td>\n",
       "      <td>Chennai Super Kings</td>\n",
       "      <td>Royal Challengers Bangalore</td>\n",
       "      <td>Rajasthan Royals</td>\n",
       "      <td>David Warner</td>\n",
       "      <td>562</td>\n",
       "      <td>Sunrisers Hyderabad</td>\n",
       "      <td>Dwayne Bravo</td>\n",
       "      <td>26</td>\n",
       "      <td>Chennai Super kings</td>\n",
       "      <td>Kolkata</td>\n",
       "      <td>2015-05-24</td>\n",
       "    </tr>\n",
       "  </tbody>\n",
       "</table>\n",
       "</div>"
      ],
      "text/plain": [
       "               Winning team                   runners up  \\\n",
       "Year                                                       \n",
       "2016    Sunrisers Hyderabad  Royal Challengers Bangalore   \n",
       "2023    Chennai Super Kings               Gujarat Titans   \n",
       "2022         Gujarat Titans             Rajasthan Royals   \n",
       "2018    Chennai Super Kings          Sunrisers Hyderabad   \n",
       "2012  Kolkata Knight Riders          Chennai Super Kings   \n",
       "2013         Mumbai Indians          Chennai Super Kings   \n",
       "2019         Mumbai Indians          Chennai Super Kings   \n",
       "2020         Mumbai Indians               Delhi Capitals   \n",
       "2014  Kolkata Knight Riders              Kings XI Punjab   \n",
       "2017         Mumbai Indians      Rising Pune Supergiants   \n",
       "2021    Chennai Super Kings        Kolkata Knight Riders   \n",
       "2010    Chennai Super Kings               Mumbai Indians   \n",
       "2008       Rajasthan Royals          Chennai Super Kings   \n",
       "2011    Chennai Super Kings  Royal Challengers Bangalore   \n",
       "2009        Deccan Chargers  Royal Challengers Bangalore   \n",
       "2015         Mumbai Indians          Chennai Super Kings   \n",
       "\n",
       "        playoff qualifying team 1    Playoff qualifying team 2  \\\n",
       "Year                                                             \n",
       "2016                Gujarat Lions        Kolkata Knight Riders   \n",
       "2023               Mumbai Indians         Lucknow Super Giants   \n",
       "2022  Royal Challengers Bangalore         Lucknow Super Giants   \n",
       "2018        Kolkata Knight Riders             Rajasthan Royals   \n",
       "2012             Delhi Daredevils               Mumbai Indians   \n",
       "2013             Rajasthan Royals          Sunrisers Hyderabad   \n",
       "2019               Delhi Capitals          Sunrisers Hyderabad   \n",
       "2020          Sunrisers Hyderabad  Royal Challengers Bangalore   \n",
       "2014          Chennai Super Kings               Mumbai Indians   \n",
       "2017        Kolkata Knight Riders          Sunrisers Hyderabad   \n",
       "2021               Delhi Capitals  Royal Challengers Bangalore   \n",
       "2010  Royal Challengers Bangalore              Deccan Chargers   \n",
       "2008              Kings XI Punjab             Delhi Daredevils   \n",
       "2011               Mumbai Indians        Kolkata Knight Riders   \n",
       "2009          Chennai Super Kings             Delhi Daredevi;s   \n",
       "2015  Royal Challengers Bangalore             Rajasthan Royals   \n",
       "\n",
       "             Orange Cap  Orange cap runs                           OC  \\\n",
       "Year                                                                    \n",
       "2016       Virat Kohli               973  Royal Challengers Bangalore   \n",
       "2023       Shubman Gill              890               Gujarat Titans   \n",
       "2022        Jos Buttler              863             Rajasthan Royals   \n",
       "2018    Kane Williamson              735          Sunrisers Hyderabad   \n",
       "2012        Chris Gayle              733  Royal Challengers Bangalore   \n",
       "2013     Michael Hussey              733               Mumbai Indians   \n",
       "2019       David Warner              692          Sunrisers Hyderabad   \n",
       "2020           KL Rahul              670              Kings XI Punjab   \n",
       "2014      Robin Uthappa              660        Kolkata Knight Riders   \n",
       "2017       David Warner              641          Sunrisers Hyderabad   \n",
       "2021    Ruturaj Gaikwad              635          Chennai Super Kings   \n",
       "2010  Sachin Tendulkar               618               Mumbai Indians   \n",
       "2008        Shaun Marsh              616              Kings XI Punjab   \n",
       "2011        Chris Gayle              608  Royal Challengers Bangalore   \n",
       "2009     Matthew Hayden              572          Chennai Super Kings   \n",
       "2015       David Warner              562          Sunrisers Hyderabad   \n",
       "\n",
       "              Purple Cap  Purple cap wickets               PC winner team  \\\n",
       "Year                                                                        \n",
       "2016  Bhuvaneshwar Kumar                  23          Sunrisers Hyderabad   \n",
       "2023      Mohammad Shami                  28               Gujarat Titans   \n",
       "2022    Yuzvendra Chahal                  27             Rajasthan Royals   \n",
       "2018          Andrew Tye                  24              Kings XI Punjab   \n",
       "2012        Morne Morkel                  25             Delhi Daredevils   \n",
       "2013        Dwayne Bravo                  32          Chennai Super kings   \n",
       "2019         Imran Tahir                  26          Chennai Super kings   \n",
       "2020       Kagiso Rabada                  30               Delhi Capitals   \n",
       "2014        Mohit Sharma                  23          Chennai Super kings   \n",
       "2017  Bhuvaneshwar Kumar                  26          Sunrisers Hyderabad   \n",
       "2021       Harshal Patel                  32  Royal Challengers Bangalore   \n",
       "2010        Pragyan Ojha                  21              Deccan Chargers   \n",
       "2008       Sohail Tanvir                  22             Rajasthan Royals   \n",
       "2011      Lasith Malinga                  28               Mumbai Indians   \n",
       "2009           R P Singh                  23              Deccan Chargers   \n",
       "2015        Dwayne Bravo                  26          Chennai Super kings   \n",
       "\n",
       "       Final Venue Final Date  \n",
       "Year                           \n",
       "2016     Bengaluru 2016-05-29  \n",
       "2023     Ahmedabad 2023-05-29  \n",
       "2022     Ahmedabad 2022-05-29  \n",
       "2018        Mumbai 2018-05-27  \n",
       "2012       Chennai 2012-05-27  \n",
       "2013       Kolkata 2013-05-26  \n",
       "2019     Hyderabad 2019-05-12  \n",
       "2020         Dubai 2020-11-10  \n",
       "2014     Bengaluru 2014-06-01  \n",
       "2017     Hyderabad 2017-05-21  \n",
       "2021         Dubai 2021-10-15  \n",
       "2010        Mumbai 2010-04-25  \n",
       "2008        Mumbai 2008-06-01  \n",
       "2011       Chennai 2011-05-28  \n",
       "2009  Johannesburg 2009-05-24  \n",
       "2015       Kolkata 2015-05-24  "
      ]
     },
     "execution_count": 96,
     "metadata": {},
     "output_type": "execute_result"
    }
   ],
   "source": [
    "df.sort_values(by=['Orange cap runs'],ascending=False)"
   ]
  },
  {
   "cell_type": "code",
   "execution_count": 98,
   "id": "9cc8fca0",
   "metadata": {},
   "outputs": [],
   "source": [
    "df.reset_index(inplace=True)"
   ]
  },
  {
   "cell_type": "code",
   "execution_count": 111,
   "id": "cd1d8ccc",
   "metadata": {},
   "outputs": [
    {
     "data": {
      "text/plain": [
       "7"
      ]
     },
     "execution_count": 111,
     "metadata": {},
     "output_type": "execute_result"
    }
   ],
   "source": [
    "df['Winning team'].nunique() #no. of unique values"
   ]
  },
  {
   "cell_type": "code",
   "execution_count": 118,
   "id": "7c93f15b",
   "metadata": {},
   "outputs": [
    {
     "data": {
      "text/plain": [
       "Chennai Super Kings      0.3125\n",
       "Mumbai Indians           0.3125\n",
       "Kolkata Knight Riders    0.1250\n",
       "Rajasthan Royals         0.0625\n",
       "Deccan Chargers          0.0625\n",
       "Sunrisers Hyderabad      0.0625\n",
       "Gujarat Titans           0.0625\n",
       "Name: Winning team, dtype: float64"
      ]
     },
     "execution_count": 118,
     "metadata": {},
     "output_type": "execute_result"
    }
   ],
   "source": [
    "df['Winning team'].value_counts(normalize=True)"
   ]
  },
  {
   "cell_type": "code",
   "execution_count": 116,
   "id": "59991efc",
   "metadata": {},
   "outputs": [
    {
     "data": {
      "text/html": [
       "<div>\n",
       "<style scoped>\n",
       "    .dataframe tbody tr th:only-of-type {\n",
       "        vertical-align: middle;\n",
       "    }\n",
       "\n",
       "    .dataframe tbody tr th {\n",
       "        vertical-align: top;\n",
       "    }\n",
       "\n",
       "    .dataframe thead th {\n",
       "        text-align: right;\n",
       "    }\n",
       "</style>\n",
       "<table border=\"1\" class=\"dataframe\">\n",
       "  <thead>\n",
       "    <tr style=\"text-align: right;\">\n",
       "      <th></th>\n",
       "      <th>Orange cap runs</th>\n",
       "      <th>Purple cap wickets</th>\n",
       "    </tr>\n",
       "  </thead>\n",
       "  <tbody>\n",
       "    <tr>\n",
       "      <th>Orange cap runs</th>\n",
       "      <td>1.000000</td>\n",
       "      <td>0.062981</td>\n",
       "    </tr>\n",
       "    <tr>\n",
       "      <th>Purple cap wickets</th>\n",
       "      <td>0.062981</td>\n",
       "      <td>1.000000</td>\n",
       "    </tr>\n",
       "  </tbody>\n",
       "</table>\n",
       "</div>"
      ],
      "text/plain": [
       "                    Orange cap runs  Purple cap wickets\n",
       "Orange cap runs            1.000000            0.062981\n",
       "Purple cap wickets         0.062981            1.000000"
      ]
     },
     "execution_count": 116,
     "metadata": {},
     "output_type": "execute_result"
    }
   ],
   "source": [
    "df[['Orange cap runs','Purple cap wickets']].corr()"
   ]
  },
  {
   "cell_type": "code",
   "execution_count": 117,
   "id": "cabc8711",
   "metadata": {},
   "outputs": [
    {
     "data": {
      "text/html": [
       "<div>\n",
       "<style scoped>\n",
       "    .dataframe tbody tr th:only-of-type {\n",
       "        vertical-align: middle;\n",
       "    }\n",
       "\n",
       "    .dataframe tbody tr th {\n",
       "        vertical-align: top;\n",
       "    }\n",
       "\n",
       "    .dataframe thead th {\n",
       "        text-align: right;\n",
       "    }\n",
       "</style>\n",
       "<table border=\"1\" class=\"dataframe\">\n",
       "  <thead>\n",
       "    <tr style=\"text-align: right;\">\n",
       "      <th>runners up</th>\n",
       "      <th>Chennai Super Kings</th>\n",
       "      <th>Delhi Capitals</th>\n",
       "      <th>Gujarat Titans</th>\n",
       "      <th>Kings XI Punjab</th>\n",
       "      <th>Kolkata Knight Riders</th>\n",
       "      <th>Mumbai Indians</th>\n",
       "      <th>Rajasthan Royals</th>\n",
       "      <th>Rising Pune Supergiants</th>\n",
       "      <th>Royal Challengers Bangalore</th>\n",
       "      <th>Sunrisers Hyderabad</th>\n",
       "    </tr>\n",
       "    <tr>\n",
       "      <th>Winning team</th>\n",
       "      <th></th>\n",
       "      <th></th>\n",
       "      <th></th>\n",
       "      <th></th>\n",
       "      <th></th>\n",
       "      <th></th>\n",
       "      <th></th>\n",
       "      <th></th>\n",
       "      <th></th>\n",
       "      <th></th>\n",
       "    </tr>\n",
       "  </thead>\n",
       "  <tbody>\n",
       "    <tr>\n",
       "      <th>Chennai Super Kings</th>\n",
       "      <td>0</td>\n",
       "      <td>0</td>\n",
       "      <td>1</td>\n",
       "      <td>0</td>\n",
       "      <td>1</td>\n",
       "      <td>1</td>\n",
       "      <td>0</td>\n",
       "      <td>0</td>\n",
       "      <td>1</td>\n",
       "      <td>1</td>\n",
       "    </tr>\n",
       "    <tr>\n",
       "      <th>Deccan Chargers</th>\n",
       "      <td>0</td>\n",
       "      <td>0</td>\n",
       "      <td>0</td>\n",
       "      <td>0</td>\n",
       "      <td>0</td>\n",
       "      <td>0</td>\n",
       "      <td>0</td>\n",
       "      <td>0</td>\n",
       "      <td>1</td>\n",
       "      <td>0</td>\n",
       "    </tr>\n",
       "    <tr>\n",
       "      <th>Gujarat Titans</th>\n",
       "      <td>0</td>\n",
       "      <td>0</td>\n",
       "      <td>0</td>\n",
       "      <td>0</td>\n",
       "      <td>0</td>\n",
       "      <td>0</td>\n",
       "      <td>1</td>\n",
       "      <td>0</td>\n",
       "      <td>0</td>\n",
       "      <td>0</td>\n",
       "    </tr>\n",
       "    <tr>\n",
       "      <th>Kolkata Knight Riders</th>\n",
       "      <td>1</td>\n",
       "      <td>0</td>\n",
       "      <td>0</td>\n",
       "      <td>1</td>\n",
       "      <td>0</td>\n",
       "      <td>0</td>\n",
       "      <td>0</td>\n",
       "      <td>0</td>\n",
       "      <td>0</td>\n",
       "      <td>0</td>\n",
       "    </tr>\n",
       "    <tr>\n",
       "      <th>Mumbai Indians</th>\n",
       "      <td>3</td>\n",
       "      <td>1</td>\n",
       "      <td>0</td>\n",
       "      <td>0</td>\n",
       "      <td>0</td>\n",
       "      <td>0</td>\n",
       "      <td>0</td>\n",
       "      <td>1</td>\n",
       "      <td>0</td>\n",
       "      <td>0</td>\n",
       "    </tr>\n",
       "    <tr>\n",
       "      <th>Rajasthan Royals</th>\n",
       "      <td>1</td>\n",
       "      <td>0</td>\n",
       "      <td>0</td>\n",
       "      <td>0</td>\n",
       "      <td>0</td>\n",
       "      <td>0</td>\n",
       "      <td>0</td>\n",
       "      <td>0</td>\n",
       "      <td>0</td>\n",
       "      <td>0</td>\n",
       "    </tr>\n",
       "    <tr>\n",
       "      <th>Sunrisers Hyderabad</th>\n",
       "      <td>0</td>\n",
       "      <td>0</td>\n",
       "      <td>0</td>\n",
       "      <td>0</td>\n",
       "      <td>0</td>\n",
       "      <td>0</td>\n",
       "      <td>0</td>\n",
       "      <td>0</td>\n",
       "      <td>1</td>\n",
       "      <td>0</td>\n",
       "    </tr>\n",
       "  </tbody>\n",
       "</table>\n",
       "</div>"
      ],
      "text/plain": [
       "runners up             Chennai Super Kings  Delhi Capitals  Gujarat Titans  \\\n",
       "Winning team                                                                 \n",
       "Chennai Super Kings                      0               0               1   \n",
       "Deccan Chargers                          0               0               0   \n",
       "Gujarat Titans                           0               0               0   \n",
       "Kolkata Knight Riders                    1               0               0   \n",
       "Mumbai Indians                           3               1               0   \n",
       "Rajasthan Royals                         1               0               0   \n",
       "Sunrisers Hyderabad                      0               0               0   \n",
       "\n",
       "runners up             Kings XI Punjab  Kolkata Knight Riders  Mumbai Indians  \\\n",
       "Winning team                                                                    \n",
       "Chennai Super Kings                  0                      1               1   \n",
       "Deccan Chargers                      0                      0               0   \n",
       "Gujarat Titans                       0                      0               0   \n",
       "Kolkata Knight Riders                1                      0               0   \n",
       "Mumbai Indians                       0                      0               0   \n",
       "Rajasthan Royals                     0                      0               0   \n",
       "Sunrisers Hyderabad                  0                      0               0   \n",
       "\n",
       "runners up             Rajasthan Royals  Rising Pune Supergiants  \\\n",
       "Winning team                                                       \n",
       "Chennai Super Kings                   0                        0   \n",
       "Deccan Chargers                       0                        0   \n",
       "Gujarat Titans                        1                        0   \n",
       "Kolkata Knight Riders                 0                        0   \n",
       "Mumbai Indians                        0                        1   \n",
       "Rajasthan Royals                      0                        0   \n",
       "Sunrisers Hyderabad                   0                        0   \n",
       "\n",
       "runners up             Royal Challengers Bangalore  Sunrisers Hyderabad  \n",
       "Winning team                                                             \n",
       "Chennai Super Kings                              1                    1  \n",
       "Deccan Chargers                                  1                    0  \n",
       "Gujarat Titans                                   0                    0  \n",
       "Kolkata Knight Riders                            0                    0  \n",
       "Mumbai Indians                                   0                    0  \n",
       "Rajasthan Royals                                 0                    0  \n",
       "Sunrisers Hyderabad                              1                    0  "
      ]
     },
     "execution_count": 117,
     "metadata": {},
     "output_type": "execute_result"
    }
   ],
   "source": [
    "pd.crosstab(df['Winning team'],df['runners up'])"
   ]
  },
  {
   "cell_type": "code",
   "execution_count": 123,
   "id": "eaacf819",
   "metadata": {},
   "outputs": [
    {
     "data": {
      "text/plain": [
       "Orange Cap\n",
       "Chris Gayle          1341\n",
       "David Warner         1895\n",
       "Jos Buttler           863\n",
       "KL Rahul              670\n",
       "Kane Williamson       735\n",
       "Matthew Hayden        572\n",
       "Michael Hussey        733\n",
       "Robin Uthappa         660\n",
       "Ruturaj Gaikwad       635\n",
       "Sachin Tendulkar      618\n",
       "Shaun Marsh           616\n",
       "Shubman Gill          890\n",
       "Virat Kohli           973\n",
       "Name: Orange cap runs, dtype: int64"
      ]
     },
     "execution_count": 123,
     "metadata": {},
     "output_type": "execute_result"
    }
   ],
   "source": [
    "df.groupby('Orange Cap')['Orange cap runs'].sum()"
   ]
  },
  {
   "cell_type": "code",
   "execution_count": 124,
   "id": "6b7335af",
   "metadata": {},
   "outputs": [],
   "source": [
    "import datetime as dt"
   ]
  },
  {
   "cell_type": "code",
   "execution_count": 127,
   "id": "95b5ed90",
   "metadata": {},
   "outputs": [],
   "source": [
    "df['month']= df['Final Date'].dt.month"
   ]
  },
  {
   "cell_type": "code",
   "execution_count": 128,
   "id": "7f6e9cee",
   "metadata": {},
   "outputs": [
    {
     "data": {
      "text/html": [
       "<div>\n",
       "<style scoped>\n",
       "    .dataframe tbody tr th:only-of-type {\n",
       "        vertical-align: middle;\n",
       "    }\n",
       "\n",
       "    .dataframe tbody tr th {\n",
       "        vertical-align: top;\n",
       "    }\n",
       "\n",
       "    .dataframe thead th {\n",
       "        text-align: right;\n",
       "    }\n",
       "</style>\n",
       "<table border=\"1\" class=\"dataframe\">\n",
       "  <thead>\n",
       "    <tr style=\"text-align: right;\">\n",
       "      <th></th>\n",
       "      <th>Year</th>\n",
       "      <th>Winning team</th>\n",
       "      <th>runners up</th>\n",
       "      <th>playoff qualifying team 1</th>\n",
       "      <th>Playoff qualifying team 2</th>\n",
       "      <th>Orange Cap</th>\n",
       "      <th>Orange cap runs</th>\n",
       "      <th>OC</th>\n",
       "      <th>Purple Cap</th>\n",
       "      <th>Purple cap wickets</th>\n",
       "      <th>PC winner team</th>\n",
       "      <th>Final Venue</th>\n",
       "      <th>Final Date</th>\n",
       "      <th>month</th>\n",
       "    </tr>\n",
       "  </thead>\n",
       "  <tbody>\n",
       "    <tr>\n",
       "      <th>0</th>\n",
       "      <td>2008</td>\n",
       "      <td>Rajasthan Royals</td>\n",
       "      <td>Chennai Super Kings</td>\n",
       "      <td>Kings XI Punjab</td>\n",
       "      <td>Delhi Daredevils</td>\n",
       "      <td>Shaun Marsh</td>\n",
       "      <td>616</td>\n",
       "      <td>Kings XI Punjab</td>\n",
       "      <td>Sohail Tanvir</td>\n",
       "      <td>22</td>\n",
       "      <td>Rajasthan Royals</td>\n",
       "      <td>Mumbai</td>\n",
       "      <td>2008-06-01</td>\n",
       "      <td>6</td>\n",
       "    </tr>\n",
       "    <tr>\n",
       "      <th>1</th>\n",
       "      <td>2009</td>\n",
       "      <td>Deccan Chargers</td>\n",
       "      <td>Royal Challengers Bangalore</td>\n",
       "      <td>Chennai Super Kings</td>\n",
       "      <td>Delhi Daredevi;s</td>\n",
       "      <td>Matthew Hayden</td>\n",
       "      <td>572</td>\n",
       "      <td>Chennai Super Kings</td>\n",
       "      <td>R P Singh</td>\n",
       "      <td>23</td>\n",
       "      <td>Deccan Chargers</td>\n",
       "      <td>Johannesburg</td>\n",
       "      <td>2009-05-24</td>\n",
       "      <td>5</td>\n",
       "    </tr>\n",
       "  </tbody>\n",
       "</table>\n",
       "</div>"
      ],
      "text/plain": [
       "   Year      Winning team                   runners up  \\\n",
       "0  2008  Rajasthan Royals          Chennai Super Kings   \n",
       "1  2009   Deccan Chargers  Royal Challengers Bangalore   \n",
       "\n",
       "  playoff qualifying team 1 Playoff qualifying team 2      Orange Cap  \\\n",
       "0           Kings XI Punjab          Delhi Daredevils     Shaun Marsh   \n",
       "1       Chennai Super Kings          Delhi Daredevi;s  Matthew Hayden   \n",
       "\n",
       "   Orange cap runs                   OC     Purple Cap  Purple cap wickets  \\\n",
       "0              616      Kings XI Punjab  Sohail Tanvir                  22   \n",
       "1              572  Chennai Super Kings      R P Singh                  23   \n",
       "\n",
       "     PC winner team   Final Venue Final Date  month  \n",
       "0  Rajasthan Royals        Mumbai 2008-06-01      6  \n",
       "1   Deccan Chargers  Johannesburg 2009-05-24      5  "
      ]
     },
     "execution_count": 128,
     "metadata": {},
     "output_type": "execute_result"
    }
   ],
   "source": [
    "df.head(2)"
   ]
  },
  {
   "cell_type": "code",
   "execution_count": 129,
   "id": "377da911",
   "metadata": {},
   "outputs": [
    {
     "data": {
      "text/plain": [
       "array([ 6,  5,  4, 11, 10], dtype=int64)"
      ]
     },
     "execution_count": 129,
     "metadata": {},
     "output_type": "execute_result"
    }
   ],
   "source": [
    "df['month'].unique()"
   ]
  },
  {
   "cell_type": "code",
   "execution_count": 131,
   "id": "c022fac1",
   "metadata": {},
   "outputs": [
    {
     "data": {
      "text/html": [
       "<div>\n",
       "<style scoped>\n",
       "    .dataframe tbody tr th:only-of-type {\n",
       "        vertical-align: middle;\n",
       "    }\n",
       "\n",
       "    .dataframe tbody tr th {\n",
       "        vertical-align: top;\n",
       "    }\n",
       "\n",
       "    .dataframe thead th {\n",
       "        text-align: right;\n",
       "    }\n",
       "</style>\n",
       "<table border=\"1\" class=\"dataframe\">\n",
       "  <thead>\n",
       "    <tr style=\"text-align: right;\">\n",
       "      <th></th>\n",
       "      <th>Year</th>\n",
       "      <th>Winning team</th>\n",
       "      <th>runners up</th>\n",
       "      <th>playoff qualifying team 1</th>\n",
       "      <th>Playoff qualifying team 2</th>\n",
       "      <th>Orange Cap</th>\n",
       "      <th>Orange cap runs</th>\n",
       "      <th>OC</th>\n",
       "      <th>Purple Cap</th>\n",
       "      <th>Purple cap wickets</th>\n",
       "      <th>PC winner team</th>\n",
       "      <th>Final Venue</th>\n",
       "      <th>Final Date</th>\n",
       "      <th>month</th>\n",
       "    </tr>\n",
       "  </thead>\n",
       "  <tbody>\n",
       "    <tr>\n",
       "      <th>12</th>\n",
       "      <td>2020</td>\n",
       "      <td>Mumbai Indians</td>\n",
       "      <td>Delhi Capitals</td>\n",
       "      <td>Sunrisers Hyderabad</td>\n",
       "      <td>Royal Challengers Bangalore</td>\n",
       "      <td>KL Rahul</td>\n",
       "      <td>670</td>\n",
       "      <td>Kings XI Punjab</td>\n",
       "      <td>Kagiso Rabada</td>\n",
       "      <td>30</td>\n",
       "      <td>Delhi Capitals</td>\n",
       "      <td>Dubai</td>\n",
       "      <td>2020-11-10</td>\n",
       "      <td>11</td>\n",
       "    </tr>\n",
       "    <tr>\n",
       "      <th>13</th>\n",
       "      <td>2021</td>\n",
       "      <td>Chennai Super Kings</td>\n",
       "      <td>Kolkata Knight Riders</td>\n",
       "      <td>Delhi Capitals</td>\n",
       "      <td>Royal Challengers Bangalore</td>\n",
       "      <td>Ruturaj Gaikwad</td>\n",
       "      <td>635</td>\n",
       "      <td>Chennai Super Kings</td>\n",
       "      <td>Harshal Patel</td>\n",
       "      <td>32</td>\n",
       "      <td>Royal Challengers Bangalore</td>\n",
       "      <td>Dubai</td>\n",
       "      <td>2021-10-15</td>\n",
       "      <td>10</td>\n",
       "    </tr>\n",
       "  </tbody>\n",
       "</table>\n",
       "</div>"
      ],
      "text/plain": [
       "    Year         Winning team             runners up  \\\n",
       "12  2020       Mumbai Indians         Delhi Capitals   \n",
       "13  2021  Chennai Super Kings  Kolkata Knight Riders   \n",
       "\n",
       "   playoff qualifying team 1    Playoff qualifying team 2       Orange Cap  \\\n",
       "12       Sunrisers Hyderabad  Royal Challengers Bangalore         KL Rahul   \n",
       "13            Delhi Capitals  Royal Challengers Bangalore  Ruturaj Gaikwad   \n",
       "\n",
       "    Orange cap runs                   OC     Purple Cap  Purple cap wickets  \\\n",
       "12              670      Kings XI Punjab  Kagiso Rabada                  30   \n",
       "13              635  Chennai Super Kings  Harshal Patel                  32   \n",
       "\n",
       "                 PC winner team Final Venue Final Date  month  \n",
       "12               Delhi Capitals       Dubai 2020-11-10     11  \n",
       "13  Royal Challengers Bangalore       Dubai 2021-10-15     10  "
      ]
     },
     "execution_count": 131,
     "metadata": {},
     "output_type": "execute_result"
    }
   ],
   "source": [
    "df[df['month'] >6]"
   ]
  },
  {
   "cell_type": "code",
   "execution_count": 132,
   "id": "4459540b",
   "metadata": {},
   "outputs": [
    {
     "data": {
      "text/plain": [
       "array(['Mumbai', 'Johannesburg', 'Chennai', 'Kolkata', 'Bengaluru',\n",
       "       'Hyderabad', 'Dubai', 'Ahmedabad'], dtype=object)"
      ]
     },
     "execution_count": 132,
     "metadata": {},
     "output_type": "execute_result"
    }
   ],
   "source": [
    "df['Final Venue'].unique()"
   ]
  },
  {
   "cell_type": "code",
   "execution_count": 135,
   "id": "85788d52",
   "metadata": {},
   "outputs": [],
   "source": [
    "ground=pd.DataFrame({'Final Venue':['Mumbai', 'Johannesburg', 'Chennai', 'Kolkata', 'Bengaluru',\n",
    "       'Hyderabad', 'Dubai', 'Ahmedabad'] ,'Country':['India','SA','India','India','India','India','UAE','India']})"
   ]
  },
  {
   "cell_type": "code",
   "execution_count": 136,
   "id": "0d11567d",
   "metadata": {},
   "outputs": [
    {
     "data": {
      "text/html": [
       "<div>\n",
       "<style scoped>\n",
       "    .dataframe tbody tr th:only-of-type {\n",
       "        vertical-align: middle;\n",
       "    }\n",
       "\n",
       "    .dataframe tbody tr th {\n",
       "        vertical-align: top;\n",
       "    }\n",
       "\n",
       "    .dataframe thead th {\n",
       "        text-align: right;\n",
       "    }\n",
       "</style>\n",
       "<table border=\"1\" class=\"dataframe\">\n",
       "  <thead>\n",
       "    <tr style=\"text-align: right;\">\n",
       "      <th></th>\n",
       "      <th>Final Venue</th>\n",
       "      <th>Country</th>\n",
       "    </tr>\n",
       "  </thead>\n",
       "  <tbody>\n",
       "    <tr>\n",
       "      <th>0</th>\n",
       "      <td>Mumbai</td>\n",
       "      <td>India</td>\n",
       "    </tr>\n",
       "    <tr>\n",
       "      <th>1</th>\n",
       "      <td>Johannesburg</td>\n",
       "      <td>SA</td>\n",
       "    </tr>\n",
       "    <tr>\n",
       "      <th>2</th>\n",
       "      <td>Chennai</td>\n",
       "      <td>India</td>\n",
       "    </tr>\n",
       "    <tr>\n",
       "      <th>3</th>\n",
       "      <td>Kolkata</td>\n",
       "      <td>India</td>\n",
       "    </tr>\n",
       "    <tr>\n",
       "      <th>4</th>\n",
       "      <td>Bengaluru</td>\n",
       "      <td>India</td>\n",
       "    </tr>\n",
       "    <tr>\n",
       "      <th>5</th>\n",
       "      <td>Hyderabad</td>\n",
       "      <td>India</td>\n",
       "    </tr>\n",
       "    <tr>\n",
       "      <th>6</th>\n",
       "      <td>Dubai</td>\n",
       "      <td>UAE</td>\n",
       "    </tr>\n",
       "    <tr>\n",
       "      <th>7</th>\n",
       "      <td>Ahmedabad</td>\n",
       "      <td>India</td>\n",
       "    </tr>\n",
       "  </tbody>\n",
       "</table>\n",
       "</div>"
      ],
      "text/plain": [
       "    Final Venue Country\n",
       "0        Mumbai   India\n",
       "1  Johannesburg      SA\n",
       "2       Chennai   India\n",
       "3       Kolkata   India\n",
       "4     Bengaluru   India\n",
       "5     Hyderabad   India\n",
       "6         Dubai     UAE\n",
       "7     Ahmedabad   India"
      ]
     },
     "execution_count": 136,
     "metadata": {},
     "output_type": "execute_result"
    }
   ],
   "source": [
    "ground\n"
   ]
  },
  {
   "cell_type": "code",
   "execution_count": 137,
   "id": "6751a7b2",
   "metadata": {},
   "outputs": [],
   "source": [
    "dvenue=df.merge(ground, on ='Final Venue')"
   ]
  },
  {
   "cell_type": "code",
   "execution_count": 138,
   "id": "f6786892",
   "metadata": {},
   "outputs": [
    {
     "data": {
      "text/html": [
       "<div>\n",
       "<style scoped>\n",
       "    .dataframe tbody tr th:only-of-type {\n",
       "        vertical-align: middle;\n",
       "    }\n",
       "\n",
       "    .dataframe tbody tr th {\n",
       "        vertical-align: top;\n",
       "    }\n",
       "\n",
       "    .dataframe thead th {\n",
       "        text-align: right;\n",
       "    }\n",
       "</style>\n",
       "<table border=\"1\" class=\"dataframe\">\n",
       "  <thead>\n",
       "    <tr style=\"text-align: right;\">\n",
       "      <th></th>\n",
       "      <th>Year</th>\n",
       "      <th>Winning team</th>\n",
       "      <th>runners up</th>\n",
       "      <th>playoff qualifying team 1</th>\n",
       "      <th>Playoff qualifying team 2</th>\n",
       "      <th>Orange Cap</th>\n",
       "      <th>Orange cap runs</th>\n",
       "      <th>OC</th>\n",
       "      <th>Purple Cap</th>\n",
       "      <th>Purple cap wickets</th>\n",
       "      <th>PC winner team</th>\n",
       "      <th>Final Venue</th>\n",
       "      <th>Final Date</th>\n",
       "      <th>month</th>\n",
       "      <th>Country</th>\n",
       "    </tr>\n",
       "  </thead>\n",
       "  <tbody>\n",
       "    <tr>\n",
       "      <th>0</th>\n",
       "      <td>2008</td>\n",
       "      <td>Rajasthan Royals</td>\n",
       "      <td>Chennai Super Kings</td>\n",
       "      <td>Kings XI Punjab</td>\n",
       "      <td>Delhi Daredevils</td>\n",
       "      <td>Shaun Marsh</td>\n",
       "      <td>616</td>\n",
       "      <td>Kings XI Punjab</td>\n",
       "      <td>Sohail Tanvir</td>\n",
       "      <td>22</td>\n",
       "      <td>Rajasthan Royals</td>\n",
       "      <td>Mumbai</td>\n",
       "      <td>2008-06-01</td>\n",
       "      <td>6</td>\n",
       "      <td>India</td>\n",
       "    </tr>\n",
       "    <tr>\n",
       "      <th>1</th>\n",
       "      <td>2010</td>\n",
       "      <td>Chennai Super Kings</td>\n",
       "      <td>Mumbai Indians</td>\n",
       "      <td>Royal Challengers Bangalore</td>\n",
       "      <td>Deccan Chargers</td>\n",
       "      <td>Sachin Tendulkar</td>\n",
       "      <td>618</td>\n",
       "      <td>Mumbai Indians</td>\n",
       "      <td>Pragyan Ojha</td>\n",
       "      <td>21</td>\n",
       "      <td>Deccan Chargers</td>\n",
       "      <td>Mumbai</td>\n",
       "      <td>2010-04-25</td>\n",
       "      <td>4</td>\n",
       "      <td>India</td>\n",
       "    </tr>\n",
       "    <tr>\n",
       "      <th>2</th>\n",
       "      <td>2018</td>\n",
       "      <td>Chennai Super Kings</td>\n",
       "      <td>Sunrisers Hyderabad</td>\n",
       "      <td>Kolkata Knight Riders</td>\n",
       "      <td>Rajasthan Royals</td>\n",
       "      <td>Kane Williamson</td>\n",
       "      <td>735</td>\n",
       "      <td>Sunrisers Hyderabad</td>\n",
       "      <td>Andrew Tye</td>\n",
       "      <td>24</td>\n",
       "      <td>Kings XI Punjab</td>\n",
       "      <td>Mumbai</td>\n",
       "      <td>2018-05-27</td>\n",
       "      <td>5</td>\n",
       "      <td>India</td>\n",
       "    </tr>\n",
       "    <tr>\n",
       "      <th>3</th>\n",
       "      <td>2009</td>\n",
       "      <td>Deccan Chargers</td>\n",
       "      <td>Royal Challengers Bangalore</td>\n",
       "      <td>Chennai Super Kings</td>\n",
       "      <td>Delhi Daredevi;s</td>\n",
       "      <td>Matthew Hayden</td>\n",
       "      <td>572</td>\n",
       "      <td>Chennai Super Kings</td>\n",
       "      <td>R P Singh</td>\n",
       "      <td>23</td>\n",
       "      <td>Deccan Chargers</td>\n",
       "      <td>Johannesburg</td>\n",
       "      <td>2009-05-24</td>\n",
       "      <td>5</td>\n",
       "      <td>SA</td>\n",
       "    </tr>\n",
       "    <tr>\n",
       "      <th>4</th>\n",
       "      <td>2011</td>\n",
       "      <td>Chennai Super Kings</td>\n",
       "      <td>Royal Challengers Bangalore</td>\n",
       "      <td>Mumbai Indians</td>\n",
       "      <td>Kolkata Knight Riders</td>\n",
       "      <td>Chris Gayle</td>\n",
       "      <td>608</td>\n",
       "      <td>Royal Challengers Bangalore</td>\n",
       "      <td>Lasith Malinga</td>\n",
       "      <td>28</td>\n",
       "      <td>Mumbai Indians</td>\n",
       "      <td>Chennai</td>\n",
       "      <td>2011-05-28</td>\n",
       "      <td>5</td>\n",
       "      <td>India</td>\n",
       "    </tr>\n",
       "  </tbody>\n",
       "</table>\n",
       "</div>"
      ],
      "text/plain": [
       "   Year         Winning team                   runners up  \\\n",
       "0  2008     Rajasthan Royals          Chennai Super Kings   \n",
       "1  2010  Chennai Super Kings               Mumbai Indians   \n",
       "2  2018  Chennai Super Kings          Sunrisers Hyderabad   \n",
       "3  2009      Deccan Chargers  Royal Challengers Bangalore   \n",
       "4  2011  Chennai Super Kings  Royal Challengers Bangalore   \n",
       "\n",
       "     playoff qualifying team 1 Playoff qualifying team 2         Orange Cap  \\\n",
       "0              Kings XI Punjab          Delhi Daredevils        Shaun Marsh   \n",
       "1  Royal Challengers Bangalore           Deccan Chargers  Sachin Tendulkar    \n",
       "2        Kolkata Knight Riders          Rajasthan Royals    Kane Williamson   \n",
       "3          Chennai Super Kings          Delhi Daredevi;s     Matthew Hayden   \n",
       "4               Mumbai Indians     Kolkata Knight Riders        Chris Gayle   \n",
       "\n",
       "   Orange cap runs                           OC      Purple Cap  \\\n",
       "0              616              Kings XI Punjab   Sohail Tanvir   \n",
       "1              618               Mumbai Indians    Pragyan Ojha   \n",
       "2              735          Sunrisers Hyderabad      Andrew Tye   \n",
       "3              572          Chennai Super Kings       R P Singh   \n",
       "4              608  Royal Challengers Bangalore  Lasith Malinga   \n",
       "\n",
       "   Purple cap wickets    PC winner team   Final Venue Final Date  month  \\\n",
       "0                  22  Rajasthan Royals        Mumbai 2008-06-01      6   \n",
       "1                  21   Deccan Chargers        Mumbai 2010-04-25      4   \n",
       "2                  24   Kings XI Punjab        Mumbai 2018-05-27      5   \n",
       "3                  23   Deccan Chargers  Johannesburg 2009-05-24      5   \n",
       "4                  28    Mumbai Indians       Chennai 2011-05-28      5   \n",
       "\n",
       "  Country  \n",
       "0   India  \n",
       "1   India  \n",
       "2   India  \n",
       "3      SA  \n",
       "4   India  "
      ]
     },
     "execution_count": 138,
     "metadata": {},
     "output_type": "execute_result"
    }
   ],
   "source": [
    "dvenue.head()"
   ]
  },
  {
   "cell_type": "code",
   "execution_count": 139,
   "id": "771915cf",
   "metadata": {},
   "outputs": [
    {
     "data": {
      "text/html": [
       "<div>\n",
       "<style scoped>\n",
       "    .dataframe tbody tr th:only-of-type {\n",
       "        vertical-align: middle;\n",
       "    }\n",
       "\n",
       "    .dataframe tbody tr th {\n",
       "        vertical-align: top;\n",
       "    }\n",
       "\n",
       "    .dataframe thead tr th {\n",
       "        text-align: left;\n",
       "    }\n",
       "\n",
       "    .dataframe thead tr:last-of-type th {\n",
       "        text-align: right;\n",
       "    }\n",
       "</style>\n",
       "<table border=\"1\" class=\"dataframe\">\n",
       "  <thead>\n",
       "    <tr>\n",
       "      <th></th>\n",
       "      <th colspan=\"2\" halign=\"left\">Orange cap runs</th>\n",
       "      <th colspan=\"2\" halign=\"left\">Purple cap wickets</th>\n",
       "    </tr>\n",
       "    <tr>\n",
       "      <th></th>\n",
       "      <th>min</th>\n",
       "      <th>max</th>\n",
       "      <th>min</th>\n",
       "      <th>max</th>\n",
       "    </tr>\n",
       "    <tr>\n",
       "      <th>Winning team</th>\n",
       "      <th></th>\n",
       "      <th></th>\n",
       "      <th></th>\n",
       "      <th></th>\n",
       "    </tr>\n",
       "  </thead>\n",
       "  <tbody>\n",
       "    <tr>\n",
       "      <th>Chennai Super Kings</th>\n",
       "      <td>608</td>\n",
       "      <td>890</td>\n",
       "      <td>21</td>\n",
       "      <td>32</td>\n",
       "    </tr>\n",
       "    <tr>\n",
       "      <th>Deccan Chargers</th>\n",
       "      <td>572</td>\n",
       "      <td>572</td>\n",
       "      <td>23</td>\n",
       "      <td>23</td>\n",
       "    </tr>\n",
       "    <tr>\n",
       "      <th>Gujarat Titans</th>\n",
       "      <td>863</td>\n",
       "      <td>863</td>\n",
       "      <td>27</td>\n",
       "      <td>27</td>\n",
       "    </tr>\n",
       "    <tr>\n",
       "      <th>Kolkata Knight Riders</th>\n",
       "      <td>660</td>\n",
       "      <td>733</td>\n",
       "      <td>23</td>\n",
       "      <td>25</td>\n",
       "    </tr>\n",
       "    <tr>\n",
       "      <th>Mumbai Indians</th>\n",
       "      <td>562</td>\n",
       "      <td>733</td>\n",
       "      <td>26</td>\n",
       "      <td>32</td>\n",
       "    </tr>\n",
       "    <tr>\n",
       "      <th>Rajasthan Royals</th>\n",
       "      <td>616</td>\n",
       "      <td>616</td>\n",
       "      <td>22</td>\n",
       "      <td>22</td>\n",
       "    </tr>\n",
       "    <tr>\n",
       "      <th>Sunrisers Hyderabad</th>\n",
       "      <td>973</td>\n",
       "      <td>973</td>\n",
       "      <td>23</td>\n",
       "      <td>23</td>\n",
       "    </tr>\n",
       "  </tbody>\n",
       "</table>\n",
       "</div>"
      ],
      "text/plain": [
       "                      Orange cap runs      Purple cap wickets    \n",
       "                                  min  max                min max\n",
       "Winning team                                                     \n",
       "Chennai Super Kings               608  890                 21  32\n",
       "Deccan Chargers                   572  572                 23  23\n",
       "Gujarat Titans                    863  863                 27  27\n",
       "Kolkata Knight Riders             660  733                 23  25\n",
       "Mumbai Indians                    562  733                 26  32\n",
       "Rajasthan Royals                  616  616                 22  22\n",
       "Sunrisers Hyderabad               973  973                 23  23"
      ]
     },
     "execution_count": 139,
     "metadata": {},
     "output_type": "execute_result"
    }
   ],
   "source": [
    "df.groupby('Winning team').agg({'Orange cap runs':[min,max],'Purple cap wickets':[min, max]})"
   ]
  },
  {
   "cell_type": "code",
   "execution_count": 140,
   "id": "59647289",
   "metadata": {},
   "outputs": [
    {
     "data": {
      "text/html": [
       "<div>\n",
       "<style scoped>\n",
       "    .dataframe tbody tr th:only-of-type {\n",
       "        vertical-align: middle;\n",
       "    }\n",
       "\n",
       "    .dataframe tbody tr th {\n",
       "        vertical-align: top;\n",
       "    }\n",
       "\n",
       "    .dataframe thead th {\n",
       "        text-align: right;\n",
       "    }\n",
       "</style>\n",
       "<table border=\"1\" class=\"dataframe\">\n",
       "  <thead>\n",
       "    <tr style=\"text-align: right;\">\n",
       "      <th></th>\n",
       "      <th>Year</th>\n",
       "      <th>Winning team</th>\n",
       "      <th>runners up</th>\n",
       "      <th>playoff qualifying team 1</th>\n",
       "      <th>Playoff qualifying team 2</th>\n",
       "      <th>Orange Cap</th>\n",
       "      <th>Orange cap runs</th>\n",
       "      <th>OC</th>\n",
       "      <th>Purple Cap</th>\n",
       "      <th>Purple cap wickets</th>\n",
       "      <th>PC winner team</th>\n",
       "      <th>Final Venue</th>\n",
       "      <th>Final Date</th>\n",
       "      <th>month</th>\n",
       "      <th>Country</th>\n",
       "    </tr>\n",
       "  </thead>\n",
       "  <tbody>\n",
       "    <tr>\n",
       "      <th>3</th>\n",
       "      <td>2009</td>\n",
       "      <td>Deccan Chargers</td>\n",
       "      <td>Royal Challengers Bangalore</td>\n",
       "      <td>Chennai Super Kings</td>\n",
       "      <td>Delhi Daredevi;s</td>\n",
       "      <td>Matthew Hayden</td>\n",
       "      <td>572</td>\n",
       "      <td>Chennai Super Kings</td>\n",
       "      <td>R P Singh</td>\n",
       "      <td>23</td>\n",
       "      <td>Deccan Chargers</td>\n",
       "      <td>Johannesburg</td>\n",
       "      <td>2009-05-24</td>\n",
       "      <td>5</td>\n",
       "      <td>SA</td>\n",
       "    </tr>\n",
       "    <tr>\n",
       "      <th>12</th>\n",
       "      <td>2020</td>\n",
       "      <td>Mumbai Indians</td>\n",
       "      <td>Delhi Capitals</td>\n",
       "      <td>Sunrisers Hyderabad</td>\n",
       "      <td>Royal Challengers Bangalore</td>\n",
       "      <td>KL Rahul</td>\n",
       "      <td>670</td>\n",
       "      <td>Kings XI Punjab</td>\n",
       "      <td>Kagiso Rabada</td>\n",
       "      <td>30</td>\n",
       "      <td>Delhi Capitals</td>\n",
       "      <td>Dubai</td>\n",
       "      <td>2020-11-10</td>\n",
       "      <td>11</td>\n",
       "      <td>UAE</td>\n",
       "    </tr>\n",
       "    <tr>\n",
       "      <th>13</th>\n",
       "      <td>2021</td>\n",
       "      <td>Chennai Super Kings</td>\n",
       "      <td>Kolkata Knight Riders</td>\n",
       "      <td>Delhi Capitals</td>\n",
       "      <td>Royal Challengers Bangalore</td>\n",
       "      <td>Ruturaj Gaikwad</td>\n",
       "      <td>635</td>\n",
       "      <td>Chennai Super Kings</td>\n",
       "      <td>Harshal Patel</td>\n",
       "      <td>32</td>\n",
       "      <td>Royal Challengers Bangalore</td>\n",
       "      <td>Dubai</td>\n",
       "      <td>2021-10-15</td>\n",
       "      <td>10</td>\n",
       "      <td>UAE</td>\n",
       "    </tr>\n",
       "  </tbody>\n",
       "</table>\n",
       "</div>"
      ],
      "text/plain": [
       "    Year         Winning team                   runners up  \\\n",
       "3   2009      Deccan Chargers  Royal Challengers Bangalore   \n",
       "12  2020       Mumbai Indians               Delhi Capitals   \n",
       "13  2021  Chennai Super Kings        Kolkata Knight Riders   \n",
       "\n",
       "   playoff qualifying team 1    Playoff qualifying team 2       Orange Cap  \\\n",
       "3        Chennai Super Kings             Delhi Daredevi;s   Matthew Hayden   \n",
       "12       Sunrisers Hyderabad  Royal Challengers Bangalore         KL Rahul   \n",
       "13            Delhi Capitals  Royal Challengers Bangalore  Ruturaj Gaikwad   \n",
       "\n",
       "    Orange cap runs                   OC     Purple Cap  Purple cap wickets  \\\n",
       "3               572  Chennai Super Kings      R P Singh                  23   \n",
       "12              670      Kings XI Punjab  Kagiso Rabada                  30   \n",
       "13              635  Chennai Super Kings  Harshal Patel                  32   \n",
       "\n",
       "                 PC winner team   Final Venue Final Date  month Country  \n",
       "3               Deccan Chargers  Johannesburg 2009-05-24      5      SA  \n",
       "12               Delhi Capitals         Dubai 2020-11-10     11     UAE  \n",
       "13  Royal Challengers Bangalore         Dubai 2021-10-15     10     UAE  "
      ]
     },
     "execution_count": 140,
     "metadata": {},
     "output_type": "execute_result"
    }
   ],
   "source": [
    "dvenue[dvenue['Country']!=\"India\"]"
   ]
  },
  {
   "cell_type": "raw",
   "id": "04bd811c",
   "metadata": {},
   "source": [
    "import numpy as np"
   ]
  },
  {
   "cell_type": "markdown",
   "id": "7a4474f0",
   "metadata": {},
   "source": [
    "# Variable Creation"
   ]
  },
  {
   "cell_type": "code",
   "execution_count": 146,
   "id": "f4b88509",
   "metadata": {},
   "outputs": [
    {
     "ename": "ValueError",
     "evalue": "either both or neither of x and y should be given",
     "output_type": "error",
     "traceback": [
      "\u001b[1;31m---------------------------------------------------------------------------\u001b[0m",
      "\u001b[1;31mValueError\u001b[0m                                Traceback (most recent call last)",
      "Input \u001b[1;32mIn [146]\u001b[0m, in \u001b[0;36m<cell line: 2>\u001b[1;34m()\u001b[0m\n\u001b[0;32m      1\u001b[0m \u001b[38;5;28;01mimport\u001b[39;00m \u001b[38;5;21;01mnumpy\u001b[39;00m \u001b[38;5;28;01mas\u001b[39;00m \u001b[38;5;21;01mnp\u001b[39;00m\n\u001b[1;32m----> 2\u001b[0m df[\u001b[38;5;124m'\u001b[39m\u001b[38;5;124mSeason\u001b[39m\u001b[38;5;124m'\u001b[39m]\u001b[38;5;241m=\u001b[39m np\u001b[38;5;241m.\u001b[39mwhere(df[\u001b[38;5;124m'\u001b[39m\u001b[38;5;124mmonth\u001b[39m\u001b[38;5;124m'\u001b[39m]\u001b[38;5;241m<\u001b[39m\u001b[38;5;241m=\u001b[39m\u001b[38;5;241m6\u001b[39m, \u001b[38;5;124m\"\u001b[39m\u001b[38;5;124mSummer\u001b[39m\u001b[38;5;124m\"\u001b[39m,\u001b[43mnp\u001b[49m\u001b[38;5;241;43m.\u001b[39;49m\u001b[43mwhere\u001b[49m\u001b[43m(\u001b[49m\u001b[43mdf\u001b[49m\u001b[43m[\u001b[49m\u001b[38;5;124;43m'\u001b[39;49m\u001b[38;5;124;43mmonth\u001b[39;49m\u001b[38;5;124;43m'\u001b[39;49m\u001b[43m]\u001b[49m\u001b[38;5;241;43m>\u001b[39;49m\u001b[38;5;241;43m9\u001b[39;49m\u001b[43m,\u001b[49m\u001b[38;5;124;43m'\u001b[39;49m\u001b[38;5;124;43mWinter\u001b[39;49m\u001b[38;5;124;43m'\u001b[39;49m\u001b[43m)\u001b[49m)\n",
      "File \u001b[1;32m<__array_function__ internals>:5\u001b[0m, in \u001b[0;36mwhere\u001b[1;34m(*args, **kwargs)\u001b[0m\n",
      "\u001b[1;31mValueError\u001b[0m: either both or neither of x and y should be given"
     ]
    }
   ],
   "source": [
    "import numpy as np\n",
    "df['Season']= np.where(df['month']<=6, \"Summer\",np.where(df['month']>9,'Winter'))"
   ]
  },
  {
   "cell_type": "code",
   "execution_count": 145,
   "id": "300545af",
   "metadata": {},
   "outputs": [
    {
     "data": {
      "text/html": [
       "<div>\n",
       "<style scoped>\n",
       "    .dataframe tbody tr th:only-of-type {\n",
       "        vertical-align: middle;\n",
       "    }\n",
       "\n",
       "    .dataframe tbody tr th {\n",
       "        vertical-align: top;\n",
       "    }\n",
       "\n",
       "    .dataframe thead th {\n",
       "        text-align: right;\n",
       "    }\n",
       "</style>\n",
       "<table border=\"1\" class=\"dataframe\">\n",
       "  <thead>\n",
       "    <tr style=\"text-align: right;\">\n",
       "      <th></th>\n",
       "      <th>Year</th>\n",
       "      <th>Winning team</th>\n",
       "      <th>runners up</th>\n",
       "      <th>playoff qualifying team 1</th>\n",
       "      <th>Playoff qualifying team 2</th>\n",
       "      <th>Orange Cap</th>\n",
       "      <th>Orange cap runs</th>\n",
       "      <th>OC</th>\n",
       "      <th>Purple Cap</th>\n",
       "      <th>Purple cap wickets</th>\n",
       "      <th>PC winner team</th>\n",
       "      <th>Final Venue</th>\n",
       "      <th>Final Date</th>\n",
       "      <th>month</th>\n",
       "      <th>Season</th>\n",
       "    </tr>\n",
       "  </thead>\n",
       "  <tbody>\n",
       "    <tr>\n",
       "      <th>0</th>\n",
       "      <td>2008</td>\n",
       "      <td>Rajasthan Royals</td>\n",
       "      <td>Chennai Super Kings</td>\n",
       "      <td>Kings XI Punjab</td>\n",
       "      <td>Delhi Daredevils</td>\n",
       "      <td>Shaun Marsh</td>\n",
       "      <td>616</td>\n",
       "      <td>Kings XI Punjab</td>\n",
       "      <td>Sohail Tanvir</td>\n",
       "      <td>22</td>\n",
       "      <td>Rajasthan Royals</td>\n",
       "      <td>Mumbai</td>\n",
       "      <td>2008-06-01</td>\n",
       "      <td>6</td>\n",
       "      <td>Summer</td>\n",
       "    </tr>\n",
       "    <tr>\n",
       "      <th>1</th>\n",
       "      <td>2009</td>\n",
       "      <td>Deccan Chargers</td>\n",
       "      <td>Royal Challengers Bangalore</td>\n",
       "      <td>Chennai Super Kings</td>\n",
       "      <td>Delhi Daredevi;s</td>\n",
       "      <td>Matthew Hayden</td>\n",
       "      <td>572</td>\n",
       "      <td>Chennai Super Kings</td>\n",
       "      <td>R P Singh</td>\n",
       "      <td>23</td>\n",
       "      <td>Deccan Chargers</td>\n",
       "      <td>Johannesburg</td>\n",
       "      <td>2009-05-24</td>\n",
       "      <td>5</td>\n",
       "      <td>Summer</td>\n",
       "    </tr>\n",
       "  </tbody>\n",
       "</table>\n",
       "</div>"
      ],
      "text/plain": [
       "   Year      Winning team                   runners up  \\\n",
       "0  2008  Rajasthan Royals          Chennai Super Kings   \n",
       "1  2009   Deccan Chargers  Royal Challengers Bangalore   \n",
       "\n",
       "  playoff qualifying team 1 Playoff qualifying team 2      Orange Cap  \\\n",
       "0           Kings XI Punjab          Delhi Daredevils     Shaun Marsh   \n",
       "1       Chennai Super Kings          Delhi Daredevi;s  Matthew Hayden   \n",
       "\n",
       "   Orange cap runs                   OC     Purple Cap  Purple cap wickets  \\\n",
       "0              616      Kings XI Punjab  Sohail Tanvir                  22   \n",
       "1              572  Chennai Super Kings      R P Singh                  23   \n",
       "\n",
       "     PC winner team   Final Venue Final Date  month  Season  \n",
       "0  Rajasthan Royals        Mumbai 2008-06-01      6  Summer  \n",
       "1   Deccan Chargers  Johannesburg 2009-05-24      5  Summer  "
      ]
     },
     "execution_count": 145,
     "metadata": {},
     "output_type": "execute_result"
    }
   ],
   "source": [
    "df.head(2)"
   ]
  },
  {
   "cell_type": "code",
   "execution_count": 149,
   "id": "7d7a6fcc",
   "metadata": {},
   "outputs": [
    {
     "data": {
      "text/plain": [
       "562"
      ]
     },
     "execution_count": 149,
     "metadata": {},
     "output_type": "execute_result"
    }
   ],
   "source": [
    "df['Orange cap runs'].min()"
   ]
  },
  {
   "cell_type": "code",
   "execution_count": 151,
   "id": "1419331c",
   "metadata": {},
   "outputs": [],
   "source": [
    "df['run_bkt']=df['Orange cap runs'].apply(lambda x:'Below Avg' if x<=700 else 'Above Average')"
   ]
  },
  {
   "cell_type": "code",
   "execution_count": 157,
   "id": "256aee66",
   "metadata": {},
   "outputs": [
    {
     "data": {
      "text/html": [
       "<div>\n",
       "<style scoped>\n",
       "    .dataframe tbody tr th:only-of-type {\n",
       "        vertical-align: middle;\n",
       "    }\n",
       "\n",
       "    .dataframe tbody tr th {\n",
       "        vertical-align: top;\n",
       "    }\n",
       "\n",
       "    .dataframe thead th {\n",
       "        text-align: right;\n",
       "    }\n",
       "</style>\n",
       "<table border=\"1\" class=\"dataframe\">\n",
       "  <thead>\n",
       "    <tr style=\"text-align: right;\">\n",
       "      <th></th>\n",
       "      <th>Year</th>\n",
       "      <th>Winning team</th>\n",
       "      <th>runners up</th>\n",
       "      <th>playoff qualifying team 1</th>\n",
       "      <th>Playoff qualifying team 2</th>\n",
       "      <th>Orange Cap</th>\n",
       "      <th>Orange cap runs</th>\n",
       "      <th>OC</th>\n",
       "      <th>Purple Cap</th>\n",
       "      <th>Purple cap wickets</th>\n",
       "      <th>PC winner team</th>\n",
       "      <th>Final Venue</th>\n",
       "      <th>Final Date</th>\n",
       "      <th>month</th>\n",
       "      <th>Season</th>\n",
       "      <th>run_bkt</th>\n",
       "    </tr>\n",
       "  </thead>\n",
       "  <tbody>\n",
       "    <tr>\n",
       "      <th>0</th>\n",
       "      <td>2008</td>\n",
       "      <td>Rajasthan Royals</td>\n",
       "      <td>Chennai Super Kings</td>\n",
       "      <td>Kings XI Punjab</td>\n",
       "      <td>Delhi Daredevils</td>\n",
       "      <td>Shaun Marsh</td>\n",
       "      <td>616</td>\n",
       "      <td>Kings XI Punjab</td>\n",
       "      <td>Sohail Tanvir</td>\n",
       "      <td>22</td>\n",
       "      <td>Rajasthan Royals</td>\n",
       "      <td>Mumbai</td>\n",
       "      <td>2008-06-01</td>\n",
       "      <td>6</td>\n",
       "      <td>Summer</td>\n",
       "      <td>Below Avg</td>\n",
       "    </tr>\n",
       "    <tr>\n",
       "      <th>1</th>\n",
       "      <td>2009</td>\n",
       "      <td>Deccan Chargers</td>\n",
       "      <td>Royal Challengers Bangalore</td>\n",
       "      <td>Chennai Super Kings</td>\n",
       "      <td>Delhi Daredevi;s</td>\n",
       "      <td>Matthew Hayden</td>\n",
       "      <td>572</td>\n",
       "      <td>Chennai Super Kings</td>\n",
       "      <td>R P Singh</td>\n",
       "      <td>23</td>\n",
       "      <td>Deccan Chargers</td>\n",
       "      <td>Johannesburg</td>\n",
       "      <td>2009-05-24</td>\n",
       "      <td>5</td>\n",
       "      <td>Summer</td>\n",
       "      <td>Below Avg</td>\n",
       "    </tr>\n",
       "    <tr>\n",
       "      <th>2</th>\n",
       "      <td>2010</td>\n",
       "      <td>Chennai Super Kings</td>\n",
       "      <td>Mumbai Indians</td>\n",
       "      <td>Royal Challengers Bangalore</td>\n",
       "      <td>Deccan Chargers</td>\n",
       "      <td>Sachin Tendulkar</td>\n",
       "      <td>618</td>\n",
       "      <td>Mumbai Indians</td>\n",
       "      <td>Pragyan Ojha</td>\n",
       "      <td>21</td>\n",
       "      <td>Deccan Chargers</td>\n",
       "      <td>Mumbai</td>\n",
       "      <td>2010-04-25</td>\n",
       "      <td>4</td>\n",
       "      <td>Summer</td>\n",
       "      <td>Below Avg</td>\n",
       "    </tr>\n",
       "    <tr>\n",
       "      <th>3</th>\n",
       "      <td>2011</td>\n",
       "      <td>Chennai Super Kings</td>\n",
       "      <td>Royal Challengers Bangalore</td>\n",
       "      <td>Mumbai Indians</td>\n",
       "      <td>Kolkata Knight Riders</td>\n",
       "      <td>Chris Gayle</td>\n",
       "      <td>608</td>\n",
       "      <td>Royal Challengers Bangalore</td>\n",
       "      <td>Lasith Malinga</td>\n",
       "      <td>28</td>\n",
       "      <td>Mumbai Indians</td>\n",
       "      <td>Chennai</td>\n",
       "      <td>2011-05-28</td>\n",
       "      <td>5</td>\n",
       "      <td>Summer</td>\n",
       "      <td>Below Avg</td>\n",
       "    </tr>\n",
       "    <tr>\n",
       "      <th>4</th>\n",
       "      <td>2012</td>\n",
       "      <td>Kolkata Knight Riders</td>\n",
       "      <td>Chennai Super Kings</td>\n",
       "      <td>Delhi Daredevils</td>\n",
       "      <td>Mumbai Indians</td>\n",
       "      <td>Chris Gayle</td>\n",
       "      <td>733</td>\n",
       "      <td>Royal Challengers Bangalore</td>\n",
       "      <td>Morne Morkel</td>\n",
       "      <td>25</td>\n",
       "      <td>Delhi Daredevils</td>\n",
       "      <td>Chennai</td>\n",
       "      <td>2012-05-27</td>\n",
       "      <td>5</td>\n",
       "      <td>Summer</td>\n",
       "      <td>Above Average</td>\n",
       "    </tr>\n",
       "  </tbody>\n",
       "</table>\n",
       "</div>"
      ],
      "text/plain": [
       "   Year           Winning team                   runners up  \\\n",
       "0  2008       Rajasthan Royals          Chennai Super Kings   \n",
       "1  2009        Deccan Chargers  Royal Challengers Bangalore   \n",
       "2  2010    Chennai Super Kings               Mumbai Indians   \n",
       "3  2011    Chennai Super Kings  Royal Challengers Bangalore   \n",
       "4  2012  Kolkata Knight Riders          Chennai Super Kings   \n",
       "\n",
       "     playoff qualifying team 1 Playoff qualifying team 2         Orange Cap  \\\n",
       "0              Kings XI Punjab          Delhi Daredevils        Shaun Marsh   \n",
       "1          Chennai Super Kings          Delhi Daredevi;s     Matthew Hayden   \n",
       "2  Royal Challengers Bangalore           Deccan Chargers  Sachin Tendulkar    \n",
       "3               Mumbai Indians     Kolkata Knight Riders        Chris Gayle   \n",
       "4             Delhi Daredevils            Mumbai Indians        Chris Gayle   \n",
       "\n",
       "   Orange cap runs                           OC      Purple Cap  \\\n",
       "0              616              Kings XI Punjab   Sohail Tanvir   \n",
       "1              572          Chennai Super Kings       R P Singh   \n",
       "2              618               Mumbai Indians    Pragyan Ojha   \n",
       "3              608  Royal Challengers Bangalore  Lasith Malinga   \n",
       "4              733  Royal Challengers Bangalore    Morne Morkel   \n",
       "\n",
       "   Purple cap wickets    PC winner team   Final Venue Final Date  month  \\\n",
       "0                  22  Rajasthan Royals        Mumbai 2008-06-01      6   \n",
       "1                  23   Deccan Chargers  Johannesburg 2009-05-24      5   \n",
       "2                  21   Deccan Chargers        Mumbai 2010-04-25      4   \n",
       "3                  28    Mumbai Indians       Chennai 2011-05-28      5   \n",
       "4                  25  Delhi Daredevils       Chennai 2012-05-27      5   \n",
       "\n",
       "   Season        run_bkt  \n",
       "0  Summer      Below Avg  \n",
       "1  Summer      Below Avg  \n",
       "2  Summer      Below Avg  \n",
       "3  Summer      Below Avg  \n",
       "4  Summer  Above Average  "
      ]
     },
     "execution_count": 157,
     "metadata": {},
     "output_type": "execute_result"
    }
   ],
   "source": [
    "df.head()"
   ]
  },
  {
   "cell_type": "code",
   "execution_count": 160,
   "id": "9b6fe3e9",
   "metadata": {},
   "outputs": [],
   "source": [
    "df['wkt_bkt']=df['Purple cap wickets'].apply(lambda x:'Low' if x<=25 else 'Medium' if x<=30 else 'High')"
   ]
  },
  {
   "cell_type": "code",
   "execution_count": 161,
   "id": "d29df927",
   "metadata": {},
   "outputs": [
    {
     "data": {
      "text/html": [
       "<div>\n",
       "<style scoped>\n",
       "    .dataframe tbody tr th:only-of-type {\n",
       "        vertical-align: middle;\n",
       "    }\n",
       "\n",
       "    .dataframe tbody tr th {\n",
       "        vertical-align: top;\n",
       "    }\n",
       "\n",
       "    .dataframe thead th {\n",
       "        text-align: right;\n",
       "    }\n",
       "</style>\n",
       "<table border=\"1\" class=\"dataframe\">\n",
       "  <thead>\n",
       "    <tr style=\"text-align: right;\">\n",
       "      <th></th>\n",
       "      <th>Year</th>\n",
       "      <th>Winning team</th>\n",
       "      <th>runners up</th>\n",
       "      <th>playoff qualifying team 1</th>\n",
       "      <th>Playoff qualifying team 2</th>\n",
       "      <th>Orange Cap</th>\n",
       "      <th>Orange cap runs</th>\n",
       "      <th>OC</th>\n",
       "      <th>Purple Cap</th>\n",
       "      <th>Purple cap wickets</th>\n",
       "      <th>PC winner team</th>\n",
       "      <th>Final Venue</th>\n",
       "      <th>Final Date</th>\n",
       "      <th>month</th>\n",
       "      <th>Season</th>\n",
       "      <th>run_bkt</th>\n",
       "      <th>wkt_bkt</th>\n",
       "    </tr>\n",
       "  </thead>\n",
       "  <tbody>\n",
       "    <tr>\n",
       "      <th>0</th>\n",
       "      <td>2008</td>\n",
       "      <td>Rajasthan Royals</td>\n",
       "      <td>Chennai Super Kings</td>\n",
       "      <td>Kings XI Punjab</td>\n",
       "      <td>Delhi Daredevils</td>\n",
       "      <td>Shaun Marsh</td>\n",
       "      <td>616</td>\n",
       "      <td>Kings XI Punjab</td>\n",
       "      <td>Sohail Tanvir</td>\n",
       "      <td>22</td>\n",
       "      <td>Rajasthan Royals</td>\n",
       "      <td>Mumbai</td>\n",
       "      <td>2008-06-01</td>\n",
       "      <td>6</td>\n",
       "      <td>Summer</td>\n",
       "      <td>Below Avg</td>\n",
       "      <td>Low</td>\n",
       "    </tr>\n",
       "    <tr>\n",
       "      <th>1</th>\n",
       "      <td>2009</td>\n",
       "      <td>Deccan Chargers</td>\n",
       "      <td>Royal Challengers Bangalore</td>\n",
       "      <td>Chennai Super Kings</td>\n",
       "      <td>Delhi Daredevi;s</td>\n",
       "      <td>Matthew Hayden</td>\n",
       "      <td>572</td>\n",
       "      <td>Chennai Super Kings</td>\n",
       "      <td>R P Singh</td>\n",
       "      <td>23</td>\n",
       "      <td>Deccan Chargers</td>\n",
       "      <td>Johannesburg</td>\n",
       "      <td>2009-05-24</td>\n",
       "      <td>5</td>\n",
       "      <td>Summer</td>\n",
       "      <td>Below Avg</td>\n",
       "      <td>Low</td>\n",
       "    </tr>\n",
       "    <tr>\n",
       "      <th>2</th>\n",
       "      <td>2010</td>\n",
       "      <td>Chennai Super Kings</td>\n",
       "      <td>Mumbai Indians</td>\n",
       "      <td>Royal Challengers Bangalore</td>\n",
       "      <td>Deccan Chargers</td>\n",
       "      <td>Sachin Tendulkar</td>\n",
       "      <td>618</td>\n",
       "      <td>Mumbai Indians</td>\n",
       "      <td>Pragyan Ojha</td>\n",
       "      <td>21</td>\n",
       "      <td>Deccan Chargers</td>\n",
       "      <td>Mumbai</td>\n",
       "      <td>2010-04-25</td>\n",
       "      <td>4</td>\n",
       "      <td>Summer</td>\n",
       "      <td>Below Avg</td>\n",
       "      <td>Low</td>\n",
       "    </tr>\n",
       "    <tr>\n",
       "      <th>3</th>\n",
       "      <td>2011</td>\n",
       "      <td>Chennai Super Kings</td>\n",
       "      <td>Royal Challengers Bangalore</td>\n",
       "      <td>Mumbai Indians</td>\n",
       "      <td>Kolkata Knight Riders</td>\n",
       "      <td>Chris Gayle</td>\n",
       "      <td>608</td>\n",
       "      <td>Royal Challengers Bangalore</td>\n",
       "      <td>Lasith Malinga</td>\n",
       "      <td>28</td>\n",
       "      <td>Mumbai Indians</td>\n",
       "      <td>Chennai</td>\n",
       "      <td>2011-05-28</td>\n",
       "      <td>5</td>\n",
       "      <td>Summer</td>\n",
       "      <td>Below Avg</td>\n",
       "      <td>Medium</td>\n",
       "    </tr>\n",
       "    <tr>\n",
       "      <th>4</th>\n",
       "      <td>2012</td>\n",
       "      <td>Kolkata Knight Riders</td>\n",
       "      <td>Chennai Super Kings</td>\n",
       "      <td>Delhi Daredevils</td>\n",
       "      <td>Mumbai Indians</td>\n",
       "      <td>Chris Gayle</td>\n",
       "      <td>733</td>\n",
       "      <td>Royal Challengers Bangalore</td>\n",
       "      <td>Morne Morkel</td>\n",
       "      <td>25</td>\n",
       "      <td>Delhi Daredevils</td>\n",
       "      <td>Chennai</td>\n",
       "      <td>2012-05-27</td>\n",
       "      <td>5</td>\n",
       "      <td>Summer</td>\n",
       "      <td>Above Average</td>\n",
       "      <td>Low</td>\n",
       "    </tr>\n",
       "  </tbody>\n",
       "</table>\n",
       "</div>"
      ],
      "text/plain": [
       "   Year           Winning team                   runners up  \\\n",
       "0  2008       Rajasthan Royals          Chennai Super Kings   \n",
       "1  2009        Deccan Chargers  Royal Challengers Bangalore   \n",
       "2  2010    Chennai Super Kings               Mumbai Indians   \n",
       "3  2011    Chennai Super Kings  Royal Challengers Bangalore   \n",
       "4  2012  Kolkata Knight Riders          Chennai Super Kings   \n",
       "\n",
       "     playoff qualifying team 1 Playoff qualifying team 2         Orange Cap  \\\n",
       "0              Kings XI Punjab          Delhi Daredevils        Shaun Marsh   \n",
       "1          Chennai Super Kings          Delhi Daredevi;s     Matthew Hayden   \n",
       "2  Royal Challengers Bangalore           Deccan Chargers  Sachin Tendulkar    \n",
       "3               Mumbai Indians     Kolkata Knight Riders        Chris Gayle   \n",
       "4             Delhi Daredevils            Mumbai Indians        Chris Gayle   \n",
       "\n",
       "   Orange cap runs                           OC      Purple Cap  \\\n",
       "0              616              Kings XI Punjab   Sohail Tanvir   \n",
       "1              572          Chennai Super Kings       R P Singh   \n",
       "2              618               Mumbai Indians    Pragyan Ojha   \n",
       "3              608  Royal Challengers Bangalore  Lasith Malinga   \n",
       "4              733  Royal Challengers Bangalore    Morne Morkel   \n",
       "\n",
       "   Purple cap wickets    PC winner team   Final Venue Final Date  month  \\\n",
       "0                  22  Rajasthan Royals        Mumbai 2008-06-01      6   \n",
       "1                  23   Deccan Chargers  Johannesburg 2009-05-24      5   \n",
       "2                  21   Deccan Chargers        Mumbai 2010-04-25      4   \n",
       "3                  28    Mumbai Indians       Chennai 2011-05-28      5   \n",
       "4                  25  Delhi Daredevils       Chennai 2012-05-27      5   \n",
       "\n",
       "   Season        run_bkt wkt_bkt  \n",
       "0  Summer      Below Avg     Low  \n",
       "1  Summer      Below Avg     Low  \n",
       "2  Summer      Below Avg     Low  \n",
       "3  Summer      Below Avg  Medium  \n",
       "4  Summer  Above Average     Low  "
      ]
     },
     "execution_count": 161,
     "metadata": {},
     "output_type": "execute_result"
    }
   ],
   "source": [
    "df.head()"
   ]
  },
  {
   "cell_type": "code",
   "execution_count": 165,
   "id": "78c1e8ed",
   "metadata": {},
   "outputs": [],
   "source": [
    "df.loc[(df['Orange cap runs']>=700)& (df['Purple cap wickets']>=26),\"Performance\"]='Above Avg'\n",
    "df.loc[(df['Orange cap runs']<=700)& (df['Purple cap wickets']>=26),\"Performance\"]='Below Avg'"
   ]
  },
  {
   "cell_type": "code",
   "execution_count": 167,
   "id": "060cf999",
   "metadata": {},
   "outputs": [
    {
     "data": {
      "text/html": [
       "<div>\n",
       "<style scoped>\n",
       "    .dataframe tbody tr th:only-of-type {\n",
       "        vertical-align: middle;\n",
       "    }\n",
       "\n",
       "    .dataframe tbody tr th {\n",
       "        vertical-align: top;\n",
       "    }\n",
       "\n",
       "    .dataframe thead th {\n",
       "        text-align: right;\n",
       "    }\n",
       "</style>\n",
       "<table border=\"1\" class=\"dataframe\">\n",
       "  <thead>\n",
       "    <tr style=\"text-align: right;\">\n",
       "      <th></th>\n",
       "      <th>Year</th>\n",
       "      <th>Winning team</th>\n",
       "      <th>runners up</th>\n",
       "      <th>playoff qualifying team 1</th>\n",
       "      <th>Playoff qualifying team 2</th>\n",
       "      <th>Orange Cap</th>\n",
       "      <th>Orange cap runs</th>\n",
       "      <th>OC</th>\n",
       "      <th>Purple Cap</th>\n",
       "      <th>Purple cap wickets</th>\n",
       "      <th>PC winner team</th>\n",
       "      <th>Final Venue</th>\n",
       "      <th>Final Date</th>\n",
       "      <th>month</th>\n",
       "      <th>Season</th>\n",
       "      <th>run_bkt</th>\n",
       "      <th>wkt_bkt</th>\n",
       "      <th>Performance</th>\n",
       "    </tr>\n",
       "  </thead>\n",
       "  <tbody>\n",
       "    <tr>\n",
       "      <th>0</th>\n",
       "      <td>2008</td>\n",
       "      <td>Rajasthan Royals</td>\n",
       "      <td>Chennai Super Kings</td>\n",
       "      <td>Kings XI Punjab</td>\n",
       "      <td>Delhi Daredevils</td>\n",
       "      <td>Shaun Marsh</td>\n",
       "      <td>616</td>\n",
       "      <td>Kings XI Punjab</td>\n",
       "      <td>Sohail Tanvir</td>\n",
       "      <td>22</td>\n",
       "      <td>Rajasthan Royals</td>\n",
       "      <td>Mumbai</td>\n",
       "      <td>2008-06-01</td>\n",
       "      <td>6</td>\n",
       "      <td>Summer</td>\n",
       "      <td>Below Avg</td>\n",
       "      <td>Low</td>\n",
       "      <td>NaN</td>\n",
       "    </tr>\n",
       "  </tbody>\n",
       "</table>\n",
       "</div>"
      ],
      "text/plain": [
       "   Year      Winning team           runners up playoff qualifying team 1  \\\n",
       "0  2008  Rajasthan Royals  Chennai Super Kings           Kings XI Punjab   \n",
       "\n",
       "  Playoff qualifying team 2   Orange Cap  Orange cap runs               OC  \\\n",
       "0          Delhi Daredevils  Shaun Marsh              616  Kings XI Punjab   \n",
       "\n",
       "      Purple Cap  Purple cap wickets    PC winner team Final Venue Final Date  \\\n",
       "0  Sohail Tanvir                  22  Rajasthan Royals      Mumbai 2008-06-01   \n",
       "\n",
       "   month  Season    run_bkt wkt_bkt Performance  \n",
       "0      6  Summer  Below Avg     Low         NaN  "
      ]
     },
     "execution_count": 167,
     "metadata": {},
     "output_type": "execute_result"
    }
   ],
   "source": [
    "df.head(1)"
   ]
  },
  {
   "cell_type": "markdown",
   "id": "bf2aa501",
   "metadata": {},
   "source": [
    "# Pivot Tavble"
   ]
  },
  {
   "cell_type": "code",
   "execution_count": 172,
   "id": "4fb79455",
   "metadata": {},
   "outputs": [
    {
     "data": {
      "text/html": [
       "<div>\n",
       "<style scoped>\n",
       "    .dataframe tbody tr th:only-of-type {\n",
       "        vertical-align: middle;\n",
       "    }\n",
       "\n",
       "    .dataframe tbody tr th {\n",
       "        vertical-align: top;\n",
       "    }\n",
       "\n",
       "    .dataframe thead th {\n",
       "        text-align: right;\n",
       "    }\n",
       "</style>\n",
       "<table border=\"1\" class=\"dataframe\">\n",
       "  <thead>\n",
       "    <tr style=\"text-align: right;\">\n",
       "      <th></th>\n",
       "      <th>Year</th>\n",
       "    </tr>\n",
       "    <tr>\n",
       "      <th>Winning team</th>\n",
       "      <th></th>\n",
       "    </tr>\n",
       "  </thead>\n",
       "  <tbody>\n",
       "    <tr>\n",
       "      <th>Chennai Super Kings</th>\n",
       "      <td>5</td>\n",
       "    </tr>\n",
       "    <tr>\n",
       "      <th>Deccan Chargers</th>\n",
       "      <td>1</td>\n",
       "    </tr>\n",
       "    <tr>\n",
       "      <th>Gujarat Titans</th>\n",
       "      <td>1</td>\n",
       "    </tr>\n",
       "    <tr>\n",
       "      <th>Kolkata Knight Riders</th>\n",
       "      <td>2</td>\n",
       "    </tr>\n",
       "    <tr>\n",
       "      <th>Mumbai Indians</th>\n",
       "      <td>5</td>\n",
       "    </tr>\n",
       "    <tr>\n",
       "      <th>Rajasthan Royals</th>\n",
       "      <td>1</td>\n",
       "    </tr>\n",
       "    <tr>\n",
       "      <th>Sunrisers Hyderabad</th>\n",
       "      <td>1</td>\n",
       "    </tr>\n",
       "  </tbody>\n",
       "</table>\n",
       "</div>"
      ],
      "text/plain": [
       "                       Year\n",
       "Winning team               \n",
       "Chennai Super Kings       5\n",
       "Deccan Chargers           1\n",
       "Gujarat Titans            1\n",
       "Kolkata Knight Riders     2\n",
       "Mumbai Indians            5\n",
       "Rajasthan Royals          1\n",
       "Sunrisers Hyderabad       1"
      ]
     },
     "execution_count": 172,
     "metadata": {},
     "output_type": "execute_result"
    }
   ],
   "source": [
    "pd.pivot_table(df, values=[\"Year\"],index=['Winning team'],aggfunc= 'count')"
   ]
  },
  {
   "cell_type": "code",
   "execution_count": 176,
   "id": "0e93bfc5",
   "metadata": {},
   "outputs": [
    {
     "name": "stdout",
     "output_type": "stream",
     "text": [
      "Collecting pandasqlNote: you may need to restart the kernel to use updated packages.\n",
      "  Downloading pandasql-0.7.3.tar.gz (26 kB)\n",
      "Requirement already satisfied: numpy in d:\\anaconda\\lib\\site-packages (from pandasql) (1.21.5)\n",
      "Requirement already satisfied: pandas in d:\\anaconda\\lib\\site-packages (from pandasql) (1.4.2)\n",
      "Requirement already satisfied: sqlalchemy in d:\\anaconda\\lib\\site-packages (from pandasql) (1.4.32)\n",
      "Requirement already satisfied: python-dateutil>=2.8.1 in d:\\anaconda\\lib\\site-packages (from pandas->pandasql) (2.8.2)\n",
      "Requirement already satisfied: pytz>=2020.1 in d:\\anaconda\\lib\\site-packages (from pandas->pandasql) (2021.3)\n",
      "Requirement already satisfied: six>=1.5 in d:\\anaconda\\lib\\site-packages (from python-dateutil>=2.8.1->pandas->pandasql) (1.16.0)\n",
      "Requirement already satisfied: greenlet!=0.4.17 in d:\\anaconda\\lib\\site-packages (from sqlalchemy->pandasql) (1.1.1)\n",
      "Building wheels for collected packages: pandasql\n",
      "  Building wheel for pandasql (setup.py): started\n",
      "  Building wheel for pandasql (setup.py): finished with status 'done'\n",
      "  Created wheel for pandasql: filename=pandasql-0.7.3-py3-none-any.whl size=26784 sha256=5c9f5392f773bcfa61596f890250cc335cc89e529281fe9e989e396bf360858f\n",
      "  Stored in directory: c:\\users\\n. ali\\appdata\\local\\pip\\cache\\wheels\\63\\e8\\ec\\75b1df467ecf57b6ececb32cb16f4e86697cbfe55cb0c51f07\n",
      "\n",
      "Successfully built pandasql\n",
      "Installing collected packages: pandasql\n",
      "Successfully installed pandasql-0.7.3\n"
     ]
    }
   ],
   "source": [
    "pip install pandasql"
   ]
  },
  {
   "cell_type": "code",
   "execution_count": 1,
   "id": "5245b735",
   "metadata": {},
   "outputs": [],
   "source": [
    "from pandasql import sqldf"
   ]
  },
  {
   "cell_type": "code",
   "execution_count": 2,
   "id": "b311e6bf",
   "metadata": {},
   "outputs": [],
   "source": [
    "mysql=lambda q: sqldf(q,globals())"
   ]
  },
  {
   "cell_type": "code",
   "execution_count": 10,
   "id": "4a2bf1ea",
   "metadata": {},
   "outputs": [],
   "source": [
    "import pandas as pd\n",
    "df=pd.read_excel('C:\\\\Users\\\\N. ali\\\\Downloads\\\\IPL - Winners.xlsx')"
   ]
  },
  {
   "cell_type": "code",
   "execution_count": 11,
   "id": "6faaa25d",
   "metadata": {},
   "outputs": [
    {
     "data": {
      "text/html": [
       "<div>\n",
       "<style scoped>\n",
       "    .dataframe tbody tr th:only-of-type {\n",
       "        vertical-align: middle;\n",
       "    }\n",
       "\n",
       "    .dataframe tbody tr th {\n",
       "        vertical-align: top;\n",
       "    }\n",
       "\n",
       "    .dataframe thead th {\n",
       "        text-align: right;\n",
       "    }\n",
       "</style>\n",
       "<table border=\"1\" class=\"dataframe\">\n",
       "  <thead>\n",
       "    <tr style=\"text-align: right;\">\n",
       "      <th></th>\n",
       "      <th>Year</th>\n",
       "      <th>Winning team</th>\n",
       "      <th>runners up</th>\n",
       "      <th>playoff qualifying team 1</th>\n",
       "      <th>Playoff qualifying team 2</th>\n",
       "      <th>Orange Cap</th>\n",
       "      <th>Orange cap runs</th>\n",
       "      <th>OC winner team</th>\n",
       "      <th>Purple Cap</th>\n",
       "      <th>Purple cap wickets</th>\n",
       "      <th>PC winner team</th>\n",
       "      <th>Final Venue</th>\n",
       "      <th>Final Date</th>\n",
       "    </tr>\n",
       "  </thead>\n",
       "  <tbody>\n",
       "    <tr>\n",
       "      <th>0</th>\n",
       "      <td>2008</td>\n",
       "      <td>Rajasthan Royals</td>\n",
       "      <td>Chennai Super Kings</td>\n",
       "      <td>Kings XI Punjab</td>\n",
       "      <td>Delhi Daredevils</td>\n",
       "      <td>Shaun Marsh</td>\n",
       "      <td>616</td>\n",
       "      <td>Kings XI Punjab</td>\n",
       "      <td>Sohail Tanvir</td>\n",
       "      <td>22</td>\n",
       "      <td>Rajasthan Royals</td>\n",
       "      <td>Mumbai</td>\n",
       "      <td>2008-06-01 00:00:00.000000</td>\n",
       "    </tr>\n",
       "    <tr>\n",
       "      <th>1</th>\n",
       "      <td>2009</td>\n",
       "      <td>Deccan Chargers</td>\n",
       "      <td>Royal Challengers Bangalore</td>\n",
       "      <td>Chennai Super Kings</td>\n",
       "      <td>Delhi Daredevi;s</td>\n",
       "      <td>Matthew Hayden</td>\n",
       "      <td>572</td>\n",
       "      <td>Chennai Super Kings</td>\n",
       "      <td>R P Singh</td>\n",
       "      <td>23</td>\n",
       "      <td>Deccan Chargers</td>\n",
       "      <td>Johannesburg</td>\n",
       "      <td>2009-05-24 00:00:00.000000</td>\n",
       "    </tr>\n",
       "    <tr>\n",
       "      <th>2</th>\n",
       "      <td>2010</td>\n",
       "      <td>Chennai Super Kings</td>\n",
       "      <td>Mumbai Indians</td>\n",
       "      <td>Royal Challengers Bangalore</td>\n",
       "      <td>Deccan Chargers</td>\n",
       "      <td>Sachin Tendulkar</td>\n",
       "      <td>618</td>\n",
       "      <td>Mumbai Indians</td>\n",
       "      <td>Pragyan Ojha</td>\n",
       "      <td>21</td>\n",
       "      <td>Deccan Chargers</td>\n",
       "      <td>Mumbai</td>\n",
       "      <td>2010-04-25 00:00:00.000000</td>\n",
       "    </tr>\n",
       "  </tbody>\n",
       "</table>\n",
       "</div>"
      ],
      "text/plain": [
       "   Year         Winning team                   runners up  \\\n",
       "0  2008     Rajasthan Royals          Chennai Super Kings   \n",
       "1  2009      Deccan Chargers  Royal Challengers Bangalore   \n",
       "2  2010  Chennai Super Kings               Mumbai Indians   \n",
       "\n",
       "     playoff qualifying team 1 Playoff qualifying team 2         Orange Cap  \\\n",
       "0              Kings XI Punjab          Delhi Daredevils        Shaun Marsh   \n",
       "1          Chennai Super Kings          Delhi Daredevi;s     Matthew Hayden   \n",
       "2  Royal Challengers Bangalore           Deccan Chargers  Sachin Tendulkar    \n",
       "\n",
       "   Orange cap runs       OC winner team     Purple Cap  Purple cap wickets  \\\n",
       "0              616      Kings XI Punjab  Sohail Tanvir                  22   \n",
       "1              572  Chennai Super Kings      R P Singh                  23   \n",
       "2              618       Mumbai Indians   Pragyan Ojha                  21   \n",
       "\n",
       "     PC winner team   Final Venue                  Final Date  \n",
       "0  Rajasthan Royals        Mumbai  2008-06-01 00:00:00.000000  \n",
       "1   Deccan Chargers  Johannesburg  2009-05-24 00:00:00.000000  \n",
       "2   Deccan Chargers        Mumbai  2010-04-25 00:00:00.000000  "
      ]
     },
     "execution_count": 11,
     "metadata": {},
     "output_type": "execute_result"
    }
   ],
   "source": [
    "mysql(\"select * from df limit 3;\")"
   ]
  },
  {
   "cell_type": "code",
   "execution_count": 30,
   "id": "564b349c",
   "metadata": {},
   "outputs": [],
   "source": [
    "import pandas as pd\n",
    "import numpy as np\n",
    "import matplotlib.pyplot as plt\n",
    "import seaborn as sns"
   ]
  },
  {
   "cell_type": "code",
   "execution_count": 31,
   "id": "629d6a70",
   "metadata": {},
   "outputs": [],
   "source": [
    "df=pd.read_csv('F:\\\\ISME\\\\Term4\\\\Python\\\\marketing.csv')"
   ]
  },
  {
   "cell_type": "code",
   "execution_count": 32,
   "id": "cfa48d4c",
   "metadata": {},
   "outputs": [
    {
     "name": "stdout",
     "output_type": "stream",
     "text": [
      "<class 'pandas.core.frame.DataFrame'>\n",
      "RangeIndex: 2240 entries, 0 to 2239\n",
      "Data columns (total 29 columns):\n",
      " #   Column               Non-Null Count  Dtype  \n",
      "---  ------               --------------  -----  \n",
      " 0   ID                   2240 non-null   int64  \n",
      " 1   Year_Birth           2240 non-null   int64  \n",
      " 2   Education            2240 non-null   object \n",
      " 3   Marital_Status       2240 non-null   object \n",
      " 4   Income               2216 non-null   float64\n",
      " 5   Kidhome              2240 non-null   int64  \n",
      " 6   Teenhome             2240 non-null   int64  \n",
      " 7   Dt_Customer          2240 non-null   object \n",
      " 8   Recency              2240 non-null   int64  \n",
      " 9   MntWines             2240 non-null   int64  \n",
      " 10  MntFruits            2240 non-null   int64  \n",
      " 11  MntMeatProducts      2240 non-null   int64  \n",
      " 12  MntFishProducts      2240 non-null   int64  \n",
      " 13  MntSweetProducts     2240 non-null   int64  \n",
      " 14  MntGoldProds         2240 non-null   int64  \n",
      " 15  NumDealsPurchases    2240 non-null   int64  \n",
      " 16  NumWebPurchases      2240 non-null   int64  \n",
      " 17  NumCatalogPurchases  2240 non-null   int64  \n",
      " 18  NumStorePurchases    2240 non-null   int64  \n",
      " 19  NumWebVisitsMonth    2240 non-null   int64  \n",
      " 20  AcceptedCmp3         2240 non-null   int64  \n",
      " 21  AcceptedCmp4         2240 non-null   int64  \n",
      " 22  AcceptedCmp5         2240 non-null   int64  \n",
      " 23  AcceptedCmp1         2240 non-null   int64  \n",
      " 24  AcceptedCmp2         2240 non-null   int64  \n",
      " 25  Complain             2240 non-null   int64  \n",
      " 26  Z_CostContact        2240 non-null   int64  \n",
      " 27  Z_Revenue            2240 non-null   int64  \n",
      " 28  Response             2240 non-null   int64  \n",
      "dtypes: float64(1), int64(25), object(3)\n",
      "memory usage: 507.6+ KB\n"
     ]
    }
   ],
   "source": [
    "df.info()"
   ]
  },
  {
   "cell_type": "code",
   "execution_count": 33,
   "id": "fa72e8fa",
   "metadata": {},
   "outputs": [
    {
     "data": {
      "text/html": [
       "<div>\n",
       "<style scoped>\n",
       "    .dataframe tbody tr th:only-of-type {\n",
       "        vertical-align: middle;\n",
       "    }\n",
       "\n",
       "    .dataframe tbody tr th {\n",
       "        vertical-align: top;\n",
       "    }\n",
       "\n",
       "    .dataframe thead th {\n",
       "        text-align: right;\n",
       "    }\n",
       "</style>\n",
       "<table border=\"1\" class=\"dataframe\">\n",
       "  <thead>\n",
       "    <tr style=\"text-align: right;\">\n",
       "      <th></th>\n",
       "      <th>ID</th>\n",
       "      <th>Year_Birth</th>\n",
       "      <th>Education</th>\n",
       "      <th>Marital_Status</th>\n",
       "      <th>Income</th>\n",
       "      <th>Kidhome</th>\n",
       "      <th>Teenhome</th>\n",
       "      <th>Dt_Customer</th>\n",
       "      <th>Recency</th>\n",
       "      <th>MntWines</th>\n",
       "      <th>...</th>\n",
       "      <th>NumWebVisitsMonth</th>\n",
       "      <th>AcceptedCmp3</th>\n",
       "      <th>AcceptedCmp4</th>\n",
       "      <th>AcceptedCmp5</th>\n",
       "      <th>AcceptedCmp1</th>\n",
       "      <th>AcceptedCmp2</th>\n",
       "      <th>Complain</th>\n",
       "      <th>Z_CostContact</th>\n",
       "      <th>Z_Revenue</th>\n",
       "      <th>Response</th>\n",
       "    </tr>\n",
       "    <tr>\n",
       "      <th>ID</th>\n",
       "      <th></th>\n",
       "      <th></th>\n",
       "      <th></th>\n",
       "      <th></th>\n",
       "      <th></th>\n",
       "      <th></th>\n",
       "      <th></th>\n",
       "      <th></th>\n",
       "      <th></th>\n",
       "      <th></th>\n",
       "      <th></th>\n",
       "      <th></th>\n",
       "      <th></th>\n",
       "      <th></th>\n",
       "      <th></th>\n",
       "      <th></th>\n",
       "      <th></th>\n",
       "      <th></th>\n",
       "      <th></th>\n",
       "      <th></th>\n",
       "      <th></th>\n",
       "    </tr>\n",
       "  </thead>\n",
       "  <tbody>\n",
       "    <tr>\n",
       "      <th>5524</th>\n",
       "      <td>5524</td>\n",
       "      <td>1957</td>\n",
       "      <td>Graduation</td>\n",
       "      <td>Single</td>\n",
       "      <td>58138.0</td>\n",
       "      <td>0</td>\n",
       "      <td>0</td>\n",
       "      <td>04-09-2012</td>\n",
       "      <td>58</td>\n",
       "      <td>635</td>\n",
       "      <td>...</td>\n",
       "      <td>7</td>\n",
       "      <td>0</td>\n",
       "      <td>0</td>\n",
       "      <td>0</td>\n",
       "      <td>0</td>\n",
       "      <td>0</td>\n",
       "      <td>0</td>\n",
       "      <td>3</td>\n",
       "      <td>11</td>\n",
       "      <td>1</td>\n",
       "    </tr>\n",
       "    <tr>\n",
       "      <th>2174</th>\n",
       "      <td>2174</td>\n",
       "      <td>1954</td>\n",
       "      <td>Graduation</td>\n",
       "      <td>Single</td>\n",
       "      <td>46344.0</td>\n",
       "      <td>1</td>\n",
       "      <td>1</td>\n",
       "      <td>08-03-2014</td>\n",
       "      <td>38</td>\n",
       "      <td>11</td>\n",
       "      <td>...</td>\n",
       "      <td>5</td>\n",
       "      <td>0</td>\n",
       "      <td>0</td>\n",
       "      <td>0</td>\n",
       "      <td>0</td>\n",
       "      <td>0</td>\n",
       "      <td>0</td>\n",
       "      <td>3</td>\n",
       "      <td>11</td>\n",
       "      <td>0</td>\n",
       "    </tr>\n",
       "    <tr>\n",
       "      <th>4141</th>\n",
       "      <td>4141</td>\n",
       "      <td>1965</td>\n",
       "      <td>Graduation</td>\n",
       "      <td>Together</td>\n",
       "      <td>71613.0</td>\n",
       "      <td>0</td>\n",
       "      <td>0</td>\n",
       "      <td>21-08-2013</td>\n",
       "      <td>26</td>\n",
       "      <td>426</td>\n",
       "      <td>...</td>\n",
       "      <td>4</td>\n",
       "      <td>0</td>\n",
       "      <td>0</td>\n",
       "      <td>0</td>\n",
       "      <td>0</td>\n",
       "      <td>0</td>\n",
       "      <td>0</td>\n",
       "      <td>3</td>\n",
       "      <td>11</td>\n",
       "      <td>0</td>\n",
       "    </tr>\n",
       "    <tr>\n",
       "      <th>6182</th>\n",
       "      <td>6182</td>\n",
       "      <td>1984</td>\n",
       "      <td>Graduation</td>\n",
       "      <td>Together</td>\n",
       "      <td>26646.0</td>\n",
       "      <td>1</td>\n",
       "      <td>0</td>\n",
       "      <td>10-02-2014</td>\n",
       "      <td>26</td>\n",
       "      <td>11</td>\n",
       "      <td>...</td>\n",
       "      <td>6</td>\n",
       "      <td>0</td>\n",
       "      <td>0</td>\n",
       "      <td>0</td>\n",
       "      <td>0</td>\n",
       "      <td>0</td>\n",
       "      <td>0</td>\n",
       "      <td>3</td>\n",
       "      <td>11</td>\n",
       "      <td>0</td>\n",
       "    </tr>\n",
       "    <tr>\n",
       "      <th>5324</th>\n",
       "      <td>5324</td>\n",
       "      <td>1981</td>\n",
       "      <td>PhD</td>\n",
       "      <td>Married</td>\n",
       "      <td>58293.0</td>\n",
       "      <td>1</td>\n",
       "      <td>0</td>\n",
       "      <td>19-01-2014</td>\n",
       "      <td>94</td>\n",
       "      <td>173</td>\n",
       "      <td>...</td>\n",
       "      <td>5</td>\n",
       "      <td>0</td>\n",
       "      <td>0</td>\n",
       "      <td>0</td>\n",
       "      <td>0</td>\n",
       "      <td>0</td>\n",
       "      <td>0</td>\n",
       "      <td>3</td>\n",
       "      <td>11</td>\n",
       "      <td>0</td>\n",
       "    </tr>\n",
       "  </tbody>\n",
       "</table>\n",
       "<p>5 rows × 29 columns</p>\n",
       "</div>"
      ],
      "text/plain": [
       "        ID  Year_Birth   Education Marital_Status   Income  Kidhome  Teenhome  \\\n",
       "ID                                                                              \n",
       "5524  5524        1957  Graduation         Single  58138.0        0         0   \n",
       "2174  2174        1954  Graduation         Single  46344.0        1         1   \n",
       "4141  4141        1965  Graduation       Together  71613.0        0         0   \n",
       "6182  6182        1984  Graduation       Together  26646.0        1         0   \n",
       "5324  5324        1981         PhD        Married  58293.0        1         0   \n",
       "\n",
       "     Dt_Customer  Recency  MntWines  ...  NumWebVisitsMonth  AcceptedCmp3  \\\n",
       "ID                                   ...                                    \n",
       "5524  04-09-2012       58       635  ...                  7             0   \n",
       "2174  08-03-2014       38        11  ...                  5             0   \n",
       "4141  21-08-2013       26       426  ...                  4             0   \n",
       "6182  10-02-2014       26        11  ...                  6             0   \n",
       "5324  19-01-2014       94       173  ...                  5             0   \n",
       "\n",
       "      AcceptedCmp4  AcceptedCmp5  AcceptedCmp1  AcceptedCmp2  Complain  \\\n",
       "ID                                                                       \n",
       "5524             0             0             0             0         0   \n",
       "2174             0             0             0             0         0   \n",
       "4141             0             0             0             0         0   \n",
       "6182             0             0             0             0         0   \n",
       "5324             0             0             0             0         0   \n",
       "\n",
       "      Z_CostContact  Z_Revenue  Response  \n",
       "ID                                        \n",
       "5524              3         11         1  \n",
       "2174              3         11         0  \n",
       "4141              3         11         0  \n",
       "6182              3         11         0  \n",
       "5324              3         11         0  \n",
       "\n",
       "[5 rows x 29 columns]"
      ]
     },
     "execution_count": 33,
     "metadata": {},
     "output_type": "execute_result"
    }
   ],
   "source": [
    "df.index=df['ID']\n",
    "df.head()"
   ]
  },
  {
   "cell_type": "code",
   "execution_count": 34,
   "id": "51b80c59",
   "metadata": {},
   "outputs": [
    {
     "data": {
      "text/plain": [
       "Index(['ID', 'Year_Birth', 'Education', 'Marital_Status', 'Income', 'Kidhome',\n",
       "       'Teenhome', 'Dt_Customer', 'Recency', 'MntWines', 'MntFruits',\n",
       "       'MntMeatProducts', 'MntFishProducts', 'MntSweetProducts',\n",
       "       'MntGoldProds', 'NumDealsPurchases', 'NumWebPurchases',\n",
       "       'NumCatalogPurchases', 'NumStorePurchases', 'NumWebVisitsMonth',\n",
       "       'AcceptedCmp3', 'AcceptedCmp4', 'AcceptedCmp5', 'AcceptedCmp1',\n",
       "       'AcceptedCmp2', 'Complain', 'Z_CostContact', 'Z_Revenue', 'Response'],\n",
       "      dtype='object')"
      ]
     },
     "execution_count": 34,
     "metadata": {},
     "output_type": "execute_result"
    }
   ],
   "source": [
    "df.columns"
   ]
  },
  {
   "cell_type": "code",
   "execution_count": 35,
   "id": "37be6ec1",
   "metadata": {
    "scrolled": true
   },
   "outputs": [
    {
     "data": {
      "text/plain": [
       "<AxesSubplot:ylabel='MntFruits'>"
      ]
     },
     "execution_count": 35,
     "metadata": {},
     "output_type": "execute_result"
    },
    {
     "data": {
      "image/png": "[encoded data removed]",
      "text/plain": [
       "<Figure size 640x480 with 1 Axes>"
      ]
     },
     "metadata": {},
     "output_type": "display_data"
    }
   ],
   "source": [
    "sns.boxplot(y=df['MntFruits'],color=\"pink\")"
   ]
  },
  {
   "cell_type": "code",
   "execution_count": 36,
   "id": "10d895b2",
   "metadata": {},
   "outputs": [
    {
     "data": {
      "image/png": "[encoded data removed]",
      "text/plain": [
       "<Figure size 640x480 with 1 Axes>"
      ]
     },
     "metadata": {},
     "output_type": "display_data"
    }
   ],
   "source": [
    "sns.boxplot(x='Education', y='MntMeatProducts', data=df, color='purple',)\n",
    "plt.title('relation between meat and education')\n",
    "plt.show()\n"
   ]
  },
  {
   "cell_type": "code",
   "execution_count": 38,
   "id": "ffd32da9",
   "metadata": {},
   "outputs": [
    {
     "data": {
      "image/png": "[encoded data removed]",
      "text/plain": [
       "<Figure size 640x480 with 1 Axes>"
      ]
     },
     "metadata": {},
     "output_type": "display_data"
    },
    {
     "data": {
      "image/png": "[encoded data removed]",
      "text/plain": [
       "<Figure size 640x480 with 1 Axes>"
      ]
     },
     "metadata": {},
     "output_type": "display_data"
    },
    {
     "data": {
      "image/png": "[encoded data removed]",
      "text/plain": [
       "<Figure size 640x480 with 1 Axes>"
      ]
     },
     "metadata": {},
     "output_type": "display_data"
    }
   ],
   "source": [
    "sns.countplot(x=df['Response'])\n",
    "plt.show()\n",
    "\n",
    "\n",
    "sns.countplot(x=df['Marital_Status'])\n",
    "plt.show()\n",
    "\n",
    "\n",
    "sns.countplot(x=df['Education'])\n",
    "plt.show()"
   ]
  },
  {
   "cell_type": "code",
   "execution_count": 39,
   "id": "b8dcaed0",
   "metadata": {},
   "outputs": [
    {
     "ename": "KeyError",
     "evalue": "'Gender'",
     "output_type": "error",
     "traceback": [
      "\u001b[1;31m---------------------------------------------------------------------------\u001b[0m",
      "\u001b[1;31mKeyError\u001b[0m                                  Traceback (most recent call last)",
      "\u001b[1;32m~\\anaconda3\\lib\\site-packages\\pandas\\core\\indexes\\base.py\u001b[0m in \u001b[0;36mget_loc\u001b[1;34m(self, key, method, tolerance)\u001b[0m\n\u001b[0;32m   3801\u001b[0m             \u001b[1;32mtry\u001b[0m\u001b[1;33m:\u001b[0m\u001b[1;33m\u001b[0m\u001b[1;33m\u001b[0m\u001b[0m\n\u001b[1;32m-> 3802\u001b[1;33m                 \u001b[1;32mreturn\u001b[0m \u001b[0mself\u001b[0m\u001b[1;33m.\u001b[0m\u001b[0m_engine\u001b[0m\u001b[1;33m.\u001b[0m\u001b[0mget_loc\u001b[0m\u001b[1;33m(\u001b[0m\u001b[0mcasted_key\u001b[0m\u001b[1;33m)\u001b[0m\u001b[1;33m\u001b[0m\u001b[1;33m\u001b[0m\u001b[0m\n\u001b[0m\u001b[0;32m   3803\u001b[0m             \u001b[1;32mexcept\u001b[0m \u001b[0mKeyError\u001b[0m \u001b[1;32mas\u001b[0m \u001b[0merr\u001b[0m\u001b[1;33m:\u001b[0m\u001b[1;33m\u001b[0m\u001b[1;33m\u001b[0m\u001b[0m\n",
      "\u001b[1;32m~\\anaconda3\\lib\\site-packages\\pandas\\_libs\\index.pyx\u001b[0m in \u001b[0;36mpandas._libs.index.IndexEngine.get_loc\u001b[1;34m()\u001b[0m\n",
      "\u001b[1;32m~\\anaconda3\\lib\\site-packages\\pandas\\_libs\\index.pyx\u001b[0m in \u001b[0;36mpandas._libs.index.IndexEngine.get_loc\u001b[1;34m()\u001b[0m\n",
      "\u001b[1;32mpandas\\_libs\\hashtable_class_helper.pxi\u001b[0m in \u001b[0;36mpandas._libs.hashtable.PyObjectHashTable.get_item\u001b[1;34m()\u001b[0m\n",
      "\u001b[1;32mpandas\\_libs\\hashtable_class_helper.pxi\u001b[0m in \u001b[0;36mpandas._libs.hashtable.PyObjectHashTable.get_item\u001b[1;34m()\u001b[0m\n",
      "\u001b[1;31mKeyError\u001b[0m: 'Gender'",
      "\nThe above exception was the direct cause of the following exception:\n",
      "\u001b[1;31mKeyError\u001b[0m                                  Traceback (most recent call last)",
      "\u001b[1;32m~\\AppData\\Local\\Temp\\ipykernel_8612\\935397679.py\u001b[0m in \u001b[0;36m<module>\u001b[1;34m\u001b[0m\n\u001b[1;32m----> 1\u001b[1;33m \u001b[0msns\u001b[0m\u001b[1;33m.\u001b[0m\u001b[0mboxplot\u001b[0m\u001b[1;33m(\u001b[0m\u001b[0mx\u001b[0m\u001b[1;33m=\u001b[0m\u001b[0mdf\u001b[0m\u001b[1;33m[\u001b[0m\u001b[1;34m'Gender'\u001b[0m\u001b[1;33m]\u001b[0m\u001b[1;33m,\u001b[0m \u001b[0my\u001b[0m\u001b[1;33m=\u001b[0m\u001b[0mdf\u001b[0m\u001b[1;33m[\u001b[0m\u001b[1;34m'age'\u001b[0m\u001b[1;33m]\u001b[0m\u001b[1;33m)\u001b[0m\u001b[1;33m\u001b[0m\u001b[1;33m\u001b[0m\u001b[0m\n\u001b[0m",
      "\u001b[1;32m~\\anaconda3\\lib\\site-packages\\pandas\\core\\frame.py\u001b[0m in \u001b[0;36m__getitem__\u001b[1;34m(self, key)\u001b[0m\n\u001b[0;32m   3805\u001b[0m             \u001b[1;32mif\u001b[0m \u001b[0mself\u001b[0m\u001b[1;33m.\u001b[0m\u001b[0mcolumns\u001b[0m\u001b[1;33m.\u001b[0m\u001b[0mnlevels\u001b[0m \u001b[1;33m>\u001b[0m \u001b[1;36m1\u001b[0m\u001b[1;33m:\u001b[0m\u001b[1;33m\u001b[0m\u001b[1;33m\u001b[0m\u001b[0m\n\u001b[0;32m   3806\u001b[0m                 \u001b[1;32mreturn\u001b[0m \u001b[0mself\u001b[0m\u001b[1;33m.\u001b[0m\u001b[0m_getitem_multilevel\u001b[0m\u001b[1;33m(\u001b[0m\u001b[0mkey\u001b[0m\u001b[1;33m)\u001b[0m\u001b[1;33m\u001b[0m\u001b[1;33m\u001b[0m\u001b[0m\n\u001b[1;32m-> 3807\u001b[1;33m             \u001b[0mindexer\u001b[0m \u001b[1;33m=\u001b[0m \u001b[0mself\u001b[0m\u001b[1;33m.\u001b[0m\u001b[0mcolumns\u001b[0m\u001b[1;33m.\u001b[0m\u001b[0mget_loc\u001b[0m\u001b[1;33m(\u001b[0m\u001b[0mkey\u001b[0m\u001b[1;33m)\u001b[0m\u001b[1;33m\u001b[0m\u001b[1;33m\u001b[0m\u001b[0m\n\u001b[0m\u001b[0;32m   3808\u001b[0m             \u001b[1;32mif\u001b[0m \u001b[0mis_integer\u001b[0m\u001b[1;33m(\u001b[0m\u001b[0mindexer\u001b[0m\u001b[1;33m)\u001b[0m\u001b[1;33m:\u001b[0m\u001b[1;33m\u001b[0m\u001b[1;33m\u001b[0m\u001b[0m\n\u001b[0;32m   3809\u001b[0m                 \u001b[0mindexer\u001b[0m \u001b[1;33m=\u001b[0m \u001b[1;33m[\u001b[0m\u001b[0mindexer\u001b[0m\u001b[1;33m]\u001b[0m\u001b[1;33m\u001b[0m\u001b[1;33m\u001b[0m\u001b[0m\n",
      "\u001b[1;32m~\\anaconda3\\lib\\site-packages\\pandas\\core\\indexes\\base.py\u001b[0m in \u001b[0;36mget_loc\u001b[1;34m(self, key, method, tolerance)\u001b[0m\n\u001b[0;32m   3802\u001b[0m                 \u001b[1;32mreturn\u001b[0m \u001b[0mself\u001b[0m\u001b[1;33m.\u001b[0m\u001b[0m_engine\u001b[0m\u001b[1;33m.\u001b[0m\u001b[0mget_loc\u001b[0m\u001b[1;33m(\u001b[0m\u001b[0mcasted_key\u001b[0m\u001b[1;33m)\u001b[0m\u001b[1;33m\u001b[0m\u001b[1;33m\u001b[0m\u001b[0m\n\u001b[0;32m   3803\u001b[0m             \u001b[1;32mexcept\u001b[0m \u001b[0mKeyError\u001b[0m \u001b[1;32mas\u001b[0m \u001b[0merr\u001b[0m\u001b[1;33m:\u001b[0m\u001b[1;33m\u001b[0m\u001b[1;33m\u001b[0m\u001b[0m\n\u001b[1;32m-> 3804\u001b[1;33m                 \u001b[1;32mraise\u001b[0m \u001b[0mKeyError\u001b[0m\u001b[1;33m(\u001b[0m\u001b[0mkey\u001b[0m\u001b[1;33m)\u001b[0m \u001b[1;32mfrom\u001b[0m \u001b[0merr\u001b[0m\u001b[1;33m\u001b[0m\u001b[1;33m\u001b[0m\u001b[0m\n\u001b[0m\u001b[0;32m   3805\u001b[0m             \u001b[1;32mexcept\u001b[0m \u001b[0mTypeError\u001b[0m\u001b[1;33m:\u001b[0m\u001b[1;33m\u001b[0m\u001b[1;33m\u001b[0m\u001b[0m\n\u001b[0;32m   3806\u001b[0m                 \u001b[1;31m# If we have a listlike key, _check_indexing_error will raise\u001b[0m\u001b[1;33m\u001b[0m\u001b[1;33m\u001b[0m\u001b[0m\n",
      "\u001b[1;31mKeyError\u001b[0m: 'Gender'"
     ]
    }
   ],
   "source": [
    "sns.boxplot(x=df['Gender'], y=df['age'])\n"
   ]
  },
  {
   "cell_type": "code",
   "execution_count": 48,
   "id": "a539d4f0",
   "metadata": {},
   "outputs": [
    {
     "data": {
      "text/plain": [
       "<seaborn.axisgrid.FacetGrid at 0x12a1bc95d00>"
      ]
     },
     "execution_count": 48,
     "metadata": {},
     "output_type": "execute_result"
    },
    {
     "data": {
      "image/png": "[encoded data removed]",
      "text/plain": [
       "<Figure size 500x500 with 1 Axes>"
      ]
     },
     "metadata": {},
     "output_type": "display_data"
    }
   ],
   "source": [
    "sns.displot (df['NumWebPurchases'], bins= 15, kde = 'True')"
   ]
  },
  {
   "cell_type": "code",
   "execution_count": 63,
   "id": "a66d3aa0",
   "metadata": {},
   "outputs": [
    {
     "data": {
      "image/png": "[encoded data removed]",
      "text/plain": [
       "<Figure size 640x480 with 1 Axes>"
      ]
     },
     "metadata": {},
     "output_type": "display_data"
    }
   ],
   "source": [
    "#overlaping Kdeplot\n",
    "\n",
    "\n",
    "# Plot the KDE plot for each category\n",
    "sns.kdeplot(df[df['Response'] == 0]['NumWebPurchases'],fill=\"True\")\n",
    "sns.kdeplot(df[df['Response'] == 1]['NumWebPurchases'],fill=\"True\")\n",
    "\n",
    "\n",
    "plt.show()"
   ]
  },
  {
   "cell_type": "code",
   "execution_count": 68,
   "id": "84eff99f",
   "metadata": {},
   "outputs": [
    {
     "ename": "ValueError",
     "evalue": "Using a string of single character colors as a color sequence is not supported. The colors can be passed as an explicit list instead.",
     "output_type": "error",
     "traceback": [
      "\u001b[1;31m---------------------------------------------------------------------------\u001b[0m",
      "\u001b[1;31mValueError\u001b[0m                                Traceback (most recent call last)",
      "\u001b[1;32m~\\AppData\\Local\\Temp\\ipykernel_8612\\1525616117.py\u001b[0m in \u001b[0;36m<module>\u001b[1;34m\u001b[0m\n\u001b[0;32m      3\u001b[0m \u001b[0msns\u001b[0m\u001b[1;33m.\u001b[0m\u001b[0mkdeplot\u001b[0m\u001b[1;33m(\u001b[0m\u001b[0mdf\u001b[0m\u001b[1;33m[\u001b[0m\u001b[1;34m'MntMeatProducts'\u001b[0m\u001b[1;33m]\u001b[0m\u001b[1;33m,\u001b[0m\u001b[0mfill\u001b[0m\u001b[1;33m=\u001b[0m\u001b[1;34m\"True\"\u001b[0m\u001b[1;33m,\u001b[0m \u001b[0mcolor\u001b[0m\u001b[1;33m=\u001b[0m\u001b[1;34m'y'\u001b[0m\u001b[1;33m)\u001b[0m\u001b[1;33m\u001b[0m\u001b[1;33m\u001b[0m\u001b[0m\n\u001b[0;32m      4\u001b[0m \u001b[0msns\u001b[0m\u001b[1;33m.\u001b[0m\u001b[0mkdeplot\u001b[0m\u001b[1;33m(\u001b[0m\u001b[0mdf\u001b[0m\u001b[1;33m[\u001b[0m\u001b[1;34m'MntFishProducts'\u001b[0m\u001b[1;33m]\u001b[0m\u001b[1;33m,\u001b[0m\u001b[0mfill\u001b[0m\u001b[1;33m=\u001b[0m\u001b[1;34m\"True\"\u001b[0m\u001b[1;33m,\u001b[0m \u001b[0mcolor\u001b[0m\u001b[1;33m=\u001b[0m\u001b[1;34m'r'\u001b[0m\u001b[1;33m)\u001b[0m\u001b[1;33m\u001b[0m\u001b[1;33m\u001b[0m\u001b[0m\n\u001b[1;32m----> 5\u001b[1;33m \u001b[0msns\u001b[0m\u001b[1;33m.\u001b[0m\u001b[0mkdeplot\u001b[0m\u001b[1;33m(\u001b[0m\u001b[0mdf\u001b[0m\u001b[1;33m[\u001b[0m\u001b[1;34m'MntSweetProducts'\u001b[0m\u001b[1;33m]\u001b[0m\u001b[1;33m,\u001b[0m\u001b[0mfill\u001b[0m\u001b[1;33m=\u001b[0m\u001b[1;34m\"True\"\u001b[0m\u001b[1;33m,\u001b[0m \u001b[0mcolor\u001b[0m\u001b[1;33m=\u001b[0m\u001b[1;34m'o'\u001b[0m\u001b[1;33m)\u001b[0m\u001b[1;33m\u001b[0m\u001b[1;33m\u001b[0m\u001b[0m\n\u001b[0m\u001b[0;32m      6\u001b[0m \u001b[0msns\u001b[0m\u001b[1;33m.\u001b[0m\u001b[0mkdeplot\u001b[0m\u001b[1;33m(\u001b[0m\u001b[0mdf\u001b[0m\u001b[1;33m[\u001b[0m\u001b[1;34m'MntGoldProds'\u001b[0m\u001b[1;33m]\u001b[0m\u001b[1;33m,\u001b[0m\u001b[0mfill\u001b[0m\u001b[1;33m=\u001b[0m\u001b[1;34m\"True\"\u001b[0m\u001b[1;33m,\u001b[0m\u001b[0mcolor\u001b[0m\u001b[1;33m=\u001b[0m\u001b[1;34m'v'\u001b[0m \u001b[1;33m)\u001b[0m\u001b[1;33m\u001b[0m\u001b[1;33m\u001b[0m\u001b[0m\n\u001b[0;32m      7\u001b[0m \u001b[1;33m\u001b[0m\u001b[0m\n",
      "\u001b[1;32m~\\anaconda3\\lib\\site-packages\\seaborn\\_decorators.py\u001b[0m in \u001b[0;36minner_f\u001b[1;34m(*args, **kwargs)\u001b[0m\n\u001b[0;32m     44\u001b[0m             )\n\u001b[0;32m     45\u001b[0m         \u001b[0mkwargs\u001b[0m\u001b[1;33m.\u001b[0m\u001b[0mupdate\u001b[0m\u001b[1;33m(\u001b[0m\u001b[1;33m{\u001b[0m\u001b[0mk\u001b[0m\u001b[1;33m:\u001b[0m \u001b[0marg\u001b[0m \u001b[1;32mfor\u001b[0m \u001b[0mk\u001b[0m\u001b[1;33m,\u001b[0m \u001b[0marg\u001b[0m \u001b[1;32min\u001b[0m \u001b[0mzip\u001b[0m\u001b[1;33m(\u001b[0m\u001b[0msig\u001b[0m\u001b[1;33m.\u001b[0m\u001b[0mparameters\u001b[0m\u001b[1;33m,\u001b[0m \u001b[0margs\u001b[0m\u001b[1;33m)\u001b[0m\u001b[1;33m}\u001b[0m\u001b[1;33m)\u001b[0m\u001b[1;33m\u001b[0m\u001b[1;33m\u001b[0m\u001b[0m\n\u001b[1;32m---> 46\u001b[1;33m         \u001b[1;32mreturn\u001b[0m \u001b[0mf\u001b[0m\u001b[1;33m(\u001b[0m\u001b[1;33m**\u001b[0m\u001b[0mkwargs\u001b[0m\u001b[1;33m)\u001b[0m\u001b[1;33m\u001b[0m\u001b[1;33m\u001b[0m\u001b[0m\n\u001b[0m\u001b[0;32m     47\u001b[0m     \u001b[1;32mreturn\u001b[0m \u001b[0minner_f\u001b[0m\u001b[1;33m\u001b[0m\u001b[1;33m\u001b[0m\u001b[0m\n\u001b[0;32m     48\u001b[0m \u001b[1;33m\u001b[0m\u001b[0m\n",
      "\u001b[1;32m~\\anaconda3\\lib\\site-packages\\seaborn\\distributions.py\u001b[0m in \u001b[0;36mkdeplot\u001b[1;34m(x, y, shade, vertical, kernel, bw, gridsize, cut, clip, legend, cumulative, shade_lowest, cbar, cbar_ax, cbar_kws, ax, weights, hue, palette, hue_order, hue_norm, multiple, common_norm, common_grid, levels, thresh, bw_method, bw_adjust, log_scale, color, fill, data, data2, warn_singular, **kwargs)\u001b[0m\n\u001b[0;32m   1768\u001b[0m             \u001b[0mplot_kws\u001b[0m\u001b[1;33m[\u001b[0m\u001b[1;34m\"color\"\u001b[0m\u001b[1;33m]\u001b[0m \u001b[1;33m=\u001b[0m \u001b[0mcolor\u001b[0m\u001b[1;33m\u001b[0m\u001b[1;33m\u001b[0m\u001b[0m\n\u001b[0;32m   1769\u001b[0m \u001b[1;33m\u001b[0m\u001b[0m\n\u001b[1;32m-> 1770\u001b[1;33m         p.plot_univariate_density(\n\u001b[0m\u001b[0;32m   1771\u001b[0m             \u001b[0mmultiple\u001b[0m\u001b[1;33m=\u001b[0m\u001b[0mmultiple\u001b[0m\u001b[1;33m,\u001b[0m\u001b[1;33m\u001b[0m\u001b[1;33m\u001b[0m\u001b[0m\n\u001b[0;32m   1772\u001b[0m             \u001b[0mcommon_norm\u001b[0m\u001b[1;33m=\u001b[0m\u001b[0mcommon_norm\u001b[0m\u001b[1;33m,\u001b[0m\u001b[1;33m\u001b[0m\u001b[1;33m\u001b[0m\u001b[0m\n",
      "\u001b[1;32m~\\anaconda3\\lib\\site-packages\\seaborn\\distributions.py\u001b[0m in \u001b[0;36mplot_univariate_density\u001b[1;34m(self, multiple, common_norm, common_grid, warn_singular, fill, legend, estimate_kws, **plot_kws)\u001b[0m\n\u001b[0;32m    965\u001b[0m                             \u001b[0mdefault_color\u001b[0m \u001b[1;33m=\u001b[0m \u001b[1;34m\"C0\"\u001b[0m\u001b[1;33m\u001b[0m\u001b[1;33m\u001b[0m\u001b[0m\n\u001b[0;32m    966\u001b[0m                     \u001b[1;32melse\u001b[0m\u001b[1;33m:\u001b[0m\u001b[1;33m\u001b[0m\u001b[1;33m\u001b[0m\u001b[0m\n\u001b[1;32m--> 967\u001b[1;33m                         \u001b[0mscout\u001b[0m \u001b[1;33m=\u001b[0m \u001b[0mself\u001b[0m\u001b[1;33m.\u001b[0m\u001b[0max\u001b[0m\u001b[1;33m.\u001b[0m\u001b[0mfill_between\u001b[0m\u001b[1;33m(\u001b[0m\u001b[1;33m[\u001b[0m\u001b[1;33m]\u001b[0m\u001b[1;33m,\u001b[0m \u001b[1;33m[\u001b[0m\u001b[1;33m]\u001b[0m\u001b[1;33m,\u001b[0m \u001b[1;33m**\u001b[0m\u001b[0mplot_kws\u001b[0m\u001b[1;33m)\u001b[0m\u001b[1;33m\u001b[0m\u001b[1;33m\u001b[0m\u001b[0m\n\u001b[0m\u001b[0;32m    968\u001b[0m                         \u001b[0mdefault_color\u001b[0m \u001b[1;33m=\u001b[0m \u001b[0mtuple\u001b[0m\u001b[1;33m(\u001b[0m\u001b[0mscout\u001b[0m\u001b[1;33m.\u001b[0m\u001b[0mget_facecolor\u001b[0m\u001b[1;33m(\u001b[0m\u001b[1;33m)\u001b[0m\u001b[1;33m.\u001b[0m\u001b[0msqueeze\u001b[0m\u001b[1;33m(\u001b[0m\u001b[1;33m)\u001b[0m\u001b[1;33m)\u001b[0m\u001b[1;33m\u001b[0m\u001b[1;33m\u001b[0m\u001b[0m\n\u001b[0;32m    969\u001b[0m                     \u001b[0mplot_kws\u001b[0m\u001b[1;33m.\u001b[0m\u001b[0mpop\u001b[0m\u001b[1;33m(\u001b[0m\u001b[1;34m\"color\"\u001b[0m\u001b[1;33m,\u001b[0m \u001b[1;32mNone\u001b[0m\u001b[1;33m)\u001b[0m\u001b[1;33m\u001b[0m\u001b[1;33m\u001b[0m\u001b[0m\n",
      "\u001b[1;32m~\\anaconda3\\lib\\site-packages\\matplotlib\\__init__.py\u001b[0m in \u001b[0;36minner\u001b[1;34m(ax, data, *args, **kwargs)\u001b[0m\n\u001b[0;32m   1410\u001b[0m     \u001b[1;32mdef\u001b[0m \u001b[0minner\u001b[0m\u001b[1;33m(\u001b[0m\u001b[0max\u001b[0m\u001b[1;33m,\u001b[0m \u001b[1;33m*\u001b[0m\u001b[0margs\u001b[0m\u001b[1;33m,\u001b[0m \u001b[0mdata\u001b[0m\u001b[1;33m=\u001b[0m\u001b[1;32mNone\u001b[0m\u001b[1;33m,\u001b[0m \u001b[1;33m**\u001b[0m\u001b[0mkwargs\u001b[0m\u001b[1;33m)\u001b[0m\u001b[1;33m:\u001b[0m\u001b[1;33m\u001b[0m\u001b[1;33m\u001b[0m\u001b[0m\n\u001b[0;32m   1411\u001b[0m         \u001b[1;32mif\u001b[0m \u001b[0mdata\u001b[0m \u001b[1;32mis\u001b[0m \u001b[1;32mNone\u001b[0m\u001b[1;33m:\u001b[0m\u001b[1;33m\u001b[0m\u001b[1;33m\u001b[0m\u001b[0m\n\u001b[1;32m-> 1412\u001b[1;33m             \u001b[1;32mreturn\u001b[0m \u001b[0mfunc\u001b[0m\u001b[1;33m(\u001b[0m\u001b[0max\u001b[0m\u001b[1;33m,\u001b[0m \u001b[1;33m*\u001b[0m\u001b[0mmap\u001b[0m\u001b[1;33m(\u001b[0m\u001b[0msanitize_sequence\u001b[0m\u001b[1;33m,\u001b[0m \u001b[0margs\u001b[0m\u001b[1;33m)\u001b[0m\u001b[1;33m,\u001b[0m \u001b[1;33m**\u001b[0m\u001b[0mkwargs\u001b[0m\u001b[1;33m)\u001b[0m\u001b[1;33m\u001b[0m\u001b[1;33m\u001b[0m\u001b[0m\n\u001b[0m\u001b[0;32m   1413\u001b[0m \u001b[1;33m\u001b[0m\u001b[0m\n\u001b[0;32m   1414\u001b[0m         \u001b[0mbound\u001b[0m \u001b[1;33m=\u001b[0m \u001b[0mnew_sig\u001b[0m\u001b[1;33m.\u001b[0m\u001b[0mbind\u001b[0m\u001b[1;33m(\u001b[0m\u001b[0max\u001b[0m\u001b[1;33m,\u001b[0m \u001b[1;33m*\u001b[0m\u001b[0margs\u001b[0m\u001b[1;33m,\u001b[0m \u001b[1;33m**\u001b[0m\u001b[0mkwargs\u001b[0m\u001b[1;33m)\u001b[0m\u001b[1;33m\u001b[0m\u001b[1;33m\u001b[0m\u001b[0m\n",
      "\u001b[1;32m~\\anaconda3\\lib\\site-packages\\matplotlib\\axes\\_axes.py\u001b[0m in \u001b[0;36mfill_between\u001b[1;34m(self, x, y1, y2, where, interpolate, step, **kwargs)\u001b[0m\n\u001b[0;32m   5243\u001b[0m     def fill_between(self, x, y1, y2=0, where=None, interpolate=False,\n\u001b[0;32m   5244\u001b[0m                      step=None, **kwargs):\n\u001b[1;32m-> 5245\u001b[1;33m         return self._fill_between_x_or_y(\n\u001b[0m\u001b[0;32m   5246\u001b[0m             \u001b[1;34m\"x\"\u001b[0m\u001b[1;33m,\u001b[0m \u001b[0mx\u001b[0m\u001b[1;33m,\u001b[0m \u001b[0my1\u001b[0m\u001b[1;33m,\u001b[0m \u001b[0my2\u001b[0m\u001b[1;33m,\u001b[0m\u001b[1;33m\u001b[0m\u001b[1;33m\u001b[0m\u001b[0m\n\u001b[0;32m   5247\u001b[0m             where=where, interpolate=interpolate, step=step, **kwargs)\n",
      "\u001b[1;32m~\\anaconda3\\lib\\site-packages\\matplotlib\\axes\\_axes.py\u001b[0m in \u001b[0;36m_fill_between_x_or_y\u001b[1;34m(self, ind_dir, ind, dep1, dep2, where, interpolate, step, **kwargs)\u001b[0m\n\u001b[0;32m   5229\u001b[0m             \u001b[0mpolys\u001b[0m\u001b[1;33m.\u001b[0m\u001b[0mappend\u001b[0m\u001b[1;33m(\u001b[0m\u001b[0mpts\u001b[0m\u001b[1;33m)\u001b[0m\u001b[1;33m\u001b[0m\u001b[1;33m\u001b[0m\u001b[0m\n\u001b[0;32m   5230\u001b[0m \u001b[1;33m\u001b[0m\u001b[0m\n\u001b[1;32m-> 5231\u001b[1;33m         \u001b[0mcollection\u001b[0m \u001b[1;33m=\u001b[0m \u001b[0mmcoll\u001b[0m\u001b[1;33m.\u001b[0m\u001b[0mPolyCollection\u001b[0m\u001b[1;33m(\u001b[0m\u001b[0mpolys\u001b[0m\u001b[1;33m,\u001b[0m \u001b[1;33m**\u001b[0m\u001b[0mkwargs\u001b[0m\u001b[1;33m)\u001b[0m\u001b[1;33m\u001b[0m\u001b[1;33m\u001b[0m\u001b[0m\n\u001b[0m\u001b[0;32m   5232\u001b[0m \u001b[1;33m\u001b[0m\u001b[0m\n\u001b[0;32m   5233\u001b[0m         \u001b[1;31m# now update the datalim and autoscale\u001b[0m\u001b[1;33m\u001b[0m\u001b[1;33m\u001b[0m\u001b[0m\n",
      "\u001b[1;32m~\\anaconda3\\lib\\site-packages\\matplotlib\\collections.py\u001b[0m in \u001b[0;36m__init__\u001b[1;34m(self, verts, sizes, closed, **kwargs)\u001b[0m\n\u001b[0;32m   1184\u001b[0m             \u001b[0mForwarded\u001b[0m \u001b[0mto\u001b[0m\u001b[0;31m \u001b[0m\u001b[0;31m`\u001b[0m\u001b[1;33m.\u001b[0m\u001b[0mCollection\u001b[0m\u001b[0;31m`\u001b[0m\u001b[1;33m.\u001b[0m\u001b[1;33m\u001b[0m\u001b[1;33m\u001b[0m\u001b[0m\n\u001b[0;32m   1185\u001b[0m         \"\"\"\n\u001b[1;32m-> 1186\u001b[1;33m         \u001b[0msuper\u001b[0m\u001b[1;33m(\u001b[0m\u001b[1;33m)\u001b[0m\u001b[1;33m.\u001b[0m\u001b[0m__init__\u001b[0m\u001b[1;33m(\u001b[0m\u001b[1;33m**\u001b[0m\u001b[0mkwargs\u001b[0m\u001b[1;33m)\u001b[0m\u001b[1;33m\u001b[0m\u001b[1;33m\u001b[0m\u001b[0m\n\u001b[0m\u001b[0;32m   1187\u001b[0m         \u001b[0mself\u001b[0m\u001b[1;33m.\u001b[0m\u001b[0mset_sizes\u001b[0m\u001b[1;33m(\u001b[0m\u001b[0msizes\u001b[0m\u001b[1;33m)\u001b[0m\u001b[1;33m\u001b[0m\u001b[1;33m\u001b[0m\u001b[0m\n\u001b[0;32m   1188\u001b[0m         \u001b[0mself\u001b[0m\u001b[1;33m.\u001b[0m\u001b[0mset_verts\u001b[0m\u001b[1;33m(\u001b[0m\u001b[0mverts\u001b[0m\u001b[1;33m,\u001b[0m \u001b[0mclosed\u001b[0m\u001b[1;33m)\u001b[0m\u001b[1;33m\u001b[0m\u001b[1;33m\u001b[0m\u001b[0m\n",
      "\u001b[1;32m~\\anaconda3\\lib\\site-packages\\matplotlib\\collections.py\u001b[0m in \u001b[0;36m__init__\u001b[1;34m(self, edgecolors, facecolors, linewidths, linestyles, capstyle, joinstyle, antialiaseds, offsets, transOffset, norm, cmap, pickradius, hatch, urls, zorder, **kwargs)\u001b[0m\n\u001b[0;32m    215\u001b[0m \u001b[1;33m\u001b[0m\u001b[0m\n\u001b[0;32m    216\u001b[0m         \u001b[0mself\u001b[0m\u001b[1;33m.\u001b[0m\u001b[0m_path_effects\u001b[0m \u001b[1;33m=\u001b[0m \u001b[1;32mNone\u001b[0m\u001b[1;33m\u001b[0m\u001b[1;33m\u001b[0m\u001b[0m\n\u001b[1;32m--> 217\u001b[1;33m         \u001b[0mself\u001b[0m\u001b[1;33m.\u001b[0m\u001b[0mupdate\u001b[0m\u001b[1;33m(\u001b[0m\u001b[0mkwargs\u001b[0m\u001b[1;33m)\u001b[0m\u001b[1;33m\u001b[0m\u001b[1;33m\u001b[0m\u001b[0m\n\u001b[0m\u001b[0;32m    218\u001b[0m         \u001b[0mself\u001b[0m\u001b[1;33m.\u001b[0m\u001b[0m_paths\u001b[0m \u001b[1;33m=\u001b[0m \u001b[1;32mNone\u001b[0m\u001b[1;33m\u001b[0m\u001b[1;33m\u001b[0m\u001b[0m\n\u001b[0;32m    219\u001b[0m \u001b[1;33m\u001b[0m\u001b[0m\n",
      "\u001b[1;32m~\\anaconda3\\lib\\site-packages\\matplotlib\\artist.py\u001b[0m in \u001b[0;36mupdate\u001b[1;34m(self, props)\u001b[0m\n\u001b[0;32m   1064\u001b[0m                         raise AttributeError(f\"{type(self).__name__!r} object \"\n\u001b[0;32m   1065\u001b[0m                                              f\"has no property {k!r}\")\n\u001b[1;32m-> 1066\u001b[1;33m                     \u001b[0mret\u001b[0m\u001b[1;33m.\u001b[0m\u001b[0mappend\u001b[0m\u001b[1;33m(\u001b[0m\u001b[0mfunc\u001b[0m\u001b[1;33m(\u001b[0m\u001b[0mv\u001b[0m\u001b[1;33m)\u001b[0m\u001b[1;33m)\u001b[0m\u001b[1;33m\u001b[0m\u001b[1;33m\u001b[0m\u001b[0m\n\u001b[0m\u001b[0;32m   1067\u001b[0m         \u001b[1;32mif\u001b[0m \u001b[0mret\u001b[0m\u001b[1;33m:\u001b[0m\u001b[1;33m\u001b[0m\u001b[1;33m\u001b[0m\u001b[0m\n\u001b[0;32m   1068\u001b[0m             \u001b[0mself\u001b[0m\u001b[1;33m.\u001b[0m\u001b[0mpchanged\u001b[0m\u001b[1;33m(\u001b[0m\u001b[1;33m)\u001b[0m\u001b[1;33m\u001b[0m\u001b[1;33m\u001b[0m\u001b[0m\n",
      "\u001b[1;32m~\\anaconda3\\lib\\site-packages\\matplotlib\\collections.py\u001b[0m in \u001b[0;36mset_color\u001b[1;34m(self, c)\u001b[0m\n\u001b[0;32m    738\u001b[0m             \u001b[0mFor\u001b[0m \u001b[0msetting\u001b[0m \u001b[0mthe\u001b[0m \u001b[0medge\u001b[0m \u001b[1;32mor\u001b[0m \u001b[0mface\u001b[0m \u001b[0mcolor\u001b[0m \u001b[0mindividually\u001b[0m\u001b[1;33m.\u001b[0m\u001b[1;33m\u001b[0m\u001b[1;33m\u001b[0m\u001b[0m\n\u001b[0;32m    739\u001b[0m         \"\"\"\n\u001b[1;32m--> 740\u001b[1;33m         \u001b[0mself\u001b[0m\u001b[1;33m.\u001b[0m\u001b[0mset_facecolor\u001b[0m\u001b[1;33m(\u001b[0m\u001b[0mc\u001b[0m\u001b[1;33m)\u001b[0m\u001b[1;33m\u001b[0m\u001b[1;33m\u001b[0m\u001b[0m\n\u001b[0m\u001b[0;32m    741\u001b[0m         \u001b[0mself\u001b[0m\u001b[1;33m.\u001b[0m\u001b[0mset_edgecolor\u001b[0m\u001b[1;33m(\u001b[0m\u001b[0mc\u001b[0m\u001b[1;33m)\u001b[0m\u001b[1;33m\u001b[0m\u001b[1;33m\u001b[0m\u001b[0m\n\u001b[0;32m    742\u001b[0m \u001b[1;33m\u001b[0m\u001b[0m\n",
      "\u001b[1;32m~\\anaconda3\\lib\\site-packages\\matplotlib\\collections.py\u001b[0m in \u001b[0;36mset_facecolor\u001b[1;34m(self, c)\u001b[0m\n\u001b[0;32m    767\u001b[0m             \u001b[0mc\u001b[0m \u001b[1;33m=\u001b[0m \u001b[0mc\u001b[0m\u001b[1;33m.\u001b[0m\u001b[0mlower\u001b[0m\u001b[1;33m(\u001b[0m\u001b[1;33m)\u001b[0m\u001b[1;33m\u001b[0m\u001b[1;33m\u001b[0m\u001b[0m\n\u001b[0;32m    768\u001b[0m         \u001b[0mself\u001b[0m\u001b[1;33m.\u001b[0m\u001b[0m_original_facecolor\u001b[0m \u001b[1;33m=\u001b[0m \u001b[0mc\u001b[0m\u001b[1;33m\u001b[0m\u001b[1;33m\u001b[0m\u001b[0m\n\u001b[1;32m--> 769\u001b[1;33m         \u001b[0mself\u001b[0m\u001b[1;33m.\u001b[0m\u001b[0m_set_facecolor\u001b[0m\u001b[1;33m(\u001b[0m\u001b[0mc\u001b[0m\u001b[1;33m)\u001b[0m\u001b[1;33m\u001b[0m\u001b[1;33m\u001b[0m\u001b[0m\n\u001b[0m\u001b[0;32m    770\u001b[0m \u001b[1;33m\u001b[0m\u001b[0m\n\u001b[0;32m    771\u001b[0m     \u001b[1;32mdef\u001b[0m \u001b[0mget_facecolor\u001b[0m\u001b[1;33m(\u001b[0m\u001b[0mself\u001b[0m\u001b[1;33m)\u001b[0m\u001b[1;33m:\u001b[0m\u001b[1;33m\u001b[0m\u001b[1;33m\u001b[0m\u001b[0m\n",
      "\u001b[1;32m~\\anaconda3\\lib\\site-packages\\matplotlib\\collections.py\u001b[0m in \u001b[0;36m_set_facecolor\u001b[1;34m(self, c)\u001b[0m\n\u001b[0;32m    749\u001b[0m             \u001b[0mc\u001b[0m \u001b[1;33m=\u001b[0m \u001b[0mself\u001b[0m\u001b[1;33m.\u001b[0m\u001b[0m_get_default_facecolor\u001b[0m\u001b[1;33m(\u001b[0m\u001b[1;33m)\u001b[0m\u001b[1;33m\u001b[0m\u001b[1;33m\u001b[0m\u001b[0m\n\u001b[0;32m    750\u001b[0m \u001b[1;33m\u001b[0m\u001b[0m\n\u001b[1;32m--> 751\u001b[1;33m         \u001b[0mself\u001b[0m\u001b[1;33m.\u001b[0m\u001b[0m_facecolors\u001b[0m \u001b[1;33m=\u001b[0m \u001b[0mmcolors\u001b[0m\u001b[1;33m.\u001b[0m\u001b[0mto_rgba_array\u001b[0m\u001b[1;33m(\u001b[0m\u001b[0mc\u001b[0m\u001b[1;33m,\u001b[0m \u001b[0mself\u001b[0m\u001b[1;33m.\u001b[0m\u001b[0m_alpha\u001b[0m\u001b[1;33m)\u001b[0m\u001b[1;33m\u001b[0m\u001b[1;33m\u001b[0m\u001b[0m\n\u001b[0m\u001b[0;32m    752\u001b[0m         \u001b[0mself\u001b[0m\u001b[1;33m.\u001b[0m\u001b[0mstale\u001b[0m \u001b[1;33m=\u001b[0m \u001b[1;32mTrue\u001b[0m\u001b[1;33m\u001b[0m\u001b[1;33m\u001b[0m\u001b[0m\n\u001b[0;32m    753\u001b[0m \u001b[1;33m\u001b[0m\u001b[0m\n",
      "\u001b[1;32m~\\anaconda3\\lib\\site-packages\\matplotlib\\colors.py\u001b[0m in \u001b[0;36mto_rgba_array\u001b[1;34m(c, alpha)\u001b[0m\n\u001b[0;32m    357\u001b[0m \u001b[1;33m\u001b[0m\u001b[0m\n\u001b[0;32m    358\u001b[0m     \u001b[1;32mif\u001b[0m \u001b[0misinstance\u001b[0m\u001b[1;33m(\u001b[0m\u001b[0mc\u001b[0m\u001b[1;33m,\u001b[0m \u001b[0mstr\u001b[0m\u001b[1;33m)\u001b[0m\u001b[1;33m:\u001b[0m\u001b[1;33m\u001b[0m\u001b[1;33m\u001b[0m\u001b[0m\n\u001b[1;32m--> 359\u001b[1;33m         raise ValueError(\"Using a string of single character colors as \"\n\u001b[0m\u001b[0;32m    360\u001b[0m                          \u001b[1;34m\"a color sequence is not supported. The colors can \"\u001b[0m\u001b[1;33m\u001b[0m\u001b[1;33m\u001b[0m\u001b[0m\n\u001b[0;32m    361\u001b[0m                          \"be passed as an explicit list instead.\")\n",
      "\u001b[1;31mValueError\u001b[0m: Using a string of single character colors as a color sequence is not supported. The colors can be passed as an explicit list instead."
     ]
    },
    {
     "data": {
      "image/png": "[encoded data removed]",
      "text/plain": [
       "<Figure size 640x480 with 1 Axes>"
      ]
     },
     "metadata": {},
     "output_type": "display_data"
    }
   ],
   "source": [
    "\n",
    "sns.kdeplot(df['MntWines'],fill=\"True\",color='g')\n",
    "sns.kdeplot(df['MntFruits'],fill=\"True\", color='b')\n",
    "sns.kdeplot(df['MntMeatProducts'],fill=\"True\", color='y')\n",
    "sns.kdeplot(df['MntFishProducts'],fill=\"True\", color='r')\n",
    "sns.kdeplot(df['MntSweetProducts'],fill=\"True\", color='o')\n",
    "sns.kdeplot(df['MntGoldProds'],fill=\"True\",color='v' )\n",
    "\n",
    "plt.legend()\n",
    "plt.show()"
   ]
  },
  {
   "cell_type": "code",
   "execution_count": 64,
   "id": "8d6e4d6d",
   "metadata": {},
   "outputs": [
    {
     "data": {
      "text/plain": [
       "Index(['ID', 'Year_Birth', 'Education', 'Marital_Status', 'Income', 'Kidhome',\n",
       "       'Teenhome', 'Dt_Customer', 'Recency', 'MntWines', 'MntFruits',\n",
       "       'MntMeatProducts', 'MntFishProducts', 'MntSweetProducts',\n",
       "       'MntGoldProds', 'NumDealsPurchases', 'NumWebPurchases',\n",
       "       'NumCatalogPurchases', 'NumStorePurchases', 'NumWebVisitsMonth',\n",
       "       'AcceptedCmp3', 'AcceptedCmp4', 'AcceptedCmp5', 'AcceptedCmp1',\n",
       "       'AcceptedCmp2', 'Complain', 'Z_CostContact', 'Z_Revenue', 'Response'],\n",
       "      dtype='object')"
      ]
     },
     "execution_count": 64,
     "metadata": {},
     "output_type": "execute_result"
    }
   ],
   "source": [
    "df.columns"
   ]
  },
  {
   "cell_type": "code",
   "execution_count": 70,
   "id": "5f3bd39c",
   "metadata": {},
   "outputs": [
    {
     "data": {
      "text/plain": [
       "MntWines           303.935714\n",
       "MntFishProducts     37.525446\n",
       "dtype: float64"
      ]
     },
     "execution_count": 70,
     "metadata": {},
     "output_type": "execute_result"
    }
   ],
   "source": [
    "df[['MntWines','MntFishProducts']].mean()"
   ]
  },
  {
   "cell_type": "code",
   "execution_count": 71,
   "id": "70109f28",
   "metadata": {},
   "outputs": [
    {
     "data": {
      "text/plain": [
       "MntWines           173.5\n",
       "MntFishProducts     12.0\n",
       "dtype: float64"
      ]
     },
     "execution_count": 71,
     "metadata": {},
     "output_type": "execute_result"
    }
   ],
   "source": [
    "df[['MntWines','MntFishProducts']].median()"
   ]
  },
  {
   "cell_type": "markdown",
   "id": "c0ea63e3",
   "metadata": {},
   "source": [
    "# plotly"
   ]
  },
  {
   "cell_type": "code",
   "execution_count": 74,
   "id": "5712f2f7",
   "metadata": {},
   "outputs": [],
   "source": [
    "import plotly as px"
   ]
  },
  {
   "cell_type": "code",
   "execution_count": null,
   "id": "802aad18",
   "metadata": {},
   "outputs": [],
   "source": []
  }
 ],
 "metadata": {
  "kernelspec": {
   "display_name": "Python 3 (ipykernel)",
   "language": "python",
   "name": "python3"
  },
  "language_info": {
   "codemirror_mode": {
    "name": "ipython",
    "version": 3
   },
   "file_extension": ".py",
   "mimetype": "text/x-python",
   "name": "python",
   "nbconvert_exporter": "python",
   "pygments_lexer": "ipython3",
   "version": "3.9.13"
  }
 },
 "nbformat": 4,
 "nbformat_minor": 5
}
